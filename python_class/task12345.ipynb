{
 "cells": [
  {
   "cell_type": "markdown",
   "id": "378657aa",
   "metadata": {},
   "source": [
    "# 1\n",
    "<!-- Conditional Execution and Loops \n",
    "Write a Python program that takes a list of integers as input and performs the following:\n",
    "- Removes all duplicate values.\n",
    "- Sorts the list in ascending order using the bubble sort algorithm. \n",
    "- Prints the sorted list. -->"
   ]
  },
  {
   "cell_type": "code",
   "execution_count": 20,
   "id": "dc44d40b",
   "metadata": {},
   "outputs": [
    {
     "name": "stdout",
     "output_type": "stream",
     "text": [
      "[1, 2, 4, 5]\n"
     ]
    }
   ],
   "source": [
    "n=int(input(\"enter  the length of list\"))\n",
    "l=[]\n",
    "\n",
    "for i in range(n):\n",
    "    el=int(input(\"enter the element\"))\n",
    "    \n",
    "    l.append(el)\n",
    "\n",
    "# remove duplcate\n",
    "uniqu=[]\n",
    "for i in l:\n",
    "    if i not in uniqu:\n",
    "        uniqu.append(i)\n",
    "    \n",
    "\n",
    "# sort\n",
    "for i in range(0,len(uniqu)):\n",
    "    for j in range(i+1,len(uniqu)):\n",
    "        if uniqu[i]>uniqu[j]:\n",
    "            tmp=uniqu[i]\n",
    "            uniqu[i]=uniqu[j]\n",
    "            uniqu[j]=tmp\n",
    "print(uniqu)\n",
    "\n",
    "\n"
   ]
  },
  {
   "cell_type": "markdown",
   "id": "e4ad714e",
   "metadata": {},
   "source": [
    "# 2"
   ]
  },
  {
   "cell_type": "code",
   "execution_count": 25,
   "id": "ca69ae71",
   "metadata": {},
   "outputs": [
    {
     "name": "stdout",
     "output_type": "stream",
     "text": [
      "['Ram', 'sham']\n"
     ]
    }
   ],
   "source": [
    "def check(dict):\n",
    "    if not dict:\n",
    "        return []\n",
    "    maxi=max(dict.values())\n",
    "    st=[i for i ,score in dict.items() if score==maxi]\n",
    "\n",
    "    return st if len(st)>1 else st[0]\n",
    "\n",
    "\n",
    "dict={\n",
    "    \"Vishal\":85,\n",
    "    \"Ram\":87,\n",
    "    \"sham\":87,\n",
    "    \"Prince\":45\n",
    "}\n",
    "\n",
    "print(check(dict))\n",
    "\n"
   ]
  },
  {
   "cell_type": "markdown",
   "id": "004d0899",
   "metadata": {},
   "source": [
    "# #"
   ]
  },
  {
   "cell_type": "markdown",
   "id": "a4473fa6",
   "metadata": {},
   "source": [
    "# 3"
   ]
  },
  {
   "cell_type": "code",
   "execution_count": null,
   "id": "08065ea4",
   "metadata": {},
   "outputs": [
    {
     "name": "stdout",
     "output_type": "stream",
     "text": [
      "file not found\n"
     ]
    }
   ],
   "source": [
    "import collections\n",
    "\n",
    "try:\n",
    "    with open('demo.txt','r') as file:\n",
    "        content=file.read()\n",
    "        if not content.strip():\n",
    "            raise ValueError('empty file')\n",
    "        \n",
    "        word=content.split()\n",
    "        cnt=collections.Counter(word)\n",
    "\n",
    "        print(cnt)\n",
    "except FileNotFoundError:\n",
    "    print(\"file not found\")\n",
    "\n",
    "\n",
    "\n"
   ]
  },
  {
   "cell_type": "markdown",
   "id": "c4c101e2",
   "metadata": {},
   "source": [
    "# #"
   ]
  },
  {
   "cell_type": "markdown",
   "id": "65d4cdc9",
   "metadata": {},
   "source": [
    "# 4"
   ]
  },
  {
   "cell_type": "code",
   "execution_count": 26,
   "id": "28e5c8d0",
   "metadata": {},
   "outputs": [
    {
     "name": "stdout",
     "output_type": "stream",
     "text": [
      "Valid\n"
     ]
    }
   ],
   "source": [
    "import re\n",
    "regex = r'^[a-zA-Z0-9._%+-]+@[a-zA-Z0-9.-]+\\.[a-zA-Z]{2,}$'\n",
    "email=input(\"enter your email id\")\n",
    "if re.match(regex, email):\n",
    "        print(\"Valid\")\n",
    "else:\n",
    "        print(\"Invalid\")\n"
   ]
  },
  {
   "cell_type": "code",
   "execution_count": null,
   "id": "f362f98b",
   "metadata": {},
   "outputs": [],
   "source": [
    "import json\n",
    "li=[\n",
    "    {\n",
    "        \"Name\": \"Abc\",\n",
    "        \"Age\":25,\n",
    "        \"Deoartment\":\"It\"\n",
    "    },\n",
    "     {\n",
    "        \"Name\": \"Ram\",\n",
    "        \"Age\":22,\n",
    "        \"Deoartment\":\"tech\"\n",
    "    },\n",
    "     {\n",
    "        \"Name\": \"sham\",\n",
    "        \"Age\":28,\n",
    "        \"Deoartment\":\"tech\"\n",
    "    }\n",
    "\n",
    "]\n",
    "\n",
    "with open('new.json','w') as f:\n",
    "    json.dump(li,f,indent=3)\n",
    "\n",
    "\n",
    "with open('new.json','r') as f:\n",
    "    emp=json.load(f)\n",
    "    \n",
    "filemp=[i for i in emp if i['Age']<=25]\n",
    "\n",
    "with open('filt.json','w')as fil:\n",
    "    json.dump(filemp,fil,indent=4) \n",
    "  \n",
    "\n"
   ]
  },
  {
   "cell_type": "markdown",
   "id": "e06ad356",
   "metadata": {},
   "source": [
    "# 6"
   ]
  },
  {
   "cell_type": "code",
   "execution_count": null,
   "id": "dfbd0fa3",
   "metadata": {},
   "outputs": [
    {
     "name": "stdout",
     "output_type": "stream",
     "text": [
      "[2]\n"
     ]
    }
   ],
   "source": [
    "n=int(input(\"nter the length of list\"))\n",
    "l=[]\n",
    "\n",
    "for i in range(n):\n",
    "    el=int(input(\"enter the value of list element\"))\n",
    "    l.append(el)\n",
    "\n",
    "res=sorted([i for i in l if i%2==0],reverse=True)\n",
    "\n",
    "print(res)\n",
    "\n"
   ]
  },
  {
   "cell_type": "markdown",
   "id": "41515069",
   "metadata": {},
   "source": [
    "# 7"
   ]
  },
  {
   "cell_type": "code",
   "execution_count": 69,
   "id": "34aff335",
   "metadata": {},
   "outputs": [
    {
     "name": "stdout",
     "output_type": "stream",
     "text": [
      "{'a': 1, 'b': 2, 'c': 3, 'd': 4, 'e': 5, 'f': 6, 'g': 7, 'h': 8, 'i': 9, 'j': 10}\n"
     ]
    }
   ],
   "source": [
    "alphabet_positions = {chr(i): i - 96 for i in range(97, 107)}\n",
    "\n",
    "# Print the dictionary\n",
    "print(alphabet_positions)"
   ]
  },
  {
   "cell_type": "markdown",
   "id": "79a6b680",
   "metadata": {},
   "source": [
    "# 9"
   ]
  },
  {
   "cell_type": "code",
   "execution_count": 67,
   "id": "23f567a1",
   "metadata": {},
   "outputs": [
    {
     "name": "stdout",
     "output_type": "stream",
     "text": [
      "['support@example.com', 'sales@example.co.in']\n"
     ]
    }
   ],
   "source": [
    "import re\n",
    "def find(s):\n",
    "    pat=  r'[a-zA-Z0-9._%+-]+@[a-zA-Z0-9.-]+\\.[a-zA-Z]{2,}'\n",
    "    email=re.findall(pat,s)\n",
    "    return email\n",
    "\n",
    "s=input(\"enter the string\")\n",
    "print(find(s))\n"
   ]
  },
  {
   "cell_type": "code",
   "execution_count": 81,
   "id": "04e98fa7",
   "metadata": {},
   "outputs": [
    {
     "name": "stdout",
     "output_type": "stream",
     "text": [
      "deposit = 10  balance =1010\n"
     ]
    },
    {
     "ename": "ins",
     "evalue": "withdrawl amount is insufficuant",
     "output_type": "error",
     "traceback": [
      "\u001b[31m---------------------------------------------------------------------------\u001b[39m",
      "\u001b[31mins\u001b[39m                                       Traceback (most recent call last)",
      "\u001b[36mCell\u001b[39m\u001b[36m \u001b[39m\u001b[32mIn[81]\u001b[39m\u001b[32m, line 30\u001b[39m\n\u001b[32m     28\u001b[39m account = BankAccount(\u001b[33m\"\u001b[39m\u001b[33m123456789\u001b[39m\u001b[33m\"\u001b[39m, \u001b[32m1000\u001b[39m)\n\u001b[32m     29\u001b[39m account.dpst(\u001b[32m10\u001b[39m)\n\u001b[32m---> \u001b[39m\u001b[32m30\u001b[39m \u001b[43maccount\u001b[49m\u001b[43m.\u001b[49m\u001b[43mwithdr\u001b[49m\u001b[43m(\u001b[49m\u001b[32;43m1200\u001b[39;49m\u001b[43m)\u001b[49m\n\u001b[32m     31\u001b[39m \u001b[38;5;28mprint\u001b[39m(account.get())\n",
      "\u001b[36mCell\u001b[39m\u001b[36m \u001b[39m\u001b[32mIn[81]\u001b[39m\u001b[32m, line 18\u001b[39m, in \u001b[36mBankAccount.withdr\u001b[39m\u001b[34m(self, amount)\u001b[39m\n\u001b[32m     16\u001b[39m \u001b[38;5;28;01mdef\u001b[39;00m\u001b[38;5;250m \u001b[39m\u001b[34mwithdr\u001b[39m(\u001b[38;5;28mself\u001b[39m,amount):\n\u001b[32m     17\u001b[39m     \u001b[38;5;28;01mif\u001b[39;00m amount>\u001b[38;5;28mself\u001b[39m.balance:\n\u001b[32m---> \u001b[39m\u001b[32m18\u001b[39m         \u001b[38;5;28;01mraise\u001b[39;00m ins(\u001b[33m\"\u001b[39m\u001b[33mwithdrawl amount is insufficuant\u001b[39m\u001b[33m\"\u001b[39m)\n\u001b[32m     19\u001b[39m     \u001b[38;5;28;01melif\u001b[39;00m amount<=\u001b[32m0\u001b[39m:\n\u001b[32m     20\u001b[39m         \u001b[38;5;28mprint\u001b[39m(\u001b[33m\"\u001b[39m\u001b[33mwihtdrawl amount shoud be positive\u001b[39m\u001b[33m\"\u001b[39m)\n",
      "\u001b[31mins\u001b[39m: withdrawl amount is insufficuant"
     ]
    }
   ],
   "source": [
    "class ins(Exception):\n",
    "    \"\"\" balance is insufficiant \"\"\"\n",
    "    pass\n",
    "class BankAccount:\n",
    "    def __init__(self,acount,inamount=0):\n",
    "        self.acount=acount\n",
    "        self.balance=inamount\n",
    "    \n",
    "    def dpst(self,amount):\n",
    "        if amount>0:\n",
    "            self.balance+=amount\n",
    "            print(f'deposit = {amount}  balance ={self.balance}')\n",
    "\n",
    "        else:\n",
    "            print(\"amount should be positive\")\n",
    "    def withdr(self,amount):\n",
    "        if amount>self.balance:\n",
    "            raise ins(\"withdrawl amount is insufficuant\")\n",
    "        elif amount<=0:\n",
    "            print(\"wihtdrawl amount shoud be positive\")\n",
    "        else:\n",
    "            self.balance-=amount\n",
    "            print(f'withdrawl amount = {amount} balance = {self.balance}')\n",
    "        \n",
    "    def get(self):\n",
    "        return self.balance\n",
    "    \n",
    "account = BankAccount(\"123456789\", 1000)\n",
    "account.dpst(10)\n",
    "account.withdr(1200)\n",
    "print(account.get())"
   ]
  }
 ],
 "metadata": {
  "kernelspec": {
   "display_name": "Python 3",
   "language": "python",
   "name": "python3"
  },
  "language_info": {
   "codemirror_mode": {
    "name": "ipython",
    "version": 3
   },
   "file_extension": ".py",
   "mimetype": "text/x-python",
   "name": "python",
   "nbconvert_exporter": "python",
   "pygments_lexer": "ipython3",
   "version": "3.12.3"
  }
 },
 "nbformat": 4,
 "nbformat_minor": 5
}
