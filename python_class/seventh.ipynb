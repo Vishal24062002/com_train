{
 "cells": [
  {
   "cell_type": "code",
   "execution_count": null,
   "id": "f3cce64c",
   "metadata": {},
   "outputs": [],
   "source": []
  },
  {
   "cell_type": "code",
   "execution_count": null,
   "id": "edd7c242",
   "metadata": {},
   "outputs": [],
   "source": []
  },
  {
   "cell_type": "code",
   "execution_count": null,
   "id": "ececcdce",
   "metadata": {},
   "outputs": [
    {
     "name": "stdout",
     "output_type": "stream",
     "text": [
      "log entry has been written to the log file\n"
     ]
    }
   ],
   "source": [
    "# task 1>>\n",
    "import datetime\n",
    "now= datetime.datetime.now()\n",
    "\n",
    "msg=f\"log entry created at {now} : this is a message\"\n",
    "\n",
    "with open(\"demo.txt\",'a') as file:\n",
    "\n",
    "    file.write(msg +\" \\n \")\n",
    "\n",
    "print(\"log entry has been written to the log file\")\n"
   ]
  },
  {
   "cell_type": "code",
   "execution_count": null,
   "id": "93687646",
   "metadata": {},
   "outputs": [
    {
     "name": "stdout",
     "output_type": "stream",
     "text": [
      "<class 'dict'>\n"
     ]
    }
   ],
   "source": [
    "import json\n",
    "# json file contain data in key value pair\n",
    "\n",
    "with open('data.json','r') as j:\n",
    "    d=json.load(j)\n",
    "\n",
    "print(type(d))\n"
   ]
  },
  {
   "cell_type": "code",
   "execution_count": null,
   "id": "dd4d1634",
   "metadata": {},
   "outputs": [
    {
     "name": "stdout",
     "output_type": "stream",
     "text": [
      "{\"name\": \"abc\", \"class\": \"aa\", \"address\": \"delhi\", \"age\": 12}\n"
     ]
    }
   ],
   "source": [
    "d={ \"name\": \"abc\",\n",
    "    \"class\": \"aa\",\n",
    "    \"address\": \"delhi\",\n",
    "    'age':12\n",
    "    }\n",
    "j_obj=json.dumps(d)\n",
    "print(j_obj)\n",
    "with open('data.json','w') as w:\n",
    "    json.dump(d,w,indent=4)  # data ,file\n"
   ]
  },
  {
   "cell_type": "code",
   "execution_count": 18,
   "id": "da2228a6",
   "metadata": {},
   "outputs": [
    {
     "name": "stdout",
     "output_type": "stream",
     "text": [
      "<class 'str'>\n",
      "{'name': 'abc', 'class': 'aa', 'address': 'delhi', 'age': 12}\n"
     ]
    }
   ],
   "source": [
    "import json\n",
    "d={ \"name\": \"abc\",\n",
    "    \"class\": \"aa\",\n",
    "    \"address\": \"delhi\",\n",
    "    'age':12\n",
    "    }\n",
    "\n",
    "j_obj=json.dumps(d) # to convert a py object to json\n",
    "p_obj=json.loads(j_obj) # json to py\n",
    "\n",
    "print(type(j_obj))\n",
    "print(p_obj)\n",
    "\n",
    "\n",
    "with open('new.json','w') as w:\n",
    "    json.dump(d,w,indent=4,sort_keys=False)\n",
    "\n"
   ]
  },
  {
   "cell_type": "code",
   "execution_count": null,
   "id": "7fc4bdb2",
   "metadata": {},
   "outputs": [
    {
     "name": "stdout",
     "output_type": "stream",
     "text": [
      "{'name': 'abc', 'class': 'aa', 'address': 'delhi', 'age': 12}\n"
     ]
    }
   ],
   "source": [
    "with open('new.json','r') as w:\n",
    "    d=json.load(w)\n",
    "print(d)\n",
    "d['pincode']=132039\n",
    "\n",
    "with open('new.json','w') as w:\n",
    "    json.dump(d,w,indent=4)\n"
   ]
  },
  {
   "cell_type": "code",
   "execution_count": 28,
   "id": "e48f5895",
   "metadata": {},
   "outputs": [
    {
     "name": "stdout",
     "output_type": "stream",
     "text": [
      "commu\n",
      "rec\n"
     ]
    }
   ],
   "source": [
    "d={\n",
    "    \"empl\":{\n",
    "        \"id\":108,\n",
    "        \"name\":\"Ravi\",\n",
    "        \"depa\":\"Ravi\",\n",
    "        \"skills\":\"hr\",\n",
    "        \"skills\":[\"commu\",\"rec\"],\n",
    "        \"add\":{\n",
    "            \"city\":\"delhi\",\n",
    "            \"zip\":110011\n",
    "        }\n",
    "\n",
    "\n",
    "    }\n",
    "}\n",
    "\n",
    "with open(\"nxe.json\",'w') as ab:\n",
    "    json.dump(d,ab, indent=4)\n",
    "\n",
    "with open(\"nxe.json\",\"w\") as ab:\n",
    "    json.dump(d,ab,indent=4)\n",
    "skill=d[\"empl\"][\"skills\"]\n",
    "for i in skill:\n",
    "    print(i)"
   ]
  },
  {
   "cell_type": "code",
   "execution_count": 35,
   "id": "376069ff",
   "metadata": {},
   "outputs": [
    {
     "name": "stdout",
     "output_type": "stream",
     "text": [
      "{'empl': {'id': 108, 'name': 'Ravi', 'depa': 'Ravi', 'skills': ['commu', 'rec'], 'add': {'city': 'delhi', 'zip': 110011}}}\n"
     ]
    }
   ],
   "source": [
    "with open('nxe.json','r') as w:\n",
    "    d=json.load(w)\n",
    "print(d)\n",
    "d['empl']['add']['zip'] = '144411'\n",
    " \n",
    "\n",
    "with open('nxe.json','w') as w:\n",
    "    json.dump(d,w,indent=4)"
   ]
  },
  {
   "cell_type": "code",
   "execution_count": 37,
   "id": "adf045cd",
   "metadata": {},
   "outputs": [],
   "source": [
    "import csv\n",
    "\n",
    "l=[['dave',11,'new york'],\n",
    "   ['max',12,'london']]\n",
    "\n",
    "with open('people.csv','a',newline='')as c:\n",
    "    writer=csv.writer(c)\n",
    "    writer.writerows(l)"
   ]
  },
  {
   "cell_type": "code",
   "execution_count": 39,
   "id": "864b65a1",
   "metadata": {},
   "outputs": [],
   "source": [
    "\n",
    "l=[['vishal','new york'],\n",
    "   ['mahima','london']]\n",
    "\n",
    "with open('pe.csv','a',newline='')as c:\n",
    "    writer=csv.writer(c)\n",
    "    writer.writerows(l)"
   ]
  },
  {
   "cell_type": "code",
   "execution_count": 40,
   "id": "dc91d160",
   "metadata": {},
   "outputs": [
    {
     "name": "stdout",
     "output_type": "stream",
     "text": [
      "[{\"['dave', 11, 'new york']\": 'dave', \"['max', 12, 'london']\": '11', None: ['new york']}, {\"['dave', 11, 'new york']\": 'max', \"['max', 12, 'london']\": '12', None: ['london']}, {\"['dave', 11, 'new york']\": 'vishal', \"['max', 12, 'london']\": 'new york'}, {\"['dave', 11, 'new york']\": 'mahima', \"['max', 12, 'london']\": 'london'}]\n"
     ]
    }
   ],
   "source": [
    "with open(\"people.csv\",'r') as c:\n",
    "    reader=csv.DictReader(c)\n",
    "    print(list(reader))\n",
    "    for i in reader:\n",
    "        print(i['name'],i['age'],i['city'])"
   ]
  },
  {
   "cell_type": "code",
   "execution_count": null,
   "id": "74917d4f",
   "metadata": {},
   "outputs": [],
   "source": []
  },
  {
   "cell_type": "markdown",
   "id": "9fe235b1",
   "metadata": {},
   "source": [
    "# jai shree ram❤"
   ]
  },
  {
   "cell_type": "code",
   "execution_count": 43,
   "id": "e7f98a6c",
   "metadata": {},
   "outputs": [
    {
     "ename": "ValueError",
     "evalue": "I/O operation on closed file.",
     "output_type": "error",
     "traceback": [
      "\u001b[31m---------------------------------------------------------------------------\u001b[39m",
      "\u001b[31mValueError\u001b[39m                                Traceback (most recent call last)",
      "\u001b[36mCell\u001b[39m\u001b[36m \u001b[39m\u001b[32mIn[43]\u001b[39m\u001b[32m, line 9\u001b[39m\n\u001b[32m      1\u001b[39m li=[{\u001b[33m'\u001b[39m\u001b[33mname\u001b[39m\u001b[33m'\u001b[39m:\u001b[33m'\u001b[39m\u001b[33mvishal\u001b[39m\u001b[33m'\u001b[39m,\u001b[33m'\u001b[39m\u001b[33mage\u001b[39m\u001b[33m'\u001b[39m:\u001b[33m'\u001b[39m\u001b[33m10\u001b[39m\u001b[33m'\u001b[39m,\u001b[33m'\u001b[39m\u001b[33mcity\u001b[39m\u001b[33m'\u001b[39m: \u001b[33m'\u001b[39m\u001b[33mnew york\u001b[39m\u001b[33m'\u001b[39m},\n\u001b[32m      2\u001b[39m     {\u001b[33m'\u001b[39m\u001b[33mname\u001b[39m\u001b[33m'\u001b[39m:\u001b[33m'\u001b[39m\u001b[33mvishal\u001b[39m\u001b[33m'\u001b[39m,\u001b[33m'\u001b[39m\u001b[33mage\u001b[39m\u001b[33m'\u001b[39m:\u001b[33m'\u001b[39m\u001b[33m10\u001b[39m\u001b[33m'\u001b[39m,\u001b[33m'\u001b[39m\u001b[33mcity\u001b[39m\u001b[33m'\u001b[39m: \u001b[33m'\u001b[39m\u001b[33mnew york\u001b[39m\u001b[33m'\u001b[39m},\n\u001b[32m      3\u001b[39m     {\u001b[33m'\u001b[39m\u001b[33mname\u001b[39m\u001b[33m'\u001b[39m:\u001b[33m'\u001b[39m\u001b[33mvishal\u001b[39m\u001b[33m'\u001b[39m,\u001b[33m'\u001b[39m\u001b[33mage\u001b[39m\u001b[33m'\u001b[39m:\u001b[33m'\u001b[39m\u001b[33m10\u001b[39m\u001b[33m'\u001b[39m,\u001b[33m'\u001b[39m\u001b[33mcity\u001b[39m\u001b[33m'\u001b[39m: \u001b[33m'\u001b[39m\u001b[33mnew york\u001b[39m\u001b[33m'\u001b[39m},\n\u001b[32m   (...)\u001b[39m\u001b[32m      6\u001b[39m     {\u001b[33m'\u001b[39m\u001b[33mname\u001b[39m\u001b[33m'\u001b[39m:\u001b[33m'\u001b[39m\u001b[33mvishal\u001b[39m\u001b[33m'\u001b[39m,\u001b[33m'\u001b[39m\u001b[33mage\u001b[39m\u001b[33m'\u001b[39m:\u001b[33m'\u001b[39m\u001b[33m10\u001b[39m\u001b[33m'\u001b[39m,\u001b[33m'\u001b[39m\u001b[33mcity\u001b[39m\u001b[33m'\u001b[39m: \u001b[33m'\u001b[39m\u001b[33mnew york\u001b[39m\u001b[33m'\u001b[39m}\n\u001b[32m      7\u001b[39m     ]\n\u001b[32m      8\u001b[39m \u001b[38;5;28;01mwith\u001b[39;00m \u001b[38;5;28mopen\u001b[39m(\u001b[33m'\u001b[39m\u001b[33mpeople.csv\u001b[39m\u001b[33m'\u001b[39m,\u001b[33m'\u001b[39m\u001b[33mw\u001b[39m\u001b[33m'\u001b[39m,newline=\u001b[33m'\u001b[39m\u001b[33m'\u001b[39m)\u001b[38;5;28;01mas\u001b[39;00m v:\n\u001b[32m----> \u001b[39m\u001b[32m9\u001b[39m     writer=\u001b[43mcsv\u001b[49m\u001b[43m.\u001b[49m\u001b[43mDictReader\u001b[49m\u001b[43m(\u001b[49m\u001b[43mw\u001b[49m\u001b[43m,\u001b[49m\u001b[43mfieldnames\u001b[49m\u001b[43m=\u001b[49m\u001b[43m[\u001b[49m\u001b[33;43m'\u001b[39;49m\u001b[33;43mname\u001b[39;49m\u001b[33;43m'\u001b[39;49m\u001b[43m,\u001b[49m\u001b[33;43m'\u001b[39;49m\u001b[33;43mage\u001b[39;49m\u001b[33;43m'\u001b[39;49m\u001b[43m,\u001b[49m\u001b[33;43m'\u001b[39;49m\u001b[33;43mcity\u001b[39;49m\u001b[33;43m'\u001b[39;49m\u001b[43m]\u001b[49m\u001b[43m)\u001b[49m\n\u001b[32m     10\u001b[39m     writer.writeheader()\n\u001b[32m     11\u001b[39m     writer.writerows(li)\n",
      "\u001b[36mFile \u001b[39m\u001b[32mc:\\Program Files\\Python312\\Lib\\csv.py:91\u001b[39m, in \u001b[36mDictReader.__init__\u001b[39m\u001b[34m(self, f, fieldnames, restkey, restval, dialect, *args, **kwds)\u001b[39m\n\u001b[32m     89\u001b[39m \u001b[38;5;28mself\u001b[39m.restkey = restkey          \u001b[38;5;66;03m# key to catch long rows\u001b[39;00m\n\u001b[32m     90\u001b[39m \u001b[38;5;28mself\u001b[39m.restval = restval          \u001b[38;5;66;03m# default value for short rows\u001b[39;00m\n\u001b[32m---> \u001b[39m\u001b[32m91\u001b[39m \u001b[38;5;28mself\u001b[39m.reader = \u001b[43mreader\u001b[49m\u001b[43m(\u001b[49m\u001b[43mf\u001b[49m\u001b[43m,\u001b[49m\u001b[43m \u001b[49m\u001b[43mdialect\u001b[49m\u001b[43m,\u001b[49m\u001b[43m \u001b[49m\u001b[43m*\u001b[49m\u001b[43margs\u001b[49m\u001b[43m,\u001b[49m\u001b[43m \u001b[49m\u001b[43m*\u001b[49m\u001b[43m*\u001b[49m\u001b[43mkwds\u001b[49m\u001b[43m)\u001b[49m\n\u001b[32m     92\u001b[39m \u001b[38;5;28mself\u001b[39m.dialect = dialect\n\u001b[32m     93\u001b[39m \u001b[38;5;28mself\u001b[39m.line_num = \u001b[32m0\u001b[39m\n",
      "\u001b[31mValueError\u001b[39m: I/O operation on closed file."
     ]
    }
   ],
   "source": [
    "li=[{'name':'vishal','age':'10','city': 'new york'},\n",
    "    {'name':'vishal','age':'10','city': 'new york'},\n",
    "    {'name':'vishal','age':'10','city': 'new york'},\n",
    "    {'name':'vishal','age':'10','city': 'new york'},\n",
    "    {'name':'vishal','age':'10','city': 'new york'},\n",
    "    {'name':'vishal','age':'10','city': 'new york'}\n",
    "    ]\n",
    "with open('people.csv','w',newline='')as v:\n",
    "    writer=csv.DictReader(w,fieldnames=['name','age','city'])\n",
    "    writer.writeheader()\n",
    "    writer.writerows(li)"
   ]
  },
  {
   "cell_type": "code",
   "execution_count": null,
   "id": "a3192686",
   "metadata": {},
   "outputs": [],
   "source": [
    "import csv\n",
    "li=[{'name':'vishal','age':'10','city': 'new york'},\n",
    "    {'name':'vishal','age':'10','city': 'new york'},\n",
    "    {'name':'vishal','age':'10','city': 'new york'},\n",
    "    {'name':'vishal','age':'10','city': 'new york'},\n",
    "    {'name':'vishal','age':'10','city': 'new york'},\n",
    "    {'name':'vishal','age':'10','city': 'new york'}\n",
    "    ]\n",
    "with open('people.csv','w',newline='')as w:\n",
    "    writer=csv.DictWriter(w,fieldnames=['name','age','city'])\n",
    "    writer.writeheader()\n",
    "    \n",
    "    writer.writerows(li)\n"
   ]
  },
  {
   "cell_type": "code",
   "execution_count": 44,
   "id": "73c8006e",
   "metadata": {},
   "outputs": [],
   "source": [
    "import csv\n",
    "fei=['name','branch','year','cgpa']\n",
    "rows=[['nikhil','coe','2','9.0'],\n",
    "      ['vishal','cos','2','9.0'],\n",
    "      ['prince','coe','2','9.0'],\n",
    "      ['seenu','coe','2','9.0'],\n",
    "      ['nikhil','coe','2','9.0'],\n",
    "      \n",
    "      ]\n",
    "\n",
    "with open('test.csv','w')as csvfile:\n",
    "    csvwriter = csv.writer(csvfile,dialect='excel')\n",
    "    csvwriter.writerow(fei)\n",
    "    csvwriter.writerows(rows)\n",
    "    "
   ]
  },
  {
   "cell_type": "code",
   "execution_count": null,
   "id": "d6f23189",
   "metadata": {},
   "outputs": [],
   "source": [
    "# yaml "
   ]
  },
  {
   "cell_type": "code",
   "execution_count": null,
   "id": "1b6b7aad",
   "metadata": {},
   "outputs": [],
   "source": [
    "import yaml\n",
    "\n",
    "d={\n",
    "    \"name \": \"desktop\",\n",
    "    \"version\":1.2,\n",
    "    \"usser\":['john','max']\n",
    "}\n",
    "\n",
    "with open('')\n"
   ]
  },
  {
   "cell_type": "code",
   "execution_count": 45,
   "id": "ccadcf0a",
   "metadata": {},
   "outputs": [
    {
     "name": "stdout",
     "output_type": "stream",
     "text": [
      "age: 30\n",
      "city: New York\n",
      "courses:\n",
      "- Math\n",
      "- Science\n",
      "- History\n",
      "is_student: false\n",
      "name: John Doe\n",
      "\n"
     ]
    }
   ],
   "source": [
    "# json to yaml\n",
    "import json\n",
    "import yaml\n",
    "\n",
    "\n",
    "json_data = '''\n",
    "{\n",
    "    \"name\": \"John Doe\",\n",
    "    \"age\": 30,\n",
    "    \"city\": \"New York\",\n",
    "    \"is_student\": false,\n",
    "    \"courses\": [\"Math\", \"Science\", \"History\"]\n",
    "}\n",
    "'''\n",
    "\n",
    "\n",
    "data = json.loads(json_data)\n",
    "\n",
    "\n",
    "yaml_data = yaml.dump(data, default_flow_style=False)\n",
    "\n",
    "\n",
    "print(yaml_data)\n"
   ]
  }
 ],
 "metadata": {
  "kernelspec": {
   "display_name": "Python 3",
   "language": "python",
   "name": "python3"
  },
  "language_info": {
   "codemirror_mode": {
    "name": "ipython",
    "version": 3
   },
   "file_extension": ".py",
   "mimetype": "text/x-python",
   "name": "python",
   "nbconvert_exporter": "python",
   "pygments_lexer": "ipython3",
   "version": "3.12.3"
  }
 },
 "nbformat": 4,
 "nbformat_minor": 5
}
