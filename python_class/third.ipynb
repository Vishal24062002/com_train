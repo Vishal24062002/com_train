{
 "cells": [
  {
   "cell_type": "code",
   "execution_count": 2,
   "metadata": {},
   "outputs": [
    {
     "name": "stdout",
     "output_type": "stream",
     "text": [
      "hello\n",
      "hello\n",
      "hello\n",
      "hello\n",
      "hello\n",
      "end\n"
     ]
    }
   ],
   "source": [
    "#while loop\n",
    "n=0 #innitilize\n",
    "while n<5:\n",
    "    print(\"hello\")\n",
    "    n+=1 #update\n",
    "else:\n",
    "    print(\"end\")"
   ]
  },
  {
   "cell_type": "code",
   "execution_count": 4,
   "metadata": {},
   "outputs": [
    {
     "name": "stdout",
     "output_type": "stream",
     "text": [
      "hello\n",
      "hello\n"
     ]
    }
   ],
   "source": [
    "# control statement   --> break continue  pass\n",
    "\n",
    "n=0\n",
    "while n<5:\n",
    "    if n==2:\n",
    "        break\n",
    "    else:\n",
    "        print(\"hello\")\n",
    "    n+=1"
   ]
  },
  {
   "cell_type": "code",
   "execution_count": 16,
   "metadata": {},
   "outputs": [
    {
     "name": "stdout",
     "output_type": "stream",
     "text": [
      "s\n"
     ]
    }
   ],
   "source": [
    "for i in 'vishal':\n",
    "    if i=='s':\n",
    "        print(i)\n",
    "    pass\n",
    "    \n",
    "    \n"
   ]
  },
  {
   "cell_type": "code",
   "execution_count": 64,
   "metadata": {},
   "outputs": [
    {
     "name": "stdout",
     "output_type": "stream",
     "text": [
      "\n",
      "* \n",
      "* * \n",
      "* * * \n",
      "* * * * \n",
      "* * * * * \n",
      "* * * * * * \n",
      "* * * * * \n",
      "* * * * \n",
      "* * * \n",
      "* * \n",
      "* \n"
     ]
    }
   ],
   "source": [
    "for i in range(0,6):\n",
    "    for j in range(0,i):\n",
    "        print(\"* \", end=\"\")\n",
    "    print()\n",
    "\n",
    "for i in range(6,0,-1):\n",
    "    for j in range(0,i):\n",
    "        print(\"* \", end=\"\")\n",
    "    print()\n",
    "  "
   ]
  },
  {
   "cell_type": "code",
   "execution_count": null,
   "metadata": {},
   "outputs": [
    {
     "name": "stdout",
     "output_type": "stream",
     "text": [
      "1 2 3 5 8 "
     ]
    }
   ],
   "source": [
    "n=int(input(\"enter the value of n\"))\n",
    "a=0\n",
    "b=1\n",
    "print(a,end=\" \")\n",
    "print(b,end=\" \")\n",
    "for i in range(n):\n",
    "    ab=a+b\n",
    "    print(ab,end=\" \")\n",
    "    a=b\n",
    "    b=ab"
   ]
  },
  {
   "cell_type": "code",
   "execution_count": null,
   "metadata": {},
   "outputs": [
    {
     "name": "stdout",
     "output_type": "stream",
     "text": [
      "hello\n"
     ]
    }
   ],
   "source": [
    "# function\n",
    "\n",
    "def add():\n",
    "    return a+b\n",
    "add()"
   ]
  },
  {
   "cell_type": "code",
   "execution_count": null,
   "metadata": {},
   "outputs": [
    {
     "name": "stdout",
     "output_type": "stream",
     "text": [
      "600.0\n"
     ]
    }
   ],
   "source": [
    "#with parameter without return type\n",
    "def si(p,r,t):\n",
    "    print((p*r*t)/100)\n",
    "si(1000,5,12)\n",
    "\n"
   ]
  },
  {
   "cell_type": "code",
   "execution_count": null,
   "metadata": {},
   "outputs": [
    {
     "data": {
      "text/plain": [
       "14400.0"
      ]
     },
     "execution_count": 38,
     "metadata": {},
     "output_type": "execute_result"
    }
   ],
   "source": [
    "#without parameter with reture type\n",
    "\n",
    "def si():\n",
    "\n",
    "    p=10000\n",
    "    r=12\n",
    "    t=12\n",
    "    return((p*r*t)/100)\n",
    "si()\n"
   ]
  },
  {
   "cell_type": "code",
   "execution_count": 47,
   "metadata": {},
   "outputs": [
    {
     "name": "stdout",
     "output_type": "stream",
     "text": [
      "12000\n"
     ]
    }
   ],
   "source": [
    "# with parameter and with return type\n",
    "\n",
    "def si(p,r,t):\n",
    "    return(p*r*t)\n",
    "s=si(1000,12,1)\n",
    "print(s)"
   ]
  },
  {
   "cell_type": "code",
   "execution_count": 48,
   "metadata": {},
   "outputs": [
    {
     "name": "stdout",
     "output_type": "stream",
     "text": [
      "30\n"
     ]
    }
   ],
   "source": [
    "from ass import add\n",
    "\n",
    "\n",
    "a=add()\n",
    "print(a)\n"
   ]
  },
  {
   "cell_type": "code",
   "execution_count": 55,
   "metadata": {},
   "outputs": [
    {
     "name": "stdout",
     "output_type": "stream",
     "text": [
      "3\n"
     ]
    }
   ],
   "source": [
    "# count occarance of target\n",
    "def occ(l,tar,cnt):\n",
    "    for i in l:\n",
    "        if i==tar:\n",
    "            cnt+=1\n",
    "    return cnt\n",
    "cnt=0\n",
    "l=[1,2,3,4,5,5,5]\n",
    "\n",
    "result=occ(l,5,cnt)\n",
    "print(result)\n",
    "\n"
   ]
  },
  {
   "cell_type": "code",
   "execution_count": null,
   "metadata": {},
   "outputs": [
    {
     "name": "stdout",
     "output_type": "stream",
     "text": [
      "3.0\n"
     ]
    }
   ],
   "source": [
    "def avg(l,n,sum):\n",
    "    for i in l:\n",
    "        sum+=i\n",
    "    av=sum/(len(l))\n",
    "    return av\n",
    "l=[1,2,3,4,5]\n",
    "sum=0\n",
    "   \n",
    "result=avg(l,n,sum)\n",
    "print(result)\n",
    "\n"
   ]
  },
  {
   "cell_type": "code",
   "execution_count": 68,
   "metadata": {},
   "outputs": [
    {
     "name": "stdout",
     "output_type": "stream",
     "text": [
      " hello vish you are 12\n"
     ]
    }
   ],
   "source": [
    "def data(name,age):\n",
    "    print(f' hello {name} you are {age}')\n",
    "data(age=12,name='vish')"
   ]
  },
  {
   "cell_type": "code",
   "execution_count": 71,
   "metadata": {},
   "outputs": [
    {
     "name": "stdout",
     "output_type": "stream",
     "text": [
      "abc\n",
      "()\n"
     ]
    }
   ],
   "source": [
    "def fun(name ,*a):\n",
    "    print(name)\n",
    "    print(a)\n",
    "fun('abc')"
   ]
  },
  {
   "cell_type": "code",
   "execution_count": 76,
   "metadata": {},
   "outputs": [
    {
     "name": "stdout",
     "output_type": "stream",
     "text": [
      "abc\n",
      "{'na': 'vishal'}\n"
     ]
    }
   ],
   "source": [
    "def fun(name ,**a):\n",
    "    print(name)\n",
    "    print(a)\n",
    "fun('abc' ,na='vishal')"
   ]
  },
  {
   "cell_type": "code",
   "execution_count": 77,
   "metadata": {},
   "outputs": [
    {
     "data": {
      "text/plain": [
       "68"
      ]
     },
     "execution_count": 77,
     "metadata": {},
     "output_type": "execute_result"
    }
   ],
   "source": [
    "def addition(a,b):\n",
    "\n",
    "    \"\"\"this function takes two values and add them\"\"\"\n",
    "    return a+b\n",
    "\n",
    "addition(23,45)"
   ]
  },
  {
   "cell_type": "code",
   "execution_count": 78,
   "metadata": {},
   "outputs": [
    {
     "name": "stdout",
     "output_type": "stream",
     "text": [
      "Help on function addition in module __main__:\n",
      "\n",
      "addition(a, b)\n",
      "    this function takes two values and add them\n",
      "\n"
     ]
    }
   ],
   "source": [
    "help(addition)"
   ]
  },
  {
   "cell_type": "code",
   "execution_count": 80,
   "metadata": {},
   "outputs": [
    {
     "data": {
      "text/plain": [
       "'this function takes two values and add them'"
      ]
     },
     "execution_count": 80,
     "metadata": {},
     "output_type": "execute_result"
    }
   ],
   "source": [
    "addition.__doc__"
   ]
  },
  {
   "cell_type": "code",
   "execution_count": 81,
   "metadata": {},
   "outputs": [
    {
     "name": "stdout",
     "output_type": "stream",
     "text": [
      "intger= 10 ,string=20\n"
     ]
    }
   ],
   "source": [
    "def data(a:int,b:str)-> str:\n",
    "    \"\"\"comments\"\"\"\n",
    "    return f'intger= {a} ,string={b}'\n",
    "print(data(10,20))"
   ]
  },
  {
   "cell_type": "code",
   "execution_count": 82,
   "metadata": {},
   "outputs": [
    {
     "data": {
      "text/plain": [
       "{'a': int, 'b': str, 'return': str}"
      ]
     },
     "execution_count": 82,
     "metadata": {},
     "output_type": "execute_result"
    }
   ],
   "source": [
    "data.__annotations__"
   ]
  },
  {
   "cell_type": "code",
   "execution_count": 84,
   "metadata": {},
   "outputs": [
    {
     "name": "stdout",
     "output_type": "stream",
     "text": [
      "[22, 35, 11]\n",
      "None\n"
     ]
    }
   ],
   "source": [
    "def comman(l1,l2):\n",
    "    l3=[]\n",
    "    for i in l2:\n",
    "        if i in l1:\n",
    "            l3.append(i)\n",
    "    print(l3)\n",
    "\n",
    "l1=[11,10,22,20,35,67]\n",
    "l2=[22,30,35,11]\n",
    "print(comman(l1,l2))\n"
   ]
  },
  {
   "cell_type": "code",
   "execution_count": 90,
   "metadata": {},
   "outputs": [
    {
     "name": "stdout",
     "output_type": "stream",
     "text": [
      "[11, 10, 22, 20, 35, 67, 30]\n"
     ]
    }
   ],
   "source": [
    "def un(l1,l2):\n",
    "    l3=[]\n",
    "    for i in l1:\n",
    "        if i not in l3:\n",
    "            l3.append(i)\n",
    "    for i in l2:\n",
    "        if i not in l3:\n",
    "            l3.append(i)\n",
    "    return l3\n",
    "\n",
    "l1=[11,10,22,20,35,67]\n",
    "l2=[22,30,35,11]\n",
    "res=un(l1,l2)\n",
    "print(res)"
   ]
  },
  {
   "cell_type": "code",
   "execution_count": 91,
   "metadata": {},
   "outputs": [
    {
     "name": "stdout",
     "output_type": "stream",
     "text": [
      "[10, 20, 67]\n"
     ]
    }
   ],
   "source": [
    "def dif(l1,l2):\n",
    "    l3=[]\n",
    "    for i in l1:\n",
    "        if i not in l2:\n",
    "            l3.append(i)\n",
    "    return l3 \n",
    "\n",
    "l1=[11,10,22,20,35,67]\n",
    "l2=[22,30,35,11]\n",
    "res=dif(l1,l2)\n",
    "print(res)"
   ]
  },
  {
   "cell_type": "code",
   "execution_count": null,
   "metadata": {},
   "outputs": [
    {
     "name": "stdout",
     "output_type": "stream",
     "text": [
      "[10, 20, 67, 30]\n"
     ]
    }
   ],
   "source": [
    "def sy(l1,l2):\n",
    "    l3=[]\n",
    "    for i in l1:\n",
    "        if i not in l2:\n",
    "            l3.append(i)\n",
    "    for i in l2:\n",
    "        if i not in l1:\n",
    "            l3.append(i)\n",
    "    return l3    \n",
    "l1=[11,10,22,20,35,67]\n",
    "l2=[22,30,35,11]\n",
    "res=sy(l1,l2)\n",
    "print(res)\n"
   ]
  },
  {
   "cell_type": "code",
   "execution_count": 96,
   "metadata": {},
   "outputs": [
    {
     "name": "stdout",
     "output_type": "stream",
     "text": [
      "40 inside function\n",
      "10\n"
     ]
    }
   ],
   "source": [
    "x=10\n",
    "\n",
    "def num():\n",
    "    # global x\n",
    "    x=10\n",
    "    x=x+30\n",
    "    print(x,\"inside function\")\n",
    "num()\n",
    "print(x)"
   ]
  }
 ],
 "metadata": {
  "kernelspec": {
   "display_name": "Python 3",
   "language": "python",
   "name": "python3"
  },
  "language_info": {
   "codemirror_mode": {
    "name": "ipython",
    "version": 3
   },
   "file_extension": ".py",
   "mimetype": "text/x-python",
   "name": "python",
   "nbconvert_exporter": "python",
   "pygments_lexer": "ipython3",
   "version": "3.12.3"
  }
 },
 "nbformat": 4,
 "nbformat_minor": 2
}
