{
 "cells": [
  {
   "cell_type": "code",
   "execution_count": 6,
   "id": "d20d64f3",
   "metadata": {},
   "outputs": [
    {
     "name": "stdout",
     "output_type": "stream",
     "text": [
      "hello\n",
      "24\n",
      "12\n"
     ]
    }
   ],
   "source": [
    "class demo: #without an object\n",
    "    print('hello')\n",
    "    a=12\n",
    "    b=12\n",
    "    print(a+b)\n",
    "# to acess a and b make a object\n",
    "obj=demo()\n",
    "print(obj.a)"
   ]
  },
  {
   "cell_type": "code",
   "execution_count": 2,
   "id": "d15cde93",
   "metadata": {},
   "outputs": [],
   "source": [
    "def demo():\n",
    "    print(\"heelo0\")"
   ]
  },
  {
   "cell_type": "code",
   "execution_count": 8,
   "id": "6154b791",
   "metadata": {},
   "outputs": [
    {
     "name": "stdout",
     "output_type": "stream",
     "text": [
      "20\n"
     ]
    }
   ],
   "source": [
    "# function in class\n",
    "class demo:\n",
    "    def add(self):\n",
    "        a=10\n",
    "        b=10\n",
    "        print(a+b)\n",
    "obj=demo()\n",
    "obj.add()\n",
    "    "
   ]
  },
  {
   "cell_type": "code",
   "execution_count": 9,
   "id": "7ab5ba48",
   "metadata": {},
   "outputs": [
    {
     "name": "stdout",
     "output_type": "stream",
     "text": [
      "24\n",
      "22\n"
     ]
    }
   ],
   "source": [
    "class demo:\n",
    "    def add(self,a,b):\n",
    "       \n",
    "        print(a+b)\n",
    "obj=demo()\n",
    "obj.add(12,12)\n",
    "obj1=demo()\n",
    "obj1.add(10,12)\n"
   ]
  },
  {
   "cell_type": "code",
   "execution_count": null,
   "id": "01e344e1",
   "metadata": {},
   "outputs": [
    {
     "name": "stdout",
     "output_type": "stream",
     "text": [
      "this is \n"
     ]
    }
   ],
   "source": [
    "class demo:\n",
    "    \"\"\"this is \"\"\"\n",
    "    def __init__(self,a,b):  # __ is dunder method       it is a constuctor\n",
    "        self.a=a #instance variable\n",
    "        self.b=b\n",
    "    def add(self): #instance  /object parameter\n",
    "        return self.a+self.b\n",
    "    \n",
    "    def sub(self):\n",
    "        return self.a-self.b+self.d\n",
    "    \n",
    "obj=demo(10,10)\n",
    "obj.d=30       # we can also make variable at outrside the class\n",
    "obj.sub()\n",
    "\n",
    "print(demo.__doc__)\n",
    "\n"
   ]
  }
 ],
 "metadata": {
  "kernelspec": {
   "display_name": "Python 3",
   "language": "python",
   "name": "python3"
  },
  "language_info": {
   "codemirror_mode": {
    "name": "ipython",
    "version": 3
   },
   "file_extension": ".py",
   "mimetype": "text/x-python",
   "name": "python",
   "nbconvert_exporter": "python",
   "pygments_lexer": "ipython3",
   "version": "3.12.3"
  }
 },
 "nbformat": 4,
 "nbformat_minor": 5
}
