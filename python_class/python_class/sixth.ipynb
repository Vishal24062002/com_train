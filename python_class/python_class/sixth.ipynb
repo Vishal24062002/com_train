{
 "cells": [
  {
   "cell_type": "code",
   "execution_count": 1,
   "id": "277bbe40",
   "metadata": {},
   "outputs": [
    {
     "name": "stdout",
     "output_type": "stream",
     "text": [
      "[0, 2, 4]\n"
     ]
    }
   ],
   "source": [
    "# list comprension\n",
    "\n",
    "b=[]\n",
    "for i in range(5):\n",
    "    if i%2==0:\n",
    "        b.append(i)\n",
    "print(b)\n"
   ]
  },
  {
   "cell_type": "code",
   "execution_count": 4,
   "id": "c5eef21f",
   "metadata": {},
   "outputs": [
    {
     "name": "stdout",
     "output_type": "stream",
     "text": [
      "[0, 2, 4]\n"
     ]
    }
   ],
   "source": [
    "b=[i for i in range(5) if i%2==0]\n",
    "print(b)"
   ]
  },
  {
   "cell_type": "code",
   "execution_count": null,
   "id": "f2849b36",
   "metadata": {},
   "outputs": [
    {
     "name": "stdout",
     "output_type": "stream",
     "text": [
      "[0, 7, 14, 21, 28, 35, 42, 49, 56, 63, 70, 77, 84, 91, 98, 105, 112, 119, 126, 133, 140, 147, 154, 161, 168, 175, 182, 189, 196, 203, 210, 217, 224, 231, 238, 245, 252, 259, 266, 273, 280, 287, 294, 301, 308, 315, 322, 329, 336, 343, 350, 357, 364, 371, 378, 385, 392, 399, 406, 413, 420, 427, 434, 441, 448, 455, 462, 469, 476, 483, 490, 497, 504, 511, 518, 525, 532, 539, 546, 553, 560, 567, 574, 581, 588, 595, 602, 609, 616, 623, 630, 637, 644, 651, 658, 665, 672, 679, 686, 693, 700, 707, 714, 721, 728, 735, 742, 749, 756, 763, 770, 777, 784, 791, 798, 805, 812, 819, 826, 833, 840, 847, 854, 861, 868, 875, 882, 889, 896, 903, 910, 917, 924, 931, 938, 945, 952, 959, 966, 973, 980, 987, 994]\n"
     ]
    }
   ],
   "source": [
    "# task 1 print all number b/w 1 to 1000 which is divisible by 7\n",
    "b=[i for i in range(1000) if i %7==0]\n",
    "print(b)"
   ]
  },
  {
   "cell_type": "code",
   "execution_count": 10,
   "id": "0d49cf82",
   "metadata": {},
   "outputs": [
    {
     "name": "stdout",
     "output_type": "stream",
     "text": [
      "[3, 13, 23, 30, 31, 32, 33, 34, 35, 36, 37, 38, 39, 43, 53, 63, 73, 83, 93, 103, 113, 123, 130, 131, 132, 133, 134, 135, 136, 137, 138, 139, 143, 153, 163, 173, 183, 193, 203, 213, 223, 230, 231, 232, 233, 234, 235, 236, 237, 238, 239, 243, 253, 263, 273, 283, 293, 300, 301, 302, 303, 304, 305, 306, 307, 308, 309, 310, 311, 312, 313, 314, 315, 316, 317, 318, 319, 320, 321, 322, 323, 324, 325, 326, 327, 328, 329, 330, 331, 332, 333, 334, 335, 336, 337, 338, 339, 340, 341, 342, 343, 344, 345, 346, 347, 348, 349, 350, 351, 352, 353, 354, 355, 356, 357, 358, 359, 360, 361, 362, 363, 364, 365, 366, 367, 368, 369, 370, 371, 372, 373, 374, 375, 376, 377, 378, 379, 380, 381, 382, 383, 384, 385, 386, 387, 388, 389, 390, 391, 392, 393, 394, 395, 396, 397, 398, 399, 403, 413, 423, 430, 431, 432, 433, 434, 435, 436, 437, 438, 439, 443, 453, 463, 473, 483, 493, 503, 513, 523, 530, 531, 532, 533, 534, 535, 536, 537, 538, 539, 543, 553, 563, 573, 583, 593, 603, 613, 623, 630, 631, 632, 633, 634, 635, 636, 637, 638, 639, 643, 653, 663, 673, 683, 693, 703, 713, 723, 730, 731, 732, 733, 734, 735, 736, 737, 738, 739, 743, 753, 763, 773, 783, 793, 803, 813, 823, 830, 831, 832, 833, 834, 835, 836, 837, 838, 839, 843, 853, 863, 873, 883, 893, 903, 913, 923, 930, 931, 932, 933, 934, 935, 936, 937, 938, 939, 943, 953, 963, 973, 983, 993]\n"
     ]
    }
   ],
   "source": [
    "# task 2 print all the number b/w 1-1000 which have 3 in them\n",
    "a=[i for i in range(1000) if '3' in str(i) ]\n",
    "print(a)"
   ]
  },
  {
   "cell_type": "code",
   "execution_count": 15,
   "id": "34757cfe",
   "metadata": {},
   "outputs": [
    {
     "name": "stdout",
     "output_type": "stream",
     "text": [
      "13\n"
     ]
    }
   ],
   "source": [
    "# task 3 count all the number of spaces in a string\n",
    "a=\"yellow yaks like yelling and yawing ans yestarday they yodled while eating yuky ytams\"\n",
    "b=sum([ 1 for i in a if i==\" \"])\n",
    "print(b)"
   ]
  },
  {
   "cell_type": "code",
   "execution_count": null,
   "id": "4f676f8f",
   "metadata": {},
   "outputs": [
    {
     "name": "stdout",
     "output_type": "stream",
     "text": [
      "['y', 'e', 'l', 'l', 'w', ' ', 'y', 'k', 's', ' ', 'l', 'k', 'e', ' ', 'y', 'e', 'l', 'l', 'n', 'g', ' ', 'n', 'd', ' ', 'y', 'w', 'n', 'g', ' ', 'n', 's', ' ', 'y', 'e', 's', 't', 'r', 'd', 'y', ' ', 't', 'h', 'e', 'y', ' ', 'y', 'd', 'l', 'e', 'd', ' ', 'w', 'h', 'l', 'e', ' ', 'e', 't', 'n', 'g', ' ', 'y', 'k', 'y', ' ', 'y', 't', 'm', 's']\n"
     ]
    }
   ],
   "source": [
    "# task 4  make a list of all the \n",
    "a=\"yellow yaks like yelling and yawing ans yestarday they yodled while eating yuky ytams\"\n",
    "b=\"aiouAEIOU\"\n",
    "c=[i for i in a if i not in b]\n",
    "print(c)"
   ]
  },
  {
   "cell_type": "code",
   "execution_count": 25,
   "id": "b3e2e047",
   "metadata": {},
   "outputs": [
    {
     "name": "stdout",
     "output_type": "stream",
     "text": [
      "((0, 'hi'), (1, 4), (2, 8.99), (3, 'apple'), (4, ('t,b', 'n')))\n",
      "[(0, 'hi'), (1, 4), (2, 8.99), (3, 'apple'), (4, ('t,b', 'n'))]\n"
     ]
    }
   ],
   "source": [
    "# task 5 get the index and value as a tuple for items ina list\n",
    "a=[\"hi\",4,8.99,'apple',('t,b','n')]\n",
    "b=[(index,value) for index ,value in enumerate(a) ]\n",
    "c=[(i,a[i]) for i in range(len(a))]\n",
    "print(tuple(c))\n",
    "print(b)"
   ]
  },
  {
   "cell_type": "markdown",
   "id": "ea3cf5c2",
   "metadata": {},
   "source": []
  },
  {
   "cell_type": "code",
   "execution_count": 17,
   "id": "68c3b74e",
   "metadata": {},
   "outputs": [
    {
     "name": "stdout",
     "output_type": "stream",
     "text": [
      "[2, 4, 5]\n"
     ]
    }
   ],
   "source": [
    "# task 6 find the comman value in two list(without using set and tuple)\n",
    "a=[1,2,3,4,5]\n",
    "b=[2,4,5,7,8]\n",
    "c=[i for i in a if i in b]\n",
    "print(c)"
   ]
  },
  {
   "cell_type": "code",
   "execution_count": 27,
   "id": "08f50458",
   "metadata": {},
   "outputs": [
    {
     "name": "stdout",
     "output_type": "stream",
     "text": [
      "[1984, 13, 1000]\n"
     ]
    }
   ],
   "source": [
    "# task 7 get only the number in sentence like \n",
    "# in 1984 there are 13 instances of a protest with over 1000 people attending\n",
    "a=\"in 1984 there are 13 instances of a protest with over 1000 people attending\"\n",
    "b=[int(i) for i in a.split() if i.isdigit()]\n",
    "print(b)"
   ]
  },
  {
   "cell_type": "code",
   "execution_count": 26,
   "id": "fad3a525",
   "metadata": {},
   "outputs": [
    {
     "name": "stdout",
     "output_type": "stream",
     "text": [
      "['even', 'odd ', 'even', 'odd ', 'even', 'odd ', 'even', 'odd ', 'even', 'odd ', 'even', 'odd ', 'even', 'odd ', 'even', 'odd ', 'even', 'odd ', 'even', 'odd ']\n"
     ]
    }
   ],
   "source": [
    "# task 8 given number range(20 produce a list )\n",
    "\n",
    "b=[\"even\" if i%2==0 else \"odd \" for i in range(20)]\n",
    "print(b) "
   ]
  },
  {
   "cell_type": "code",
   "execution_count": 31,
   "id": "a4aaf08d",
   "metadata": {},
   "outputs": [
    {
     "name": "stdout",
     "output_type": "stream",
     "text": [
      "[(4, 4), (5, 5)]\n"
     ]
    }
   ],
   "source": [
    "# task 9  produce a list of tuple consisting of only matching number in these\n",
    " \n",
    "a=[1,2,3,4,5,6]\n",
    "b=[4,5,9,7]\n",
    "c=[(i,i) for i in a if i in b]\n",
    "print(c)"
   ]
  },
  {
   "cell_type": "code",
   "execution_count": 32,
   "id": "5a9b1598",
   "metadata": {},
   "outputs": [
    {
     "name": "stdout",
     "output_type": "stream",
     "text": [
      "['is', 'bad', 'boy']\n"
     ]
    }
   ],
   "source": [
    "#  task 10 find all the word ina string that are less than 4 letters\n",
    "a=\"vishal is bad boy\"\n",
    "b=[i for i in a.split() if len(i)<4]\n",
    "print(b)"
   ]
  },
  {
   "cell_type": "code",
   "execution_count": 35,
   "id": "eeee5b40",
   "metadata": {},
   "outputs": [
    {
     "name": "stdout",
     "output_type": "stream",
     "text": [
      "[0, 2, 3, 4, 5, 6, 7, 8, 9, 10, 12, 14, 15, 16, 18, 20, 21, 22, 24, 25, 26, 27, 28, 30, 32, 33, 34, 35, 36, 38, 39, 40, 42, 44, 45, 46, 48, 49, 50, 51, 52, 54, 55, 56, 57, 58, 60, 62, 63, 64, 65, 66, 68, 69, 70, 72, 74, 75, 76, 77, 78, 80, 81, 82, 84, 85, 86, 87, 88, 90, 91, 92, 93, 94, 95, 96, 98, 99, 100, 102, 104, 105, 106, 108, 110, 111, 112, 114, 115, 116, 117, 118, 119, 120, 122, 123, 124, 125, 126, 128, 129, 130, 132, 133, 134, 135, 136, 138, 140, 141, 142, 144, 145, 146, 147, 148, 150, 152, 153, 154, 155, 156, 158, 159, 160, 161, 162, 164, 165, 166, 168, 170, 171, 172, 174, 175, 176, 177, 178, 180, 182, 183, 184, 185, 186, 188, 189, 190, 192, 194, 195, 196, 198, 200, 201, 202, 203, 204, 205, 206, 207, 208, 210, 212, 213, 214, 215, 216, 217, 218, 219, 220, 222, 224, 225, 226, 228, 230, 231, 232, 234, 235, 236, 237, 238, 240, 242, 243, 244, 245, 246, 248, 249, 250, 252, 254, 255, 256, 258, 259, 260, 261, 262, 264, 265, 266, 267, 268, 270, 272, 273, 274, 275, 276, 278, 279, 280, 282, 284, 285, 286, 287, 288, 290, 291, 292, 294, 295, 296, 297, 298, 300, 301, 302, 303, 304, 305, 306, 308, 309, 310, 312, 314, 315, 316, 318, 320, 321, 322, 324, 325, 326, 327, 328, 329, 330, 332, 333, 334, 335, 336, 338, 339, 340, 342, 343, 344, 345, 346, 348, 350, 351, 352, 354, 355, 356, 357, 358, 360, 362, 363, 364, 365, 366, 368, 369, 370, 371, 372, 374, 375, 376, 378, 380, 381, 382, 384, 385, 386, 387, 388, 390, 392, 393, 394, 395, 396, 398, 399, 400, 402, 404, 405, 406, 408, 410, 411, 412, 413, 414, 415, 416, 417, 418, 420, 422, 423, 424, 425, 426, 427, 428, 429, 430, 432, 434, 435, 436, 438, 440, 441, 442, 444, 445, 446, 447, 448, 450, 452, 453, 454, 455, 456, 458, 459, 460, 462, 464, 465, 466, 468, 469, 470, 471, 472, 474, 475, 476, 477, 478, 480, 482, 483, 484, 485, 486, 488, 489, 490, 492, 494, 495, 496, 497, 498, 500, 501, 502, 504, 505, 506, 507, 508, 510, 511, 512, 513, 514, 515, 516, 518, 519, 520, 522, 524, 525, 526, 528, 530, 531, 532, 534, 535, 536, 537, 538, 539, 540, 542, 543, 544, 545, 546, 548, 549, 550, 552, 553, 554, 555, 556, 558, 560, 561, 562, 564, 565, 566, 567, 568, 570, 572, 573, 574, 575, 576, 578, 579, 580, 581, 582, 584, 585, 586, 588, 590, 591, 592, 594, 595, 596, 597, 598, 600, 602, 603, 604, 605, 606, 608, 609, 610, 612, 614, 615, 616, 618, 620, 621, 622, 623, 624, 625, 626, 627, 628, 630, 632, 633, 634, 635, 636, 637, 638, 639, 640, 642, 644, 645, 646, 648, 650, 651, 652, 654, 655, 656, 657, 658, 660, 662, 663, 664, 665, 666, 668, 669, 670, 672, 674, 675, 676, 678, 679, 680, 681, 682, 684, 685, 686, 687, 688, 690, 692, 693, 694, 695, 696, 698, 699, 700, 702, 704, 705, 706, 707, 708, 710, 711, 712, 714, 715, 716, 717, 718, 720, 721, 722, 723, 724, 725, 726, 728, 729, 730, 732, 734, 735, 736, 738, 740, 741, 742, 744, 745, 746, 747, 748, 749, 750, 752, 753, 754, 755, 756, 758, 759, 760, 762, 763, 764, 765, 766, 768, 770, 771, 772, 774, 775, 776, 777, 778, 780, 782, 783, 784, 785, 786, 788, 789, 790, 791, 792, 794, 795, 796, 798, 800, 801, 802, 804, 805, 806, 807, 808, 810, 812, 813, 814, 815, 816, 818, 819, 820, 822, 824, 825, 826, 828, 830, 831, 832, 833, 834, 835, 836, 837, 838, 840, 842, 843, 844, 845, 846, 847, 848, 849, 850, 852, 854, 855, 856, 858, 860, 861, 862, 864, 865, 866, 867, 868, 870, 872, 873, 874, 875, 876, 878, 879, 880, 882, 884, 885, 886, 888, 889, 890, 891, 892, 894, 895, 896, 897, 898, 900, 902, 903, 904, 905, 906, 908, 909, 910, 912, 914, 915, 916, 917, 918, 920, 921, 922, 924, 925, 926, 927, 928, 930, 931, 932, 933, 934, 935, 936, 938, 939, 940, 942, 944, 945, 946, 948, 950, 951, 952, 954, 955, 956, 957, 958, 959, 960, 962, 963, 964, 965, 966, 968, 969, 970, 972, 973, 974, 975, 976, 978, 980, 981, 982, 984, 985, 986, 987, 988, 990, 992, 993, 994, 995, 996, 998, 999]\n"
     ]
    }
   ],
   "source": [
    "# task 11 use the nested list comprension to find al the number from 1-10000 that are divisible by any single digit besides 1 (2-9)\n",
    "divisors = [2,3, 4, 5, 6, 7, 8,9]  \n",
    "\n",
    "result = [i for i in range(1000) if any(i % divisor == 0 for divisor in divisors)]\n",
    "\n",
    "print(result)\n"
   ]
  },
  {
   "cell_type": "code",
   "execution_count": 37,
   "id": "0649de60",
   "metadata": {},
   "outputs": [
    {
     "data": {
      "text/plain": [
       "{0: 0, 1: 1, 2: 4, 3: 9, 4: 16, 5: 25, 6: 36, 7: 49, 8: 64, 9: 81}"
      ]
     },
     "execution_count": 37,
     "metadata": {},
     "output_type": "execute_result"
    }
   ],
   "source": [
    "# dictionary comprension\n",
    "d={i:i**2 for i in range(10)}\n",
    "d"
   ]
  },
  {
   "cell_type": "code",
   "execution_count": 40,
   "id": "e4d4c499",
   "metadata": {},
   "outputs": [
    {
     "name": "stdout",
     "output_type": "stream",
     "text": [
      "{1: 'a', 2: 'b', 3: 'c', 4: 'd'}\n"
     ]
    }
   ],
   "source": [
    "# task 1 convert two list  into a dictionary\n",
    "\n",
    "a=[1,2,3,4]\n",
    "b=['a','b','c','d']\n",
    "\n",
    "c={a[i]:b[i] for i in range(len(a))}\n",
    "print(c)"
   ]
  },
  {
   "cell_type": "code",
   "execution_count": null,
   "id": "8ea90c75",
   "metadata": {},
   "outputs": [
    {
     "name": "stdout",
     "output_type": "stream",
     "text": [
      "{'a': 'vis', 'v': '12'}\n"
     ]
    }
   ],
   "source": [
    "# invert a dictionary\n",
    "z={\"a\":\"vis\",\"v\":\"12\"}\n",
    "d={value: key for key, value in z.items()}\n",
    "print(z)"
   ]
  },
  {
   "cell_type": "code",
   "execution_count": 50,
   "id": "3aa1a566",
   "metadata": {},
   "outputs": [
    {
     "name": "stdout",
     "output_type": "stream",
     "text": [
      "{'b': 1, 'a': 3, 'n': 2}\n"
     ]
    }
   ],
   "source": [
    "# task 3 count occrance of chracter in word for given string create a dictionary with chractor count\n",
    "s=\"banana\"\n",
    "d={i:s.count(i) for i in s}\n",
    "print(d)"
   ]
  },
  {
   "cell_type": "code",
   "execution_count": null,
   "id": "cbd5a780",
   "metadata": {},
   "outputs": [
    {
     "data": {
      "text/plain": [
       "{'a': 2, 'b': 10, 'c': 6}"
      ]
     },
     "execution_count": 53,
     "metadata": {},
     "output_type": "execute_result"
    }
   ],
   "source": [
    "# task 4 merge two dictionary (add items if keys match)\n",
    "d1={\"a\":1,\"b\":5,\"c\":3}\n",
    "d2={\"a\":1,\"b\":5,\"c\":3,\"d\":7}\n",
    "\n",
    "d3={i: d1.get(i,0)+d2.get(i,0) for i in d2}\n",
    "d3\n"
   ]
  },
  {
   "cell_type": "code",
   "execution_count": null,
   "id": "a854653c",
   "metadata": {},
   "outputs": [
    {
     "data": {
      "text/plain": [
       "[3.14, 12.56, 28.26, 50.24, 78.5]"
      ]
     },
     "execution_count": 54,
     "metadata": {},
     "output_type": "execute_result"
    }
   ],
   "source": [
    "# map() ,reduce(),filter()\n",
    "# map(func,iter)\n",
    "\n",
    "# print area of circle of each radius\n",
    "l=[1,2,3,4,5]\n",
    "list(map(lambda a: 3.14*a**2,l))\n"
   ]
  },
  {
   "cell_type": "code",
   "execution_count": 55,
   "id": "8d7d8146",
   "metadata": {},
   "outputs": [
    {
     "data": {
      "text/plain": [
       "[2, 4, 6]"
      ]
     },
     "execution_count": 55,
     "metadata": {},
     "output_type": "execute_result"
    }
   ],
   "source": [
    "#  filter(func,data)\n",
    "a=[1,2,3,4,5,6]\n",
    "list(filter(lambda i :i%2==0,a))\n",
    "\n"
   ]
  },
  {
   "cell_type": "code",
   "execution_count": 56,
   "id": "6180c2c0",
   "metadata": {},
   "outputs": [
    {
     "name": "stdout",
     "output_type": "stream",
     "text": [
      "25\n"
     ]
    }
   ],
   "source": [
    "# \n",
    "from functools import reduce\n",
    "\n",
    "numbers = [1, 2, 3, 4, 5]\n",
    "result = reduce(lambda x, y: x + y, numbers, 10)\n",
    "print(result)  # Output: 25\n"
   ]
  },
  {
   "cell_type": "code",
   "execution_count": null,
   "id": "822770ab",
   "metadata": {},
   "outputs": [
    {
     "data": {
      "text/plain": [
       "['abc', 'abcs', 'ass', 'asd']"
      ]
     },
     "execution_count": 57,
     "metadata": {},
     "output_type": "execute_result"
    }
   ],
   "source": [
    "city=['abc','abcs','ass','asd','']\n",
    "list(filter(None,city))\n"
   ]
  },
  {
   "cell_type": "code",
   "execution_count": 58,
   "id": "c4e2854d",
   "metadata": {},
   "outputs": [
    {
     "data": {
      "text/plain": [
       "[1, 4, 9, 16]"
      ]
     },
     "execution_count": 58,
     "metadata": {},
     "output_type": "execute_result"
    }
   ],
   "source": [
    "# tasks\n",
    "\n",
    "# 1 square of each number in a list\n",
    "l=[1,2,3,4]\n",
    "list(map(lambda a:a**2,l))"
   ]
  },
  {
   "cell_type": "code",
   "execution_count": null,
   "id": "f1ff974d",
   "metadata": {},
   "outputs": [
    {
     "data": {
      "text/plain": [
       "['ABC', 'VISHAL', 'MAHIMA,MITHA']"
      ]
     },
     "execution_count": 59,
     "metadata": {},
     "output_type": "execute_result"
    }
   ],
   "source": [
    "# task 2-> convert a list into upercase\n",
    "l=['abc','vishal','mahima,mitha']\n",
    "list(map(lambda a: a.upper(),l))"
   ]
  },
  {
   "cell_type": "code",
   "execution_count": 61,
   "id": "0bed35ce",
   "metadata": {},
   "outputs": [
    {
     "data": {
      "text/plain": [
       "[2, 4, 6, 8, 10]"
      ]
     },
     "execution_count": 61,
     "metadata": {},
     "output_type": "execute_result"
    }
   ],
   "source": [
    "# task 3-> \n",
    "a=[1,2,3,4,5]\n",
    "b=[1,2,3,4,5]\n",
    "list(map(lambda x,y: x+y ,a,b))"
   ]
  },
  {
   "cell_type": "code",
   "execution_count": 62,
   "id": "d3f96d3b",
   "metadata": {},
   "outputs": [
    {
     "data": {
      "text/plain": [
       "[111, 222, 333, 444, 510]"
      ]
     },
     "execution_count": 62,
     "metadata": {},
     "output_type": "execute_result"
    }
   ],
   "source": [
    "a=[1,2,3,4,5]\n",
    "b=[10,20,30,40,5]\n",
    "c=[100,200,300,400,500]\n",
    "list(map(lambda x,y,z: x+y+z ,a,b,c))"
   ]
  },
  {
   "cell_type": "code",
   "execution_count": 63,
   "id": "32431a88",
   "metadata": {},
   "outputs": [
    {
     "data": {
      "text/plain": [
       "[12, 4, 6, 8]"
      ]
     },
     "execution_count": 63,
     "metadata": {},
     "output_type": "execute_result"
    }
   ],
   "source": [
    "# filter task \n",
    "# 1-> filter all even num,ber in list\n",
    "l=[12,3,4,5,6,8]\n",
    "list(filter(lambda a:a%2==0,l))"
   ]
  },
  {
   "cell_type": "code",
   "execution_count": 64,
   "id": "ca35b3aa",
   "metadata": {},
   "outputs": [
    {
     "data": {
      "text/plain": [
       "['vishal', 'mahima,mitha']"
      ]
     },
     "execution_count": 64,
     "metadata": {},
     "output_type": "execute_result"
    }
   ],
   "source": [
    "# 2--> fliter a list of words with length>4\n",
    "l=['abc','vishal','mahima,mitha']\n",
    "list(filter(lambda a:len(a)>4,l))\n"
   ]
  },
  {
   "cell_type": "code",
   "execution_count": null,
   "id": "47ff43bb",
   "metadata": {},
   "outputs": [
    {
     "data": {
      "text/plain": [
       "['']"
      ]
     },
     "execution_count": 66,
     "metadata": {},
     "output_type": "execute_result"
    }
   ],
   "source": [
    "# 3-->> filter out empty string \n",
    "city=['abc','abcs','ass','asd','']\n",
    "list(filter(lambda a: a==\"\",city))"
   ]
  },
  {
   "cell_type": "code",
   "execution_count": 75,
   "id": "5520dfe7",
   "metadata": {},
   "outputs": [
    {
     "data": {
      "text/plain": [
       "[2, 3, 5, 7, 11, 13]"
      ]
     },
     "execution_count": 75,
     "metadata": {},
     "output_type": "execute_result"
    }
   ],
   "source": [
    "# 4-> filter out prime number in a list\n",
    "def prime(num):\n",
    "    if num <= 1:\n",
    "        return False\n",
    "    for i in range(2, int(num**0.5) + 1):\n",
    "        if num % i == 0:\n",
    "            return False\n",
    "    return True\n",
    "l = [2, 3, 4, 5, 6, 7, 8, 9, 10, 11, 12, 13, 14, 15]\n",
    "list(filter(prime,l))\n",
    "        \n"
   ]
  },
  {
   "cell_type": "code",
   "execution_count": null,
   "id": "529226ab",
   "metadata": {},
   "outputs": [
    {
     "name": "stdout",
     "output_type": "stream",
     "text": [
      "Hello World!\n"
     ]
    }
   ],
   "source": [
    "# task 1-> concatenate a string list of string using reduce\n",
    "from functools import reduce\n",
    "\n",
    "\n",
    "s= [\"Hello\", \" \", \"World\", \"!\"]\n",
    "\n",
    "\n",
    "con = reduce(lambda x, y: x + y, s)\n",
    "\n",
    "print(con)\n"
   ]
  },
  {
   "cell_type": "code",
   "execution_count": 81,
   "id": "0fc6378a",
   "metadata": {},
   "outputs": [
    {
     "data": {
      "text/plain": [
       "15"
      ]
     },
     "execution_count": 81,
     "metadata": {},
     "output_type": "execute_result"
    }
   ],
   "source": [
    "# task 2--> find the maximum fomr a list\n",
    "from functools import reduce\n",
    "\n",
    "l = [2, 3, 4, 5, 6, 7, 8, 9, 10, 11, 12, 13, 14, 15]\n",
    "reduce(lambda a,b: max(a,b),l)\n",
    "\n",
    "\n"
   ]
  },
  {
   "cell_type": "code",
   "execution_count": null,
   "id": "ede52a74",
   "metadata": {},
   "outputs": [
    {
     "data": {
      "text/plain": [
       "-5629630787780590599"
      ]
     },
     "execution_count": 80,
     "metadata": {},
     "output_type": "execute_result"
    }
   ],
   "source": [
    "hash('1,2,3')\n"
   ]
  },
  {
   "cell_type": "code",
   "execution_count": 89,
   "id": "1c22454a",
   "metadata": {},
   "outputs": [
    {
     "name": "stdout",
     "output_type": "stream",
     "text": [
      "144.0\n",
      "3.0\n",
      "1\n"
     ]
    }
   ],
   "source": [
    "# maths module\n",
    "import math\n",
    "print(math.pow(12,2))\n",
    "\n",
    "print(math.sqrt(9))\n",
    "print(math.floor(1.3))"
   ]
  },
  {
   "cell_type": "code",
   "execution_count": 93,
   "id": "26fbc9ad",
   "metadata": {},
   "outputs": [
    {
     "name": "stdout",
     "output_type": "stream",
     "text": [
      "5\n",
      "1\n",
      "5\n",
      "2.7386127875258306\n"
     ]
    }
   ],
   "source": [
    "import statistics\n",
    "l=[1,2,3,4,5,6,7,8,9]\n",
    "print(statistics.mean(l))\n",
    "print(statistics.mode(l))\n",
    "print(statistics.median(l))\n",
    "print(statistics.stdev(l))"
   ]
  },
  {
   "cell_type": "code",
   "execution_count": 32,
   "id": "7417b621",
   "metadata": {},
   "outputs": [
    {
     "name": "stdout",
     "output_type": "stream",
     "text": [
      "None\n"
     ]
    }
   ],
   "source": [
    "import random\n",
    "l=[1,2.3,4,5]\n",
    "# print(random.choices(l))\n",
    "print(random.seed())"
   ]
  },
  {
   "cell_type": "code",
   "execution_count": null,
   "id": "3ed8e2df",
   "metadata": {},
   "outputs": [
    {
     "name": "stdout",
     "output_type": "stream",
     "text": [
      "<built-in function getcwd>\n"
     ]
    },
    {
     "ename": "FileNotFoundError",
     "evalue": "[WinError 3] The system cannot find the path specified: 'C:/Users/gauth/module'",
     "output_type": "error",
     "traceback": [
      "\u001b[31m---------------------------------------------------------------------------\u001b[39m",
      "\u001b[31mFileNotFoundError\u001b[39m                         Traceback (most recent call last)",
      "\u001b[36mCell\u001b[39m\u001b[36m \u001b[39m\u001b[32mIn[35]\u001b[39m\u001b[32m, line 3\u001b[39m\n\u001b[32m      1\u001b[39m \u001b[38;5;28;01mimport\u001b[39;00m\u001b[38;5;250m \u001b[39m\u001b[34;01mos\u001b[39;00m\n\u001b[32m      2\u001b[39m \u001b[38;5;28mprint\u001b[39m(os.getcwd)\n\u001b[32m----> \u001b[39m\u001b[32m3\u001b[39m \u001b[43mos\u001b[49m\u001b[43m.\u001b[49m\u001b[43mchdir\u001b[49m\u001b[43m(\u001b[49m\u001b[33;43m'\u001b[39;49m\u001b[33;43mC:/Users/gauth/module\u001b[39;49m\u001b[33;43m'\u001b[39;49m\u001b[43m)\u001b[49m\n",
      "\u001b[31mFileNotFoundError\u001b[39m: [WinError 3] The system cannot find the path specified: 'C:/Users/gauth/module'"
     ]
    }
   ],
   "source": [
    "import os\n",
    "# print(os.getcwd)\n",
    "# os.chdir('C:/Users/gauth/module')\n",
    "#os.mkdir('name)\n",
    "os.start('text.txt').st_size\n"
   ]
  },
  {
   "cell_type": "code",
   "execution_count": 40,
   "id": "74da8066",
   "metadata": {},
   "outputs": [
    {
     "name": "stdout",
     "output_type": "stream",
     "text": [
      "1744024187.7203708\n",
      "Mon Apr  7 16:39:47 2025\n",
      "hello\n",
      "2025-04-04/07/25 Apr:39:49\n"
     ]
    }
   ],
   "source": [
    "import time\n",
    "print(time.time())\n",
    "print(time.ctime())\n",
    "time.sleep(2)\n",
    "print(\"hello\")\n",
    "\n",
    "# time formate\n",
    "print(time.strftime(\"%Y-%m-%D %h:%M:%S\",time.localtime()))\n"
   ]
  },
  {
   "cell_type": "code",
   "execution_count": null,
   "id": "18800743",
   "metadata": {},
   "outputs": [],
   "source": [
    "# time tasks calculate the time required to complete a process\n"
   ]
  },
  {
   "cell_type": "code",
   "execution_count": 2,
   "id": "78226a75",
   "metadata": {},
   "outputs": [
    {
     "name": "stdout",
     "output_type": "stream",
     "text": [
      "Current Time: 17:06:42\n",
      "Current Time: 17:06:43\n",
      "Current Time: 17:06:44\n",
      "Current Time: 17:06:45\n"
     ]
    },
    {
     "ename": "KeyboardInterrupt",
     "evalue": "",
     "output_type": "error",
     "traceback": [
      "\u001b[31m---------------------------------------------------------------------------\u001b[39m",
      "\u001b[31mKeyboardInterrupt\u001b[39m                         Traceback (most recent call last)",
      "\u001b[36mCell\u001b[39m\u001b[36m \u001b[39m\u001b[32mIn[2]\u001b[39m\u001b[32m, line 8\u001b[39m\n\u001b[32m      6\u001b[39m current_time = time.strftime(\u001b[33m\"\u001b[39m\u001b[33m%\u001b[39m\u001b[33mH:\u001b[39m\u001b[33m%\u001b[39m\u001b[33mM:\u001b[39m\u001b[33m%\u001b[39m\u001b[33mS\u001b[39m\u001b[33m\"\u001b[39m)\n\u001b[32m      7\u001b[39m \u001b[38;5;28mprint\u001b[39m(\u001b[33m\"\u001b[39m\u001b[33mCurrent Time:\u001b[39m\u001b[33m\"\u001b[39m, current_time)\n\u001b[32m----> \u001b[39m\u001b[32m8\u001b[39m \u001b[43mtime\u001b[49m\u001b[43m.\u001b[49m\u001b[43msleep\u001b[49m\u001b[43m(\u001b[49m\u001b[32;43m1\u001b[39;49m\u001b[43m)\u001b[49m\n",
      "\u001b[31mKeyboardInterrupt\u001b[39m: "
     ]
    }
   ],
   "source": [
    "#  display current time every second\n",
    "\n",
    "import time\n",
    "\n",
    "while True:       \n",
    "    current_time = time.strftime(\"%H:%M:%S\")\n",
    "    print(\"Current Time:\", current_time)\n",
    "    time.sleep(1)\n",
    "\n"
   ]
  },
  {
   "cell_type": "code",
   "execution_count": 11,
   "id": "c024eeca",
   "metadata": {},
   "outputs": [
    {
     "name": "stdout",
     "output_type": "stream",
     "text": [
      "Year: 2025, Month: April\n"
     ]
    }
   ],
   "source": [
    "from datetime import datetime\n",
    "now = datetime.now()\n",
    "\n",
    "\n",
    "current_year = now.year\n",
    "current_month = now.strftime(\"%B\") \n",
    "\n",
    "print(f\"Year: {current_year}, Month: {current_month}\")\n"
   ]
  },
  {
   "cell_type": "code",
   "execution_count": null,
   "id": "9047d4c4",
   "metadata": {},
   "outputs": [
    {
     "name": "stdout",
     "output_type": "stream",
     "text": [
      "17:23:29.583659\n"
     ]
    }
   ],
   "source": [
    "# datetime tasks\n",
    "# task --> print current time\n",
    "from datetime import datetime\n",
    "print(datetime.now().time())"
   ]
  },
  {
   "cell_type": "code",
   "execution_count": null,
   "id": "3684d147",
   "metadata": {},
   "outputs": [
    {
     "name": "stdout",
     "output_type": "stream",
     "text": [
      "17\n"
     ]
    }
   ],
   "source": [
    "# 2-> print days until a specific date\n",
    "\n",
    "from datetime import datetime\n",
    "\n",
    "def days_until(target_date):\n",
    "    today = datetime.today()\n",
    "    target_date = datetime.strptime(target_date, \"%Y-%m-%d\")\n",
    "    delta = target_date - today\n",
    "    return delta.days\n",
    "\n",
    "\n",
    "target_date = \"2025-04-25\"\n",
    "print(days_until(target_date))\n",
    "\n"
   ]
  },
  {
   "cell_type": "code",
   "execution_count": 46,
   "id": "2ed506a2",
   "metadata": {},
   "outputs": [
    {
     "name": "stdout",
     "output_type": "stream",
     "text": [
      "07-04-2025\n"
     ]
    }
   ],
   "source": [
    "# 3--> convert a user input from yyyy-mm-dd to dd-mm-yyy\n",
    "\n",
    "\n",
    "def con(date_str):\n",
    "  \n",
    "    year, month, day = date_str.split()\n",
    " \n",
    "    return f\"{day}-{month}-{year}\"\n",
    "\n",
    "\n",
    "input_date = \"2025 04 07\"\n",
    "\n",
    "print(con(input_date))\n"
   ]
  },
  {
   "cell_type": "code",
   "execution_count": 48,
   "id": "4c252c09",
   "metadata": {},
   "outputs": [
    {
     "name": "stdout",
     "output_type": "stream",
     "text": [
      "Name: Aditya Gupta, Age: 36, Phone: +91 7397215123, Email: aditya.gupta@outlook.com\n",
      "Name: Aarav Gupta, Age: 52, Phone: +91 6732432746, Email: aarav.gupta@hotmail.com\n",
      "Name: Aarav Sharma, Age: 39, Phone: +91 9302491521, Email: aarav.sharma@outlook.com\n",
      "Name: Vivaan Singh, Age: 47, Phone: +91 6596963972, Email: vivaan.singh@hotmail.com\n",
      "Name: Aditya Rao, Age: 44, Phone: +91 8714181006, Email: aditya.rao@yahoo.com\n",
      "Name: Aarav Patel, Age: 29, Phone: +91 9975563084, Email: aarav.patel@hotmail.com\n",
      "Name: Vivaan Nair, Age: 59, Phone: +91 9843667460, Email: vivaan.nair@hotmail.com\n",
      "Name: Ananya Rao, Age: 23, Phone: +91 8585510471, Email: ananya.rao@outlook.com\n",
      "Name: Arjun Singh, Age: 35, Phone: +91 8479701994, Email: arjun.singh@yahoo.com\n",
      "Name: Vivaan Das, Age: 32, Phone: +91 9048045100, Email: vivaan.das@yahoo.com\n"
     ]
    }
   ],
   "source": [
    "import random\n",
    "import string\n",
    "\n",
    "# Sample data for names\n",
    "first_names = [\"Aarav\", \"Vivaan\", \"Aditya\", \"Vihaan\", \"Arjun\", \"Sai\", \"Ananya\", \"Diya\", \"Ishita\", \"Meera\"]\n",
    "last_names = [\"Sharma\", \"Verma\", \"Reddy\", \"Nair\", \"Patel\", \"Gupta\", \"Kumar\", \"Singh\", \"Das\", \"Rao\"]\n",
    "\n",
    "# Function to generate a random phone number\n",
    "def generate_phone_number():\n",
    "    return f\"+91 {random.randint(6000000000, 9999999999)}\"\n",
    "\n",
    "# Function to generate a random email based on name\n",
    "def generate_email(first_name, last_name):\n",
    "    domains = [\"gmail.com\", \"yahoo.com\", \"outlook.com\", \"hotmail.com\"]\n",
    "    return f\"{first_name.lower()}.{last_name.lower()}@{random.choice(domains)}\"\n",
    "\n",
    "# Function to generate random age\n",
    "def generate_age():\n",
    "    return random.randint(18, 60)\n",
    "\n",
    "# Generate 10 random entries\n",
    "for _ in range(10):\n",
    "    first_name = random.choice(first_names)\n",
    "    last_name = random.choice(last_names)\n",
    "    age = generate_age()\n",
    "    phone_number = generate_phone_number()\n",
    "    email = generate_email(first_name, last_name)\n",
    "    \n",
    "    print(f\"Name: {first_name} {last_name}, Age: {age}, Phone: {phone_number}, Email: {email}\")\n"
   ]
  }
 ],
 "metadata": {
  "kernelspec": {
   "display_name": "Python 3",
   "language": "python",
   "name": "python3"
  },
  "language_info": {
   "codemirror_mode": {
    "name": "ipython",
    "version": 3
   },
   "file_extension": ".py",
   "mimetype": "text/x-python",
   "name": "python",
   "nbconvert_exporter": "python",
   "pygments_lexer": "ipython3",
   "version": "3.12.3"
  }
 },
 "nbformat": 4,
 "nbformat_minor": 5
}
