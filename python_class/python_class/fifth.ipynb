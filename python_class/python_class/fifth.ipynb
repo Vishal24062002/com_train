{
 "cells": [
  {
   "cell_type": "markdown",
   "id": "6779a84f",
   "metadata": {},
   "source": []
  },
  {
   "cell_type": "code",
   "execution_count": 4,
   "id": "fd63e822",
   "metadata": {},
   "outputs": [
    {
     "name": "stdout",
     "output_type": "stream",
     "text": [
      "jai mata di ❤ jai shree ram ❤\n",
      "jai mata di ❤ jai shree ram ❤\n",
      "jai mata di ❤ jai shree ram ❤\n",
      "jai mata di ❤ jai shree ram ❤\n",
      "jai mata di ❤ jai shree ram ❤\n",
      "jai mata di ❤ jai shree ram ❤\n",
      "jai mata di ❤ jai shree ram ❤\n",
      "jai mata di ❤ jai shree ram ❤\n",
      "jai mata di ❤ jai shree ram ❤\n",
      "jai mata di ❤ jai shree ram ❤\n",
      "jai mata di ❤ jai shree ram ❤\n",
      "jai mata di ❤ jai shree ram ❤\n",
      "jai mata di ❤ jai shree ram ❤\n",
      "jai mata di ❤ jai shree ram ❤\n",
      "jai mata di ❤ jai shree ram ❤\n",
      "jai mata di ❤ jai shree ram ❤\n",
      "jai mata di ❤ jai shree ram ❤\n",
      "jai mata di ❤ jai shree ram ❤\n",
      "jai mata di ❤ jai shree ram ❤\n",
      "jai mata di ❤ jai shree ram ❤\n",
      "jai mata di ❤ jai shree ram ❤\n",
      "jai mata di ❤ jai shree ram ❤\n",
      "jai mata di ❤ jai shree ram ❤\n",
      "jai mata di ❤ jai shree ram ❤\n",
      "jai mata di ❤ jai shree ram ❤\n",
      "jai mata di ❤ jai shree ram ❤\n",
      "jai mata di ❤ jai shree ram ❤\n",
      "jai mata di ❤ jai shree ram ❤\n",
      "jai mata di ❤ jai shree ram ❤\n",
      "jai mata di ❤ jai shree ram ❤\n",
      "jai mata di ❤ jai shree ram ❤\n",
      "jai mata di ❤ jai shree ram ❤\n",
      "jai mata di ❤ jai shree ram ❤\n",
      "jai mata di ❤ jai shree ram ❤\n",
      "jai mata di ❤ jai shree ram ❤\n",
      "jai mata di ❤ jai shree ram ❤\n",
      "jai mata di ❤ jai shree ram ❤\n",
      "jai mata di ❤ jai shree ram ❤\n",
      "jai mata di ❤ jai shree ram ❤\n",
      "jai mata di ❤ jai shree ram ❤\n",
      "jai mata di ❤ jai shree ram ❤\n",
      "jai mata di ❤ jai shree ram ❤\n",
      "jai mata di ❤ jai shree ram ❤\n",
      "jai mata di ❤ jai shree ram ❤\n",
      "jai mata di ❤ jai shree ram ❤\n",
      "jai mata di ❤ jai shree ram ❤\n",
      "jai mata di ❤ jai shree ram ❤\n",
      "jai mata di ❤ jai shree ram ❤\n",
      "jai mata di ❤ jai shree ram ❤\n",
      "jai mata di ❤ jai shree ram ❤\n",
      "jai mata di ❤ jai shree ram ❤\n",
      "jai mata di ❤ jai shree ram ❤\n",
      "jai mata di ❤ jai shree ram ❤\n",
      "jai mata di ❤ jai shree ram ❤\n",
      "jai mata di ❤ jai shree ram ❤\n",
      "jai mata di ❤ jai shree ram ❤\n",
      "jai mata di ❤ jai shree ram ❤\n",
      "jai mata di ❤ jai shree ram ❤\n",
      "jai mata di ❤ jai shree ram ❤\n",
      "jai mata di ❤ jai shree ram ❤\n",
      "jai mata di ❤ jai shree ram ❤\n",
      "jai mata di ❤ jai shree ram ❤\n",
      "jai mata di ❤ jai shree ram ❤\n",
      "jai mata di ❤ jai shree ram ❤\n",
      "jai mata di ❤ jai shree ram ❤\n",
      "jai mata di ❤ jai shree ram ❤\n",
      "jai mata di ❤ jai shree ram ❤\n",
      "jai mata di ❤ jai shree ram ❤\n",
      "jai mata di ❤ jai shree ram ❤\n",
      "jai mata di ❤ jai shree ram ❤\n",
      "jai mata di ❤ jai shree ram ❤\n",
      "jai mata di ❤ jai shree ram ❤\n",
      "jai mata di ❤ jai shree ram ❤\n",
      "jai mata di ❤ jai shree ram ❤\n",
      "jai mata di ❤ jai shree ram ❤\n",
      "jai mata di ❤ jai shree ram ❤\n",
      "jai mata di ❤ jai shree ram ❤\n",
      "jai mata di ❤ jai shree ram ❤\n",
      "jai mata di ❤ jai shree ram ❤\n",
      "jai mata di ❤ jai shree ram ❤\n",
      "jai mata di ❤ jai shree ram ❤\n",
      "jai mata di ❤ jai shree ram ❤\n",
      "jai mata di ❤ jai shree ram ❤\n",
      "jai mata di ❤ jai shree ram ❤\n",
      "jai mata di ❤ jai shree ram ❤\n",
      "jai mata di ❤ jai shree ram ❤\n",
      "jai mata di ❤ jai shree ram ❤\n",
      "jai mata di ❤ jai shree ram ❤\n",
      "jai mata di ❤ jai shree ram ❤\n",
      "jai mata di ❤ jai shree ram ❤\n",
      "jai mata di ❤ jai shree ram ❤\n",
      "jai mata di ❤ jai shree ram ❤\n",
      "jai mata di ❤ jai shree ram ❤\n",
      "jai mata di ❤ jai shree ram ❤\n",
      "jai mata di ❤ jai shree ram ❤\n",
      "jai mata di ❤ jai shree ram ❤\n",
      "jai mata di ❤ jai shree ram ❤\n",
      "jai mata di ❤ jai shree ram ❤\n",
      "jai mata di ❤ jai shree ram ❤\n",
      "jai mata di ❤ jai shree ram ❤\n",
      "jai mata di ❤ jai shree ram ❤\n",
      "jai mata di ❤ jai shree ram ❤\n",
      "jai mata di ❤ jai shree ram ❤\n",
      "jai mata di ❤ jai shree ram ❤\n",
      "jai mata di ❤ jai shree ram ❤\n",
      "jai mata di ❤ jai shree ram ❤\n",
      "jai mata di ❤ jai shree ram ❤\n",
      "jai mata di ❤ jai shree ram ❤\n",
      "jai mata di ❤ jai shree ram ❤\n"
     ]
    }
   ],
   "source": [
    "for i in range(109):\n",
    "    print(\"jai mata di ❤\",end=\" \")\n",
    "    print(\"jai shree ram ❤\")"
   ]
  },
  {
   "cell_type": "code",
   "execution_count": 7,
   "id": "efae3f76",
   "metadata": {},
   "outputs": [],
   "source": [
    "# scope inside a nested function\n",
    "\n",
    "def data():\n",
    "    clr='green'\n",
    "    def fly():\n",
    "        nonlocal clr\n",
    "        clr='red'\n",
    "    fly()\n",
    "data()\n"
   ]
  },
  {
   "cell_type": "code",
   "execution_count": 8,
   "id": "2f9a809c",
   "metadata": {},
   "outputs": [
    {
     "name": "stdout",
     "output_type": "stream",
     "text": [
      "2\n",
      "blue\n",
      "vishal\n"
     ]
    }
   ],
   "source": [
    "name=\"vishal\"\n",
    "cnt=1\n",
    "\n",
    "def ano():\n",
    "    clr='blue'\n",
    "    global cnt\n",
    "    cnt+=1\n",
    "    print(cnt)\n",
    "    \n",
    "    def greet():\n",
    "        nonlocal clr\n",
    "        crl=\"red\"\n",
    "        print(clr)\n",
    "        print(name)\n",
    "    greet()\n",
    "ano()\n"
   ]
  },
  {
   "cell_type": "code",
   "execution_count": 10,
   "id": "0f0e0e1c",
   "metadata": {},
   "outputs": [
    {
     "name": "stdout",
     "output_type": "stream",
     "text": [
      "<class 'list_iterator'>\n"
     ]
    }
   ],
   "source": [
    "print(type(iter([1,2,3,4,5,5])))"
   ]
  },
  {
   "cell_type": "code",
   "execution_count": null,
   "id": "310c482c",
   "metadata": {},
   "outputs": [],
   "source": []
  },
  {
   "cell_type": "code",
   "execution_count": 27,
   "id": "43dfd065",
   "metadata": {},
   "outputs": [
    {
     "name": "stdout",
     "output_type": "stream",
     "text": [
      "0 a\n",
      "1 b\n",
      "2 c\n"
     ]
    }
   ],
   "source": [
    "ab=['a','b','c']\n",
    "for i,v in enumerate(ab):\n",
    "    print(i,v)"
   ]
  },
  {
   "cell_type": "code",
   "execution_count": 29,
   "id": "e34383dc",
   "metadata": {},
   "outputs": [
    {
     "data": {
      "text/plain": [
       "[(0, 'a'), (1, 'b'), (2, 'c')]"
      ]
     },
     "execution_count": 29,
     "metadata": {},
     "output_type": "execute_result"
    }
   ],
   "source": [
    "next(enumerate(ab))\n",
    "list(enumerate(ab))"
   ]
  },
  {
   "cell_type": "code",
   "execution_count": 31,
   "id": "8ec55a77",
   "metadata": {},
   "outputs": [
    {
     "name": "stdout",
     "output_type": "stream",
     "text": [
      "<generator object si at 0x000001EF4BED3060>\n"
     ]
    }
   ],
   "source": [
    "#generator -> generstor is use to create iterator they are memory efficent\n",
    "\n",
    "def si():\n",
    "    yield 1\n",
    "    yield 2\n",
    "    yield 3\n",
    "gen=si()\n",
    "print(si())"
   ]
  },
  {
   "cell_type": "code",
   "execution_count": 36,
   "id": "028d0c2f",
   "metadata": {},
   "outputs": [
    {
     "name": "stdout",
     "output_type": "stream",
     "text": [
      "1\n"
     ]
    }
   ],
   "source": [
    "\n",
    "def si():\n",
    "    yield 1\n",
    "    yield 2\n",
    "    yield 3\n",
    "# for i in si():\n",
    "#     print(i)\n",
    "\n",
    "b=iter(si())\n",
    "print(next(b))"
   ]
  },
  {
   "cell_type": "code",
   "execution_count": 35,
   "id": "bbf5d73a",
   "metadata": {},
   "outputs": [
    {
     "name": "stdout",
     "output_type": "stream",
     "text": [
      "6\n"
     ]
    }
   ],
   "source": [
    "def si():\n",
    "    return 1+2+3\n",
    " \n",
    "\n",
    "print(si())"
   ]
  },
  {
   "cell_type": "code",
   "execution_count": 39,
   "id": "ae747c1c",
   "metadata": {},
   "outputs": [
    {
     "name": "stdout",
     "output_type": "stream",
     "text": [
      "0\n",
      "1\n",
      "2\n",
      "3\n",
      "4\n",
      "5\n",
      "6\n"
     ]
    }
   ],
   "source": [
    "# when we required to generate infinte number then we use it ,it generate always next number from last number and it can not started form zero\n",
    "#  it user defines generator\n",
    "\n",
    "def ifn():\n",
    "    num=0\n",
    "    while True:\n",
    "        yield num\n",
    "        num+=1\n",
    "gen=ifn()\n",
    "print(next(gen))\n",
    "print(next(gen))\n",
    "print(next(gen))\n",
    "print(next(gen))\n",
    "print(next(gen))\n",
    "print(next(gen))\n",
    "print(next(gen))"
   ]
  },
  {
   "cell_type": "code",
   "execution_count": 43,
   "id": "af9b9254",
   "metadata": {},
   "outputs": [
    {
     "name": "stdout",
     "output_type": "stream",
     "text": [
      "0\n"
     ]
    }
   ],
   "source": [
    "# without yeild\n",
    "\n",
    "gener=(x for x in range(5))\n",
    "gener\n",
    "print(next(gener))"
   ]
  },
  {
   "cell_type": "code",
   "execution_count": null,
   "id": "c5d93bac",
   "metadata": {},
   "outputs": [],
   "source": [
    "# a=[x for x in range(10**9)]\n",
    "# a[0]"
   ]
  },
  {
   "cell_type": "code",
   "execution_count": 45,
   "id": "01d48674",
   "metadata": {},
   "outputs": [
    {
     "name": "stdout",
     "output_type": "stream",
     "text": [
      "1\n",
      "2\n",
      "3\n",
      "4\n",
      "5\n",
      "6\n",
      "7\n",
      "8\n",
      "9\n",
      "10\n"
     ]
    }
   ],
   "source": [
    "# genarte number from 1 to n\n",
    "# write a generator function that yield number from 1 to n\n",
    "\n",
    "def ad(n):\n",
    "    for i in range(1,n+1):\n",
    "        yield i\n",
    "n=10\n",
    "for i in ad(n):\n",
    "    print(i)"
   ]
  },
  {
   "cell_type": "code",
   "execution_count": 50,
   "id": "113ed86d",
   "metadata": {},
   "outputs": [
    {
     "name": "stdout",
     "output_type": "stream",
     "text": [
      "0 1 1 2 3 5 8 13 21 34 "
     ]
    }
   ],
   "source": [
    "# fibonic sequence generator \n",
    "#  write a generator to yield first n fibonacci numbers\n",
    "\n",
    "def fib():\n",
    "    x,y=0,1\n",
    "    while True:\n",
    "        yield x\n",
    "        x,y=y,x+y\n",
    "\n",
    "n=10\n",
    "fibonic=fib()\n",
    "for _ in range(n  ):\n",
    "    print(next(fibonic),end=\" \")\n"
   ]
  },
  {
   "cell_type": "code",
   "execution_count": 54,
   "id": "254d845f",
   "metadata": {},
   "outputs": [
    {
     "name": "stdout",
     "output_type": "stream",
     "text": [
      "2\n",
      "4\n",
      "6\n"
     ]
    }
   ],
   "source": [
    "# even number from list\n",
    "# print the even  number from a list using yield .\n",
    "\n",
    "def even(l):\n",
    "    for i in l:\n",
    "        if i%2==0:\n",
    "            yield i\n",
    "\n",
    "\n",
    "l=[1,2,3,4,5,6,7]\n",
    "\n",
    "for i in even(l):\n",
    "    print(i)\n"
   ]
  },
  {
   "cell_type": "code",
   "execution_count": 69,
   "id": "fe93f18b",
   "metadata": {},
   "outputs": [
    {
     "name": "stdout",
     "output_type": "stream",
     "text": [
      "1\n",
      "3\n",
      "5\n",
      "7\n",
      "9\n",
      "11\n",
      "13\n",
      "15\n",
      "17\n",
      "19\n"
     ]
    }
   ],
   "source": [
    "# create a generator that yield odd number infinite strating from 1\n",
    "\n",
    "def odd():\n",
    "    n=1\n",
    "    while True:\n",
    "        yield n\n",
    "        n+=2\n",
    "od=odd()\n",
    "for _ in range(10):\n",
    "    print(next(od))\n"
   ]
  },
  {
   "cell_type": "code",
   "execution_count": null,
   "id": "01f80c80",
   "metadata": {},
   "outputs": [
    {
     "name": "stdout",
     "output_type": "stream",
     "text": [
      "before hi\n",
      "hello\n",
      "after hi\n",
      "hello\n",
      "hello\n",
      "hello\n",
      "hello\n"
     ]
    }
   ],
   "source": [
    "# Decorator\n",
    "\n",
    "def deco(func):\n",
    "\n",
    "    def wrapper():\n",
    "        print(\"before hi\")\n",
    "        func()\n",
    "        print(\"after hi\")\n",
    "        \n",
    "    return wrapper\n",
    "@deco\n",
    "\n",
    "def hi():\n",
    "    print(\"hello\")\n",
    "hi()"
   ]
  },
  {
   "cell_type": "code",
   "execution_count": null,
   "id": "c75aa245",
   "metadata": {},
   "outputs": [
    {
     "name": "stdout",
     "output_type": "stream",
     "text": [
      "wrapper excuted this before  display\n"
     ]
    },
    {
     "data": {
      "text/plain": [
       "<function __main__.display()>"
      ]
     },
     "execution_count": 78,
     "metadata": {},
     "output_type": "execute_result"
    }
   ],
   "source": [
    "def dec(func):\n",
    "    def wrapper():\n",
    "        print(\"wrapper excuted this before \",func.__name__)\n",
    "        return func\n",
    "    return wrapper\n",
    "\n",
    "def display():\n",
    "    print(\"display function \")\n",
    "\n",
    "# deco=dec(display)\n",
    "\n",
    "# deco()\n",
    "@ dec\n",
    "def hi():\n",
    "    print(\"hello\")\n",
    "    \n"
   ]
  },
  {
   "cell_type": "code",
   "execution_count": null,
   "id": "e66d4802",
   "metadata": {},
   "outputs": [
    {
     "name": "stdout",
     "output_type": "stream",
     "text": [
      "wrapper excuted this before  hi\n"
     ]
    },
    {
     "data": {
      "text/plain": [
       "<function __main__.hi()>"
      ]
     },
     "execution_count": 79,
     "metadata": {},
     "output_type": "execute_result"
    }
   ],
   "source": [
    "def dec(func):\n",
    "    def wrapper():\n",
    "        print(\"wrapper excuted this before \",func.__name__)\n",
    "        return func\n",
    "    return wrapper\n",
    "\n",
    "\n",
    "@ dec   \n",
    "def hi():\n",
    "    print(\"hello\")\n",
    "\n",
    "hi()\n",
    "    \n"
   ]
  },
  {
   "cell_type": "code",
   "execution_count": 87,
   "id": "b3e135c2",
   "metadata": {},
   "outputs": [
    {
     "name": "stdout",
     "output_type": "stream",
     "text": [
      "function executed\n",
      "function executed\n",
      "function executed\n",
      "function executed\n",
      "function executed\n",
      "function executed\n",
      "the functio example was called 6 times\n"
     ]
    }
   ],
   "source": [
    "def cnt(func):\n",
    "    def wrapper(*args,**kwargs):\n",
    "        wrapper.count+=1\n",
    "        return func(*args,**kwargs)\n",
    "    wrapper.count=0\n",
    "    return wrapper\n",
    "@cnt\n",
    "def exm():\n",
    "    \"\"\"this is s example of it is what is\"\"\"\n",
    "    print(\"function executed\")\n",
    "\n",
    "exm()\n",
    "exm()\n",
    "exm()\n",
    "exm()\n",
    "exm()\n",
    "exm()\n",
    "print(f'the functio example was called {exm.count} times')\n",
    "\n"
   ]
  },
  {
   "cell_type": "code",
   "execution_count": 93,
   "id": "b22c29ba",
   "metadata": {},
   "outputs": [
    {
     "name": "stdout",
     "output_type": "stream",
     "text": [
      "ABC\n",
      "123\n"
     ]
    }
   ],
   "source": [
    "def dec(func):\n",
    "    def wrapper(*args,**kwrgs):\n",
    "        result=func(*args,**kwrgs)\n",
    "        if isinstance(result,str):\n",
    "            return result.upper()\n",
    "        return result\n",
    "    return wrapper\n",
    "\n",
    "@dec\n",
    "def getstr():\n",
    "    return \"abc\"\n",
    "\n",
    "@dec\n",
    "def num():\n",
    "    return 123\n",
    "\n",
    "print(getstr())\n",
    "print(num())"
   ]
  },
  {
   "cell_type": "code",
   "execution_count": null,
   "id": "27d467cb",
   "metadata": {},
   "outputs": [
    {
     "name": "stdout",
     "output_type": "stream",
     "text": [
      "200\n"
     ]
    }
   ],
   "source": [
    "def dec1(func):\n",
    "    def inner():\n",
    "        x=func()\n",
    "        x=x*x\n",
    "\n",
    "        return x\n",
    "    return inner\n",
    "def dec2(func):\n",
    "    def inner():\n",
    "        x=func()\n",
    "        x=x*2\n",
    "\n",
    "        return x\n",
    "    return inner\n",
    "\n",
    "@dec2\n",
    "@dec1\n",
    "def num():\n",
    "    return 10\n",
    "print(num())\n",
    "\n"
   ]
  },
  {
   "cell_type": "code",
   "execution_count": null,
   "id": "15a9ff33",
   "metadata": {},
   "outputs": [
    {
     "data": {
      "text/plain": [
       "8"
      ]
     },
     "execution_count": 96,
     "metadata": {},
     "output_type": "execute_result"
    }
   ],
   "source": [
    "# lambda function\n",
    "\n",
    "a=lambda a,b:a*b\n",
    "a(2,4)\n"
   ]
  },
  {
   "cell_type": "code",
   "execution_count": 98,
   "id": "44297999",
   "metadata": {},
   "outputs": [
    {
     "data": {
      "text/plain": [
       "'sba'"
      ]
     },
     "execution_count": 98,
     "metadata": {},
     "output_type": "execute_result"
    }
   ],
   "source": [
    "\n",
    "st=lambda s: s[::-1]\n",
    "st(\"abs\")"
   ]
  },
  {
   "cell_type": "code",
   "execution_count": null,
   "id": "66054779",
   "metadata": {},
   "outputs": [
    {
     "data": {
      "text/plain": [
       "4"
      ]
     },
     "execution_count": 99,
     "metadata": {},
     "output_type": "execute_result"
    }
   ],
   "source": [
    "x=lambda a,b: a if a>b else b\n",
    "x(2,4)\n"
   ]
  },
  {
   "cell_type": "code",
   "execution_count": 101,
   "id": "6924c509",
   "metadata": {},
   "outputs": [
    {
     "data": {
      "text/plain": [
       "'even'"
      ]
     },
     "execution_count": 101,
     "metadata": {},
     "output_type": "execute_result"
    }
   ],
   "source": [
    "x=lambda x: \"even\" if x%2==0 else \"odd\"\n",
    "x(4)"
   ]
  },
  {
   "cell_type": "code",
   "execution_count": null,
   "id": "7022dfa6",
   "metadata": {},
   "outputs": [],
   "source": [
    "# sort the dictionary\n",
    "\n"
   ]
  }
 ],
 "metadata": {
  "kernelspec": {
   "display_name": "Python 3",
   "language": "python",
   "name": "python3"
  },
  "language_info": {
   "codemirror_mode": {
    "name": "ipython",
    "version": 3
   },
   "file_extension": ".py",
   "mimetype": "text/x-python",
   "name": "python",
   "nbconvert_exporter": "python",
   "pygments_lexer": "ipython3",
   "version": "3.12.3"
  }
 },
 "nbformat": 4,
 "nbformat_minor": 5
}
