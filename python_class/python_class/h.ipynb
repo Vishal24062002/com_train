{
 "cells": [
  {
   "cell_type": "code",
   "execution_count": 7,
   "metadata": {},
   "outputs": [
    {
     "name": "stdout",
     "output_type": "stream",
     "text": [
      "hello\n"
     ]
    }
   ],
   "source": [
    "print(\"hello\")"
   ]
  },
  {
   "cell_type": "code",
   "execution_count": 9,
   "metadata": {},
   "outputs": [
    {
     "name": "stdout",
     "output_type": "stream",
     "text": [
      "(1, 2, 3, 4)\n",
      "<class 'tuple'>\n"
     ]
    }
   ],
   "source": [
    "a=1,2,3,4 #packing\n",
    "print(a)\n",
    "print(type(a)) #by default data structure is tuple"
   ]
  },
  {
   "cell_type": "code",
   "execution_count": 10,
   "metadata": {},
   "outputs": [
    {
     "name": "stdout",
     "output_type": "stream",
     "text": [
      "('abc', 12, 12.5)\n"
     ]
    }
   ],
   "source": [
    "data='abc',12,12.5\n",
    "print(data)"
   ]
  },
  {
   "cell_type": "code",
   "execution_count": 11,
   "metadata": {},
   "outputs": [
    {
     "name": "stdout",
     "output_type": "stream",
     "text": [
      "abc\n",
      "12\n",
      "12.5\n"
     ]
    }
   ],
   "source": [
    "name,age,weight=data  #unpacking data\n",
    "print(name)\n",
    "print(age)\n",
    "print(weight)\n"
   ]
  },
  {
   "cell_type": "code",
   "execution_count": 13,
   "metadata": {},
   "outputs": [
    {
     "name": "stdout",
     "output_type": "stream",
     "text": [
      "10\n"
     ]
    }
   ],
   "source": [
    "a=10.4\n",
    "b=round(a)\n",
    "print(b)\n",
    " "
   ]
  },
  {
   "cell_type": "code",
   "execution_count": 14,
   "metadata": {},
   "outputs": [
    {
     "name": "stdout",
     "output_type": "stream",
     "text": [
      "1/2/3/4/5\n"
     ]
    }
   ],
   "source": [
    "print(1,2,3,4,5,sep=\"/\")\n"
   ]
  },
  {
   "cell_type": "code",
   "execution_count": 18,
   "metadata": {},
   "outputs": [
    {
     "name": "stdout",
     "output_type": "stream",
     "text": [
      "100000000000000000000\n"
     ]
    }
   ],
   "source": [
    "a=10\n",
    "b=20\n",
    "print(a**b)"
   ]
  },
  {
   "cell_type": "code",
   "execution_count": 19,
   "metadata": {},
   "outputs": [
    {
     "name": "stdout",
     "output_type": "stream",
     "text": [
      "x>y False\n"
     ]
    }
   ],
   "source": [
    "x=10\n",
    "y=30\n",
    "print('x>y',x>y)\n"
   ]
  },
  {
   "cell_type": "code",
   "execution_count": 20,
   "metadata": {},
   "outputs": [
    {
     "name": "stdout",
     "output_type": "stream",
     "text": [
      "abc is studying in 8th\n"
     ]
    }
   ],
   "source": [
    "name='abc'\n",
    "std='8th'\n",
    "print(name,'is studying in',std)"
   ]
  },
  {
   "cell_type": "code",
   "execution_count": 21,
   "metadata": {},
   "outputs": [
    {
     "name": "stdout",
     "output_type": "stream",
     "text": [
      "abc is studing in 8th\n"
     ]
    }
   ],
   "source": [
    "print(f'{name} is studing in {std}')\n"
   ]
  },
  {
   "cell_type": "code",
   "execution_count": 24,
   "metadata": {},
   "outputs": [
    {
     "name": "stdout",
     "output_type": "stream",
     "text": [
      "1256.0\n"
     ]
    }
   ],
   "source": [
    "#area of circle\n",
    "r=float(input(\"enter the radius\"))\n",
    "area=3.14*r*r\n",
    "print(area)"
   ]
  },
  {
   "cell_type": "code",
   "execution_count": 25,
   "metadata": {},
   "outputs": [
    {
     "name": "stdout",
     "output_type": "stream",
     "text": [
      "30.555555555555557\n"
     ]
    }
   ],
   "source": [
    "#conversion\n",
    "f=float(input(\"enter the temp in f\"))\n",
    "c=(f-32)*(5/9)\n",
    "print(c)"
   ]
  },
  {
   "cell_type": "code",
   "execution_count": 27,
   "metadata": {},
   "outputs": [
    {
     "name": "stdout",
     "output_type": "stream",
     "text": [
      "si=  1200.0\n"
     ]
    }
   ],
   "source": [
    "#si\n",
    "p=float(input(\"enter the principle\"))\n",
    "r=float(input(\"enter the rate of intrest\"))\n",
    "t=float(input(\"enter the time period\"))\n",
    "si=(p*r*t)/100\n",
    "print(\"si= \",si)\n",
    "\n"
   ]
  },
  {
   "cell_type": "code",
   "execution_count": 37,
   "metadata": {},
   "outputs": [
    {
     "name": "stdout",
     "output_type": "stream",
     "text": [
      "ci 472.87500000000045\n"
     ]
    }
   ],
   "source": [
    "# compound intrest\n",
    "p=float(input(\"enter the principle\"))\n",
    "r=float(input(\"enter the rate of intrest\"))\n",
    "t=float(input(\"enter the time period\"))\n",
    "\n",
    "a = p * ((1 + r /100) ** t)\n",
    "c=a-p\n",
    "print(\"ci\",c)"
   ]
  },
  {
   "cell_type": "code",
   "execution_count": 38,
   "metadata": {},
   "outputs": [
    {
     "name": "stdout",
     "output_type": "stream",
     "text": [
      "si=  6000.0\n",
      "your intrest is 6000.0 on rate of intrest 12.0 on your printciple 10000.0 for5.0 year\n"
     ]
    }
   ],
   "source": [
    "p=float(input(\"enter the principle\"))\n",
    "r=float(input(\"enter the rate of intrest\"))\n",
    "t=float(input(\"enter the time period\"))\n",
    "si=(p*r*t)/100\n",
    "print(\"si= \",si)\n",
    "print(f'your intrest is {si} on rate of intrest {r} on your printciple {p} for{t} year')"
   ]
  },
  {
   "cell_type": "code",
   "execution_count": 39,
   "metadata": {},
   "outputs": [
    {
     "data": {
      "text/plain": [
       "97"
      ]
     },
     "execution_count": 39,
     "metadata": {},
     "output_type": "execute_result"
    }
   ],
   "source": [
    "ord('a')"
   ]
  },
  {
   "cell_type": "code",
   "execution_count": 40,
   "metadata": {},
   "outputs": [
    {
     "data": {
      "text/plain": [
       "'0b1000001'"
      ]
     },
     "execution_count": 40,
     "metadata": {},
     "output_type": "execute_result"
    }
   ],
   "source": [
    "bin(65)"
   ]
  },
  {
   "cell_type": "code",
   "execution_count": 42,
   "metadata": {},
   "outputs": [
    {
     "data": {
      "text/plain": [
       "'a'"
      ]
     },
     "execution_count": 42,
     "metadata": {},
     "output_type": "execute_result"
    }
   ],
   "source": [
    "chr(97)"
   ]
  },
  {
   "cell_type": "code",
   "execution_count": 137,
   "metadata": {},
   "outputs": [
    {
     "data": {
      "text/plain": [
       "'ihl'"
      ]
     },
     "execution_count": 137,
     "metadata": {},
     "output_type": "execute_result"
    }
   ],
   "source": [
    "s=\"vishal\"\n",
    "\n",
    "s[1:6:2]\n"
   ]
  },
  {
   "cell_type": "code",
   "execution_count": null,
   "metadata": {},
   "outputs": [],
   "source": []
  },
  {
   "cell_type": "code",
   "execution_count": 48,
   "metadata": {},
   "outputs": [
    {
     "data": {
      "text/plain": [
       "'VISHAL'"
      ]
     },
     "execution_count": 48,
     "metadata": {},
     "output_type": "execute_result"
    }
   ],
   "source": [
    "s.upper()"
   ]
  },
  {
   "cell_type": "code",
   "execution_count": 53,
   "metadata": {},
   "outputs": [
    {
     "data": {
      "text/plain": [
       "True"
      ]
     },
     "execution_count": 53,
     "metadata": {},
     "output_type": "execute_result"
    }
   ],
   "source": [
    "\n",
    "5  in [1,2,3,4,5,6]\n"
   ]
  },
  {
   "cell_type": "code",
   "execution_count": 72,
   "metadata": {},
   "outputs": [
    {
     "name": "stdout",
     "output_type": "stream",
     "text": [
      "2\n"
     ]
    }
   ],
   "source": [
    "a=10\n",
    "b=8\n",
    "c=a^b\n",
    "print(c)\n",
    "\n"
   ]
  },
  {
   "cell_type": "code",
   "execution_count": 74,
   "metadata": {},
   "outputs": [
    {
     "data": {
      "text/plain": [
       "'0b1100'"
      ]
     },
     "execution_count": 74,
     "metadata": {},
     "output_type": "execute_result"
    }
   ],
   "source": [
    "bin(12)"
   ]
  },
  {
   "cell_type": "code",
   "execution_count": 86,
   "metadata": {},
   "outputs": [
    {
     "name": "stdout",
     "output_type": "stream",
     "text": [
      "123498765\n"
     ]
    }
   ],
   "source": [
    "s='123456789'\n",
    "s1=s[0:4]\n",
    "s2=s[4:9]\n",
    "s3=s2[::-1]\n",
    "str=s1+s3\n",
    "print(str)\n"
   ]
  },
  {
   "cell_type": "code",
   "execution_count": 89,
   "metadata": {},
   "outputs": [
    {
     "name": "stdout",
     "output_type": "stream",
     "text": [
      "b is greater\n"
     ]
    }
   ],
   "source": [
    "a=10\n",
    "b=20\n",
    "if a>b:\n",
    "    print(\"a is greater\")\n",
    "else:\n",
    "    print(\"b is greater\")\n"
   ]
  },
  {
   "cell_type": "code",
   "execution_count": 93,
   "metadata": {},
   "outputs": [
    {
     "name": "stdout",
     "output_type": "stream",
     "text": [
      "+ve\n"
     ]
    }
   ],
   "source": [
    "n=int(input(\"enter the number\"))\n",
    "if(n>0):\n",
    "    print(\"+ve\")\n",
    "elif(n<0):\n",
    "    print(\"-ve\")\n",
    "else:\n",
    "    print(\"zero\")\n"
   ]
  },
  {
   "cell_type": "code",
   "execution_count": 97,
   "metadata": {},
   "outputs": [
    {
     "name": "stdout",
     "output_type": "stream",
     "text": [
      "=ve\n"
     ]
    }
   ],
   "source": [
    "n=int(input(\"enter the number\"))\n",
    "if(n<=0):\n",
    "    if n==0:\n",
    "        print(\"zero\")\n",
    "    else:\n",
    "        print(\"-ve\")\n",
    "else:\n",
    "    \n",
    "    print(\"=ve\")"
   ]
  },
  {
   "cell_type": "code",
   "execution_count": 111,
   "metadata": {},
   "outputs": [
    {
     "name": "stdout",
     "output_type": "stream",
     "text": [
      "a is greater\n",
      "c is greater\n"
     ]
    }
   ],
   "source": [
    "a=int(input(\"enter the number\"))\n",
    "b=int(input(\"enter the number\"))\n",
    "c=int(input(\"enter the number\"))\n",
    "\n",
    "if(a>=b):\n",
    "    if(a>=c):\n",
    "        print(\"a is greater\")\n",
    "    print(\"c is greater\")\n",
    "else:\n",
    "    if b>=c:\n",
    "        print(\" b is greater\")\n",
    "    print(\" c is greter\")\n",
    " \n",
    "\n",
    "\n"
   ]
  },
  {
   "cell_type": "code",
   "execution_count": 112,
   "metadata": {},
   "outputs": [
    {
     "name": "stdout",
     "output_type": "stream",
     "text": [
      "b is greater\n"
     ]
    }
   ],
   "source": [
    "a=int(input(\"enter the number\"))\n",
    "b=int(input(\"enter the number\"))\n",
    "c=int(input(\"enter the number\"))\n",
    "\n",
    "if(a>b and a>c):\n",
    "        print(\"a is greater\")\n",
    "\n",
    "elif(b>a and b>c):\n",
    "            print(\"b is greater\")\n",
    "else:\n",
    "    print(\"c is greater\")\n"
   ]
  },
  {
   "cell_type": "code",
   "execution_count": 134,
   "metadata": {},
   "outputs": [
    {
     "name": "stdout",
     "output_type": "stream",
     "text": [
      "simple is better one\n"
     ]
    }
   ],
   "source": [
    "p=float(input(\"enter the principle\"))\n",
    "r=float(input(\"enter the rate of intrest\"))\n",
    "t=float(input(\"enter the time period\"))\n",
    "\n",
    "a = p * ((1 + r /100) ** t)\n",
    "c=a-p\n",
    "si=(p*r*t)/100\n",
    "\n",
    "if(si>c):\n",
    "    print(\"compound intrest is better for you\")\n",
    "else:\n",
    "    print(\"simple is better one\")\n",
    "\n"
   ]
  },
  {
   "cell_type": "code",
   "execution_count": 116,
   "metadata": {},
   "outputs": [
    {
     "name": "stdout",
     "output_type": "stream",
     "text": [
      "consonent\n"
     ]
    }
   ],
   "source": [
    "ch=input(\"enter the chracter\")\n",
    "ch.lower()\n",
    "if(ch=='a' or ch=='e' or ch=='i' or ch=='o' or ch=='u'):\n",
    "    print(\"vowel\")\n",
    "else:\n",
    "    print(\"consonent\")\n"
   ]
  },
  {
   "cell_type": "code",
   "execution_count": 2,
   "metadata": {},
   "outputs": [
    {
     "name": "stdout",
     "output_type": "stream",
     "text": [
      "not vowel\n"
     ]
    }
   ],
   "source": [
    "ch=input(\"enter the ch\")\n",
    "str = \"aeiouAEIOU\"\n",
    "if (ch in str):\n",
    "    print(\"vowel\")\n",
    "else:\n",
    "    print(\"not vowel\")\n",
    "\n",
    "  "
   ]
  },
  {
   "cell_type": "code",
   "execution_count": 133,
   "metadata": {},
   "outputs": [
    {
     "name": "stdout",
     "output_type": "stream",
     "text": [
      "enter the valid number \n"
     ]
    }
   ],
   "source": [
    "marks=input(\"enter the marks\")\n",
    "\n",
    "if(marks.isdigit()):\n",
    "    marks=int(marks)\n",
    "    if marks>=90 :\n",
    "        print(\"A\")\n",
    "    elif marks==90 and marks>=80:\n",
    "\n",
    "        print(\"B\")\n",
    "    elif marks==80 and marks>=70:\n",
    "        print(\"C\")\n",
    "    elif marks==70 and marks>=60:\n",
    "        print(\"D\")\n",
    "    else:\n",
    "        print(\"fail\")\n",
    "\n",
    "else:\n",
    "    print(\"enter the valid number \")"
   ]
  },
  {
   "cell_type": "code",
   "execution_count": 142,
   "metadata": {},
   "outputs": [
    {
     "name": "stdout",
     "output_type": "stream",
     "text": [
      "hello\n",
      "hello\n",
      "hello\n",
      "hello\n",
      "hello\n"
     ]
    }
   ],
   "source": [
    "#loops\n",
    "for _ in range(5): # if we dint need variable so we use_ here\n",
    "    print(\"hello\")\n"
   ]
  },
  {
   "cell_type": "code",
   "execution_count": 151,
   "metadata": {},
   "outputs": [
    {
     "name": "stdout",
     "output_type": "stream",
     "text": [
      "25*1=25\n",
      "25*2=50\n",
      "25*3=75\n",
      "25*4=100\n",
      "25*5=125\n",
      "25*6=150\n",
      "25*7=175\n",
      "25*8=200\n",
      "25*9=225\n",
      "25*10=250\n"
     ]
    }
   ],
   "source": [
    "n=int(input(\"enter the number\"))\n",
    "for i in range(1,11):\n",
    "    print(f'{n}*{i}={n*i}')"
   ]
  },
  {
   "cell_type": "code",
   "execution_count": 155,
   "metadata": {},
   "outputs": [
    {
     "name": "stdout",
     "output_type": "stream",
     "text": [
      "0\n",
      "5\n",
      "10\n",
      "15\n",
      "20\n",
      "25\n",
      "30\n",
      "35\n",
      "40\n",
      "45\n",
      "end\n"
     ]
    }
   ],
   "source": [
    "n=int(input(\"enter the number\"))\n",
    "for i in range(0 ,50,n):\n",
    "    print(i)\n",
    "else:\n",
    "    print(\"end\")\n"
   ]
  },
  {
   "cell_type": "code",
   "execution_count": null,
   "metadata": {},
   "outputs": [],
   "source": []
  },
  {
   "cell_type": "code",
   "execution_count": 4,
   "metadata": {},
   "outputs": [
    {
     "name": "stdout",
     "output_type": "stream",
     "text": [
      "3\n"
     ]
    }
   ],
   "source": [
    "str=input(\"enter the string\")\n",
    "str.lower()\n",
    "s='aeiou'\n",
    "count=0\n",
    "for i in str:\n",
    "    if(i in s ):\n",
    "        count+=1\n",
    "print(count)"
   ]
  },
  {
   "cell_type": "code",
   "execution_count": 159,
   "metadata": {},
   "outputs": [
    {
     "name": "stdout",
     "output_type": "stream",
     "text": [
      "2\n",
      "3\n",
      "5\n",
      "7\n",
      "11\n",
      "13\n",
      "17\n",
      "19\n",
      "23\n",
      "29\n",
      "31\n",
      "37\n",
      "41\n",
      "43\n",
      "47\n"
     ]
    }
   ],
   "source": [
    "for i in range(1,50):\n",
    "    if i>1:\n",
    "        for j in range(2,i):\n",
    "            if(i%j==0):\n",
    "                break\n",
    "        else:\n",
    "            print(i)"
   ]
  },
  {
   "cell_type": "code",
   "execution_count": 1,
   "metadata": {},
   "outputs": [
    {
     "name": "stdout",
     "output_type": "stream",
     "text": [
      "armstrong\n"
     ]
    }
   ],
   "source": [
    "n=int(input(\"enter the number\"))\n",
    "temp=n\n",
    "\n",
    "a=len(str(n))\n",
    "\n",
    "\n",
    "sum=0\n",
    "while n>0:\n",
    "    rem=n%10\n",
    "   \n",
    "    sum+=rem**a\n",
    "    n=n//10\n",
    "\n",
    "\n",
    "if(sum==temp):\n",
    "    print(\"armstrong\")\n",
    "else:\n",
    "    print(\"not armstrong\")"
   ]
  },
  {
   "cell_type": "code",
   "execution_count": 2,
   "metadata": {},
   "outputs": [
    {
     "name": "stdout",
     "output_type": "stream",
     "text": [
      "not palidrome\n"
     ]
    }
   ],
   "source": [
    "#palindrome number\n",
    "n=int(input(\"enter the number\"))\n",
    "temp=n\n",
    "rev=0\n",
    "while n>0:\n",
    "    rem=n%10\n",
    "    rev=rev*10+rem\n",
    "    n=n//10\n",
    "if rev==temp:\n",
    "    print(\"palindrome\")\n",
    "else:\n",
    "    print(\"not palidrome\")"
   ]
  },
  {
   "cell_type": "code",
   "execution_count": null,
   "metadata": {},
   "outputs": [],
   "source": []
  }
 ],
 "metadata": {
  "kernelspec": {
   "display_name": "Python 3",
   "language": "python",
   "name": "python3"
  },
  "language_info": {
   "codemirror_mode": {
    "name": "ipython",
    "version": 3
   },
   "file_extension": ".py",
   "mimetype": "text/x-python",
   "name": "python",
   "nbconvert_exporter": "python",
   "pygments_lexer": "ipython3",
   "version": "3.12.3"
  }
 },
 "nbformat": 4,
 "nbformat_minor": 2
}
