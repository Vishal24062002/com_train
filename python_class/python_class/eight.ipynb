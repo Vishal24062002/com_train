{
 "cells": [
  {
   "cell_type": "markdown",
   "id": "422f78ec",
   "metadata": {},
   "source": [
    "# Jai Shree Ram❤"
   ]
  },
  {
   "cell_type": "code",
   "execution_count": 2,
   "id": "8c53b920",
   "metadata": {},
   "outputs": [
    {
     "ename": "ZeroDivisionError",
     "evalue": "division by zero",
     "output_type": "error",
     "traceback": [
      "\u001b[31m---------------------------------------------------------------------------\u001b[39m",
      "\u001b[31mZeroDivisionError\u001b[39m                         Traceback (most recent call last)",
      "\u001b[36mCell\u001b[39m\u001b[36m \u001b[39m\u001b[32mIn[2]\u001b[39m\u001b[32m, line 1\u001b[39m\n\u001b[32m----> \u001b[39m\u001b[32m1\u001b[39m \u001b[38;5;28mprint\u001b[39m(\u001b[32;43m10\u001b[39;49m\u001b[43m/\u001b[49m\u001b[32;43m0\u001b[39;49m)\n\u001b[32m      2\u001b[39m \u001b[38;5;28mprint\u001b[39m(\u001b[33m\"\u001b[39m\u001b[33mhello\u001b[39m\u001b[33m\"\u001b[39m)\n",
      "\u001b[31mZeroDivisionError\u001b[39m: division by zero"
     ]
    }
   ],
   "source": [
    "print(10/0)\n",
    "print(\"hello\")"
   ]
  },
  {
   "cell_type": "code",
   "execution_count": 1,
   "id": "0de1bb06",
   "metadata": {},
   "outputs": [
    {
     "name": "stdout",
     "output_type": "stream",
     "text": [
      "some thing is wrong\n",
      "helo\n"
     ]
    }
   ],
   "source": [
    "try:\n",
    "    print(10/0)\n",
    "except ZeroDivisionError as e:\n",
    "    print('some thing is wrong')\n",
    "print(\"helo\")\n",
    "    "
   ]
  },
  {
   "cell_type": "code",
   "execution_count": null,
   "id": "f75cff05",
   "metadata": {},
   "outputs": [
    {
     "name": "stdout",
     "output_type": "stream",
     "text": [
      "some thing is wrong\n",
      "helo\n"
     ]
    }
   ],
   "source": [
    "try:\n",
    "    print(10/0)\n",
    "except: # when we not know which type of error\n",
    "    print('some thing is wrong')\n",
    "print(\"helo\")"
   ]
  },
  {
   "cell_type": "code",
   "execution_count": null,
   "id": "fd988a7e",
   "metadata": {},
   "outputs": [
    {
     "name": "stdout",
     "output_type": "stream",
     "text": [
      "some thing is wrong division by zero\n",
      "helo\n"
     ]
    }
   ],
   "source": [
    "try:\n",
    "    print(10/0)\n",
    "except Exception as e: # when we find the what is the error\n",
    "    print('some thing is wrong',e)\n",
    "print(\"helo\")"
   ]
  },
  {
   "cell_type": "markdown",
   "id": "8687fd60",
   "metadata": {},
   "source": [
    "# 😉😎"
   ]
  },
  {
   "cell_type": "code",
   "execution_count": 13,
   "id": "63bddc84",
   "metadata": {},
   "outputs": [
    {
     "name": "stdout",
     "output_type": "stream",
     "text": [
      "2.0\n",
      "name 'v1' is not defined\n",
      "helo\n"
     ]
    }
   ],
   "source": [
    "try:\n",
    "    print(10/5)\n",
    "    v=v1\n",
    "    n=int(\"hello\")\n",
    "except ZeroDivisionError as e:\n",
    "    print('some thing is wrong')\n",
    "except NameError as e:\n",
    "    print(e)\n",
    "except ValueError as e:\n",
    "    pass\n",
    "print(\"helo\")"
   ]
  },
  {
   "cell_type": "code",
   "execution_count": 17,
   "id": "581dbcd3",
   "metadata": {},
   "outputs": [
    {
     "name": "stdout",
     "output_type": "stream",
     "text": [
      "[Errno 2] No such file or directory: 'copy.txt'\n"
     ]
    }
   ],
   "source": [
    "try:\n",
    "    f=open('copy.txt')\n",
    "except FileNotFoundError as e:\n",
    "    print(e)\n",
    "finally:     # will run even the try block contains error\n",
    "    pass"
   ]
  },
  {
   "cell_type": "markdown",
   "id": "27229fce",
   "metadata": {},
   "source": [
    "# ✔✔"
   ]
  },
  {
   "cell_type": "code",
   "execution_count": 19,
   "id": "9a0e0f24",
   "metadata": {},
   "outputs": [
    {
     "name": "stdout",
     "output_type": "stream",
     "text": [
      "error\n"
     ]
    }
   ],
   "source": [
    "try:\n",
    "    print(10/0)\n",
    "except:\n",
    "\n",
    "    print('error')\n",
    "\n",
    "else:\n",
    "    print(\"SD\")"
   ]
  },
  {
   "cell_type": "code",
   "execution_count": 20,
   "id": "4aef6cf3",
   "metadata": {},
   "outputs": [
    {
     "name": "stdout",
     "output_type": "stream",
     "text": [
      "soryt file not found\n"
     ]
    }
   ],
   "source": [
    "try:\n",
    "    var=bad_vaar\n",
    "except Exception:\n",
    "    print(\"soryt file not found\")\n",
    "    \n"
   ]
  },
  {
   "cell_type": "code",
   "execution_count": null,
   "id": "179d31db",
   "metadata": {},
   "outputs": [
    {
     "ename": "NameError",
     "evalue": "name 'bad_vaar' is not defined",
     "output_type": "error",
     "traceback": [
      "\u001b[31m---------------------------------------------------------------------------\u001b[39m",
      "\u001b[31mNameError\u001b[39m                                 Traceback (most recent call last)",
      "\u001b[36mCell\u001b[39m\u001b[36m \u001b[39m\u001b[32mIn[22]\u001b[39m\u001b[32m, line 2\u001b[39m\n\u001b[32m      1\u001b[39m \u001b[38;5;28;01mtry\u001b[39;00m:\n\u001b[32m----> \u001b[39m\u001b[32m2\u001b[39m     var=\u001b[43mbad_vaar\u001b[49m\n\u001b[32m      3\u001b[39m \u001b[38;5;28;01mexcept\u001b[39;00m \u001b[38;5;167;01mFileNotFoundError\u001b[39;00m:\n\u001b[32m      4\u001b[39m     \u001b[38;5;28mprint\u001b[39m(\u001b[33m\"\u001b[39m\u001b[33msoryt file not found\u001b[39m\u001b[33m\"\u001b[39m)\n",
      "\u001b[31mNameError\u001b[39m: name 'bad_vaar' is not defined"
     ]
    }
   ],
   "source": [
    "try:\n",
    "    var=bad_vaar\n",
    "except FileNotFoundError:\n",
    "    print(\"sory file not found\")\n",
    "    \n"
   ]
  },
  {
   "cell_type": "code",
   "execution_count": 23,
   "id": "e3522aa1",
   "metadata": {},
   "outputs": [
    {
     "name": "stdout",
     "output_type": "stream",
     "text": [
      "somethingwent weong\n"
     ]
    }
   ],
   "source": [
    "try:\n",
    "    var=bad_var\n",
    "except FileNotFoundError:\n",
    "    print(\"sory file not found\")\n",
    "except Exception:\n",
    "    print(\"somethingwent weong\")\n"
   ]
  },
  {
   "cell_type": "code",
   "execution_count": 24,
   "id": "af3eae63",
   "metadata": {},
   "outputs": [
    {
     "name": "stdout",
     "output_type": "stream",
     "text": [
      "somethingwent weong\n"
     ]
    }
   ],
   "source": [
    "try:\n",
    "    var=bad_var\n",
    "except Exception:\n",
    "    print(\"somethingwent weong\")\n",
    "except FileNotFoundError:\n",
    "    print(\"sory file not found\")\n"
   ]
  },
  {
   "cell_type": "code",
   "execution_count": null,
   "id": "f86d2780",
   "metadata": {},
   "outputs": [
    {
     "name": "stdout",
     "output_type": "stream",
     "text": [
      "[Errno 2] No such file or directory: 'test.txt'\n"
     ]
    },
    {
     "ename": "NameError",
     "evalue": "name 'e' is not defined",
     "output_type": "error",
     "traceback": [
      "\u001b[31m---------------------------------------------------------------------------\u001b[39m",
      "\u001b[31mNameError\u001b[39m                                 Traceback (most recent call last)",
      "\u001b[36mCell\u001b[39m\u001b[36m \u001b[39m\u001b[32mIn[25]\u001b[39m\u001b[32m, line 9\u001b[39m\n\u001b[32m      7\u001b[39m \u001b[38;5;28;01mexcept\u001b[39;00m \u001b[38;5;167;01mException\u001b[39;00m \u001b[38;5;28;01mas\u001b[39;00m e:\n\u001b[32m      8\u001b[39m     \u001b[38;5;28mprint\u001b[39m(e)\n\u001b[32m----> \u001b[39m\u001b[32m9\u001b[39m e;lse\n",
      "\u001b[31mNameError\u001b[39m: name 'e' is not defined"
     ]
    }
   ],
   "source": [
    "try:\n",
    "    f=open('test.txt','r')\n",
    "    f.close()\n",
    "except FileNotFoundError as e:\n",
    "    print(e)\n",
    "\n",
    "except Exception as e:\n",
    "    print(e)\n",
    "else:\n",
    "    print(f.read())\n",
    "finally:\n",
    "    print"
   ]
  },
  {
   "cell_type": "code",
   "execution_count": 1,
   "id": "903f330a",
   "metadata": {},
   "outputs": [
    {
     "name": "stdout",
     "output_type": "stream",
     "text": [
      "1.0\n",
      "0.29411764705882354\n",
      "0.17857142857142858\n",
      "0.2222222222222222\n"
     ]
    }
   ],
   "source": [
    "val=[10,34,56,45]\n",
    "for val in val:\n",
    "    try:\n",
    "        print(10/val)\n",
    "    except:\n",
    "        pass"
   ]
  },
  {
   "cell_type": "code",
   "execution_count": 2,
   "id": "6c3489b4",
   "metadata": {},
   "outputs": [
    {
     "name": "stdout",
     "output_type": "stream",
     "text": [
      "1.0\n",
      "0.29411764705882354\n",
      "0.17857142857142858\n",
      "0.2222222222222222\n"
     ]
    }
   ],
   "source": [
    "val=[10,34,56,45]\n",
    "for val in val:\n",
    "    try:\n",
    "        print(10/val)\n",
    "    except:\n",
    "        continue"
   ]
  },
  {
   "cell_type": "code",
   "execution_count": 3,
   "id": "f975d05f",
   "metadata": {},
   "outputs": [
    {
     "name": "stdout",
     "output_type": "stream",
     "text": [
      "1.0\n",
      "0.29411764705882354\n",
      "0.17857142857142858\n",
      "0.2222222222222222\n"
     ]
    }
   ],
   "source": [
    "val=[10,34,56,45]\n",
    "for val in val:\n",
    "    try:\n",
    "        print(10/val)\n",
    "    except:\n",
    "        break"
   ]
  },
  {
   "cell_type": "code",
   "execution_count": null,
   "id": "db06ba13",
   "metadata": {},
   "outputs": [
    {
     "name": "stdout",
     "output_type": "stream",
     "text": [
      "invalid literal for int() with base 10: 'hello'\n",
      "invalid literal for int() with base 10: 'hello'\n",
      "invalid literal for int() with base 10: 'hello'\n",
      "invalid literal for int() with base 10: 'hello'\n",
      "invalid literal for int() with base 10: 'hello'\n",
      "invalid literal for int() with base 10: 'hello'\n",
      "invalid literal for int() with base 10: 'hello'\n"
     ]
    }
   ],
   "source": [
    "import logging\n",
    "logging.basicConfig(filename='error.log',level=logging.ERROR)\n",
    "\n",
    "val=[1,2,3,4,5,6,7]\n",
    "for value in val:\n",
    "    try:\n",
    "        print(int('hello'))\n",
    "    except ValueError as e:\n",
    "        print(e)\n",
    "    except Exception as e : # if we except as e the general we need to performe logging \n",
    "        logging.exception(e)"
   ]
  },
  {
   "cell_type": "code",
   "execution_count": 6,
   "id": "8a0f50bd",
   "metadata": {},
   "outputs": [
    {
     "name": "stdout",
     "output_type": "stream",
     "text": [
      "1.0\n",
      "2.0\n",
      "1.6666666666666667\n",
      "value error or zerodivision\n",
      "1.1111111111111112\n",
      "1.25\n",
      "value error or zerodivision\n",
      "5.0\n"
     ]
    }
   ],
   "source": [
    "val=[10,5,6,0,9,8,'helo',2]\n",
    "for i in val:\n",
    "    try:\n",
    "        print(10/int(i))\n",
    "    except (ValueError,ZeroDivisionError) as e:\n",
    "        print(\"value error or zerodivision\")\n",
    "    except Exception as e:\n",
    "        print(e)"
   ]
  },
  {
   "cell_type": "code",
   "execution_count": 7,
   "id": "c10545fe",
   "metadata": {},
   "outputs": [
    {
     "name": "stdout",
     "output_type": "stream",
     "text": [
      "x should be greater\n"
     ]
    }
   ],
   "source": [
    "try: \n",
    "    x=5\n",
    "    y=10\n",
    "    assert x>y ,\"x should be greater\"\n",
    "except AssertionError as error:\n",
    "    print(error)"
   ]
  },
  {
   "cell_type": "code",
   "execution_count": 8,
   "id": "9852d2f4",
   "metadata": {},
   "outputs": [
    {
     "name": "stdout",
     "output_type": "stream",
     "text": [
      "error :index out ofd range\n",
      "hello\n"
     ]
    }
   ],
   "source": [
    "try:\n",
    "    my_list=[1,2,3]\n",
    "    print(my_list[3])\n",
    "except IndexError:\n",
    "    print(\"error :index out ofd range\")\n",
    "\n",
    "print('hello')\n"
   ]
  },
  {
   "cell_type": "code",
   "execution_count": null,
   "id": "3c51ecdc",
   "metadata": {},
   "outputs": [],
   "source": [
    "try:\n",
    "    s=\"hel;omwprld\"\n",
    "    "
   ]
  },
  {
   "cell_type": "code",
   "execution_count": 9,
   "id": "59066460",
   "metadata": {},
   "outputs": [
    {
     "name": "stdout",
     "output_type": "stream",
     "text": [
      "error : keyn not find\n"
     ]
    }
   ],
   "source": [
    "try:\n",
    "    d={\"anme\":\"vishal\",\"age\":12}\n",
    "    print(d[\"height\"])\n",
    "except KeyError:\n",
    "    print(\"error : keyn not find\")"
   ]
  },
  {
   "cell_type": "code",
   "execution_count": 11,
   "id": "6f035e9c",
   "metadata": {},
   "outputs": [
    {
     "name": "stdout",
     "output_type": "stream",
     "text": [
      "error: variable not find\n"
     ]
    }
   ],
   "source": [
    "try:\n",
    "    print(my_var)\n",
    "except NameError:\n",
    "    print(\"error: variable not find\")"
   ]
  },
  {
   "cell_type": "code",
   "execution_count": null,
   "id": "5eff9376",
   "metadata": {},
   "outputs": [
    {
     "name": "stdout",
     "output_type": "stream",
     "text": [
      "error : could not open the file\n"
     ]
    }
   ],
   "source": [
    "try:\n",
    "    with open('abx.txt') as f:\n",
    "        content=f.read()\n",
    "except OSError:  # here we can also use filedoesnot exixt\n",
    "    print(\"error : could not open the file\")"
   ]
  },
  {
   "cell_type": "code",
   "execution_count": 15,
   "id": "67f208eb",
   "metadata": {},
   "outputs": [
    {
     "name": "stdout",
     "output_type": "stream",
     "text": [
      "error: invalid syntax\n"
     ]
    }
   ],
   "source": [
    "try:\n",
    "    exec('pritn(')\n",
    "except SyntaxError:\n",
    "    print(\"error: invalid syntax\")"
   ]
  },
  {
   "cell_type": "code",
   "execution_count": 16,
   "id": "1a9ee8ba",
   "metadata": {},
   "outputs": [
    {
     "name": "stdout",
     "output_type": "stream",
     "text": [
      "error: unsuported operands types(s) for +: int and str\n"
     ]
    }
   ],
   "source": [
    "try:\n",
    "    res=5+\"hello\"\n",
    "except TypeError:\n",
    "    print(\"error: unsuported operands types(s) for +: int and str\")\n"
   ]
  },
  {
   "cell_type": "code",
   "execution_count": 25,
   "id": "2abfc1c9",
   "metadata": {},
   "outputs": [
    {
     "name": "stdout",
     "output_type": "stream",
     "text": [
      "2.0\n",
      "1.0\n",
      "0.6666666666666666\n",
      "0.5\n",
      "error (<class 'TypeError'>, TypeError(\"unsupported operand type(s) for /: 'int' and 'str'\"), <traceback object at 0x00000152371BD0C0>)\n",
      "0.4\n"
     ]
    }
   ],
   "source": [
    "import sys\n",
    "\n",
    "a=[1,2,3,4,'d',5]\n",
    "for i in a:\n",
    "    try:\n",
    "        c=2/i\n",
    "        print(c)\n",
    "    except:\n",
    "        print(\"error\",sys.exc_info())"
   ]
  },
  {
   "cell_type": "code",
   "execution_count": 26,
   "id": "08f93a36",
   "metadata": {},
   "outputs": [
    {
     "name": "stdout",
     "output_type": "stream",
     "text": [
      "2.0\n",
      "1.0\n",
      "0.6666666666666666\n",
      "0.5\n",
      "error <class 'TypeError'>\n",
      "0.4\n"
     ]
    }
   ],
   "source": [
    "import sys\n",
    "\n",
    "a=[1,2,3,4,'d',5]\n",
    "for i in a:\n",
    "    try:\n",
    "        c=2/i\n",
    "        print(c)\n",
    "    except:\n",
    "        print(\"error\",sys.exc_info()[0])"
   ]
  },
  {
   "cell_type": "markdown",
   "id": "09da3893",
   "metadata": {},
   "source": [
    "# manualy error😢😢"
   ]
  },
  {
   "cell_type": "code",
   "execution_count": null,
   "id": "c1bae376",
   "metadata": {},
   "outputs": [
    {
     "name": "stdout",
     "output_type": "stream",
     "text": [
      "5.0\n",
      "error\n"
     ]
    }
   ],
   "source": [
    "try:\n",
    "    print(10/2)\n",
    "    raise ValueError\n",
    "except:\n",
    "    print('error')\n",
    "else:\n",
    "    print(\"hellio\")\n",
    " "
   ]
  },
  {
   "cell_type": "code",
   "execution_count": 28,
   "id": "629aa784",
   "metadata": {},
   "outputs": [
    {
     "ename": "ValueError",
     "evalue": "n shoud be +ve",
     "output_type": "error",
     "traceback": [
      "\u001b[31m---------------------------------------------------------------------------\u001b[39m",
      "\u001b[31mValueError\u001b[39m                                Traceback (most recent call last)",
      "\u001b[36mCell\u001b[39m\u001b[36m \u001b[39m\u001b[32mIn[28]\u001b[39m\u001b[32m, line 4\u001b[39m\n\u001b[32m      2\u001b[39m n=-\u001b[32m5\u001b[39m\n\u001b[32m      3\u001b[39m \u001b[38;5;28;01mif\u001b[39;00m n<\u001b[32m0\u001b[39m:\n\u001b[32m----> \u001b[39m\u001b[32m4\u001b[39m     \u001b[38;5;28;01mraise\u001b[39;00m \u001b[38;5;167;01mValueError\u001b[39;00m(\u001b[33m'\u001b[39m\u001b[33mn shoud be +ve\u001b[39m\u001b[33m'\u001b[39m) \n",
      "\u001b[31mValueError\u001b[39m: n shoud be +ve"
     ]
    }
   ],
   "source": [
    "# raise -> it is used to raised  manualy error\n",
    "n=-5\n",
    "if n<0:\n",
    "    raise ValueError('n shoud be +ve') "
   ]
  },
  {
   "cell_type": "code",
   "execution_count": 30,
   "id": "8011bcb2",
   "metadata": {},
   "outputs": [
    {
     "name": "stdout",
     "output_type": "stream",
     "text": [
      "error indexn out of range\n"
     ]
    }
   ],
   "source": [
    "def geti(li,index):\n",
    "    if index>=len(li):\n",
    "        raise IndexError(\"indexn out of range\")\n",
    "\n",
    "    return li[index]\n",
    "try:\n",
    "    print(geti([10,20,30],5))\n",
    "except IndexError as e:\n",
    "    print(\"error\",e) "
   ]
  },
  {
   "cell_type": "code",
   "execution_count": 32,
   "id": "9955ec0b",
   "metadata": {},
   "outputs": [
    {
     "name": "stdout",
     "output_type": "stream",
     "text": [
      "error  both argu ,must be num\n"
     ]
    }
   ],
   "source": [
    "\n",
    "def mul(a,b):\n",
    "    if not isinstance(a,(int,float)) or not isinstance(b,(int,float)):\n",
    "        raise TypeError(\"both argu ,must be num\")\n",
    "    return  a*b\n",
    "\n",
    "try:\n",
    "    res=mul(2,\"for\")\n",
    "except TypeError as e:\n",
    "    print(\"error \",e)"
   ]
  },
  {
   "cell_type": "code",
   "execution_count": null,
   "id": "4eba3539",
   "metadata": {},
   "outputs": [
    {
     "ename": "TypeError",
     "evalue": "'>' not supported between instances of 'list' and 'int'",
     "output_type": "error",
     "traceback": [
      "\u001b[31m---------------------------------------------------------------------------\u001b[39m",
      "\u001b[31mTypeError\u001b[39m                                 Traceback (most recent call last)",
      "\u001b[36mCell\u001b[39m\u001b[36m \u001b[39m\u001b[32mIn[34]\u001b[39m\u001b[32m, line 8\u001b[39m\n\u001b[32m      5\u001b[39m     \u001b[38;5;28;01mreturn\u001b[39;00m \u001b[33m\"\u001b[39m\u001b[33mall score are valid\u001b[39m\u001b[33m\"\u001b[39m\n\u001b[32m      7\u001b[39m \u001b[38;5;28;01mtry\u001b[39;00m:\n\u001b[32m----> \u001b[39m\u001b[32m8\u001b[39m     \u001b[43mcheck\u001b[49m\u001b[43m(\u001b[49m\u001b[43m[\u001b[49m\u001b[32;43m10\u001b[39;49m\u001b[43m,\u001b[49m\u001b[32;43m12\u001b[39;49m\u001b[43m,\u001b[49m\u001b[32;43m32\u001b[39;49m\u001b[43m,\u001b[49m\u001b[32;43m67\u001b[39;49m\u001b[43m]\u001b[49m\u001b[43m)\u001b[49m\n\u001b[32m      9\u001b[39m \u001b[38;5;28;01mexcept\u001b[39;00m \u001b[38;5;167;01mValueError\u001b[39;00m \u001b[38;5;28;01mas\u001b[39;00m e:\n\u001b[32m     10\u001b[39m     \u001b[38;5;28mprint\u001b[39m(\u001b[33m\"\u001b[39m\u001b[33merror\u001b[39m\u001b[33m\"\u001b[39m,e)\n",
      "\u001b[36mCell\u001b[39m\u001b[36m \u001b[39m\u001b[32mIn[34]\u001b[39m\u001b[32m, line 3\u001b[39m, in \u001b[36mcheck\u001b[39m\u001b[34m(sc)\u001b[39m\n\u001b[32m      1\u001b[39m \u001b[38;5;28;01mdef\u001b[39;00m\u001b[38;5;250m \u001b[39m\u001b[34mcheck\u001b[39m(sc):\n\u001b[32m      2\u001b[39m     \u001b[38;5;28;01mfor\u001b[39;00m i \u001b[38;5;129;01min\u001b[39;00m sc:\n\u001b[32m----> \u001b[39m\u001b[32m3\u001b[39m         \u001b[38;5;28;01mif\u001b[39;00m i<\u001b[32m0\u001b[39m \u001b[38;5;129;01mor\u001b[39;00m \u001b[43msc\u001b[49m\u001b[43m>\u001b[49m\u001b[43m \u001b[49m\u001b[32;43m100\u001b[39;49m:\n\u001b[32m      4\u001b[39m             \u001b[38;5;28;01mraise\u001b[39;00m \u001b[38;5;167;01mValueError\u001b[39;00m(\u001b[33mf\u001b[39m\u001b[33m'\u001b[39m\u001b[33minvalid score:\u001b[39m\u001b[38;5;132;01m{\u001b[39;00msc\u001b[38;5;132;01m}\u001b[39;00m\u001b[33m'\u001b[39m)\n\u001b[32m      5\u001b[39m     \u001b[38;5;28;01mreturn\u001b[39;00m \u001b[33m\"\u001b[39m\u001b[33mall score are valid\u001b[39m\u001b[33m\"\u001b[39m\n",
      "\u001b[31mTypeError\u001b[39m: '>' not supported between instances of 'list' and 'int'"
     ]
    }
   ],
   "source": [
    "def check(sc):\n",
    "    for i in sc:\n",
    "        if i<0 or sc> 100:\n",
    "            raise ValueError(f'invalid score:{sc}')\n",
    "    return \"all score are valid\"\n",
    "\n",
    "try:\n",
    "    check([10,12,32,67])\n",
    "except ValueError as e:\n",
    "    print(\"caught\",e)"
   ]
  },
  {
   "cell_type": "code",
   "execution_count": 40,
   "id": "db263ac4",
   "metadata": {},
   "outputs": [
    {
     "name": "stdout",
     "output_type": "stream",
     "text": [
      "10.0\n",
      "5.0\n",
      "3.3333333333333335\n",
      "2.5\n",
      "2.0\n",
      "hello\n"
     ]
    },
    {
     "ename": "ValueError",
     "evalue": "value error",
     "output_type": "error",
     "traceback": [
      "\u001b[31m---------------------------------------------------------------------------\u001b[39m",
      "\u001b[31mValueError\u001b[39m                                Traceback (most recent call last)",
      "\u001b[36mCell\u001b[39m\u001b[36m \u001b[39m\u001b[32mIn[40]\u001b[39m\u001b[32m, line 5\u001b[39m\n\u001b[32m      4\u001b[39m \u001b[38;5;28;01mtry\u001b[39;00m:\n\u001b[32m----> \u001b[39m\u001b[32m5\u001b[39m     \u001b[38;5;28mprint\u001b[39m(\u001b[32m10\u001b[39m/\u001b[38;5;28;43mint\u001b[39;49m\u001b[43m(\u001b[49m\u001b[43mi\u001b[49m\u001b[43m)\u001b[49m)\n\u001b[32m      6\u001b[39m \u001b[38;5;28;01mexcept\u001b[39;00m \u001b[38;5;167;01mZeroDivisionError\u001b[39;00m \u001b[38;5;28;01mas\u001b[39;00m e:\n",
      "\u001b[31mValueError\u001b[39m: invalid literal for int() with base 10: 'a'",
      "\nDuring handling of the above exception, another exception occurred:\n",
      "\u001b[31mValueError\u001b[39m                                Traceback (most recent call last)",
      "\u001b[36mCell\u001b[39m\u001b[36m \u001b[39m\u001b[32mIn[40]\u001b[39m\u001b[32m, line 10\u001b[39m\n\u001b[32m      8\u001b[39m \u001b[38;5;28;01mexcept\u001b[39;00m \u001b[38;5;167;01mValueError\u001b[39;00m \u001b[38;5;28;01mas\u001b[39;00m e:\n\u001b[32m      9\u001b[39m     \u001b[38;5;28mprint\u001b[39m(\u001b[33m\"\u001b[39m\u001b[33mhello\u001b[39m\u001b[33m\"\u001b[39m)\n\u001b[32m---> \u001b[39m\u001b[32m10\u001b[39m     \u001b[38;5;28;01mraise\u001b[39;00m \u001b[38;5;167;01mValueError\u001b[39;00m(\u001b[33m'\u001b[39m\u001b[33mvalue error\u001b[39m\u001b[33m'\u001b[39m) \u001b[38;5;66;03m# re-raise \u001b[39;00m\n\u001b[32m     11\u001b[39m \u001b[38;5;28;01mexcept\u001b[39;00m \u001b[38;5;167;01mException\u001b[39;00m \u001b[38;5;28;01mas\u001b[39;00m e:\n\u001b[32m     12\u001b[39m     \u001b[38;5;28mprint\u001b[39m(e)\n",
      "\u001b[31mValueError\u001b[39m: value error"
     ]
    }
   ],
   "source": [
    "val=[1,2,3,4,5,'a',6]\n",
    "\n",
    "for i in val:\n",
    "    try:\n",
    "        print(10/int(i))\n",
    "    except ZeroDivisionError as e:\n",
    "        pass\n",
    "    except ValueError as e:\n",
    "        print(\"hello\")\n",
    "        raise ValueError('value error') # re-raise \n",
    "    except Exception as e:\n",
    "        print(e)"
   ]
  },
  {
   "cell_type": "markdown",
   "id": "055bb03c",
   "metadata": {},
   "source": [
    "# nested exception 😢😢😢"
   ]
  },
  {
   "cell_type": "code",
   "execution_count": 42,
   "id": "d36cfc39",
   "metadata": {},
   "outputs": [
    {
     "name": "stdout",
     "output_type": "stream",
     "text": [
      "try outside\n",
      "inside\n",
      "finally inside\n",
      "finally outside\n"
     ]
    }
   ],
   "source": [
    "try:\n",
    "    print(\"try outside\")\n",
    "    try:\n",
    "        print(\"inside\")\n",
    "    except:\n",
    "        print(\"except inside\")\n",
    "    finally:\n",
    "        print(\"finally inside\")\n",
    "except:\n",
    "    print(\"except outside\")\n",
    "finally:\n",
    "    print(\"finally outside\")"
   ]
  },
  {
   "cell_type": "code",
   "execution_count": null,
   "id": "a734737f",
   "metadata": {},
   "outputs": [],
   "source": [
    "'''\n",
    "guidlie for excepetion safe function \n",
    "use try-except inside the function to handle excepetd errors\n",
    "\n",
    "raise meaningful excepetion if the function cannot complete its job \n",
    "use default value \n",
    "log error if needed \n",
    "don't hide bugs silently-handle only what you except\n",
    "\n",
    "\n",
    "'''"
   ]
  },
  {
   "cell_type": "code",
   "execution_count": null,
   "id": "01f7d512",
   "metadata": {},
   "outputs": [
    {
     "name": "stdout",
     "output_type": "stream",
     "text": [
      "File error: File not found: config.json\n",
      "Failed to load valid config.\n"
     ]
    }
   ],
   "source": []
  },
  {
   "cell_type": "code",
   "execution_count": null,
   "id": "4aab030c",
   "metadata": {},
   "outputs": [],
   "source": []
  }
 ],
 "metadata": {
  "kernelspec": {
   "display_name": "Python 3",
   "language": "python",
   "name": "python3"
  },
  "language_info": {
   "codemirror_mode": {
    "name": "ipython",
    "version": 3
   },
   "file_extension": ".py",
   "mimetype": "text/x-python",
   "name": "python",
   "nbconvert_exporter": "python",
   "pygments_lexer": "ipython3",
   "version": "3.12.3"
  }
 },
 "nbformat": 4,
 "nbformat_minor": 5
}
