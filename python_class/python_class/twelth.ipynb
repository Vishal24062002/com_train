{
 "cells": [
  {
   "cell_type": "code",
   "execution_count": 5,
   "id": "72d80dba",
   "metadata": {},
   "outputs": [
    {
     "name": "stdout",
     "output_type": "stream",
     "text": [
      "['a_b', 'a b']\n"
     ]
    }
   ],
   "source": [
    "import re\n",
    "\n",
    "print(re.findall(r'a.b','abc a_b  a b  abs'))"
   ]
  },
  {
   "cell_type": "code",
   "execution_count": 4,
   "id": "9ab5d74c",
   "metadata": {},
   "outputs": [
    {
     "name": "stdout",
     "output_type": "stream",
     "text": [
      "['hello']\n"
     ]
    }
   ],
   "source": [
    "print(re.findall(r'^hello','hello world'))"
   ]
  },
  {
   "cell_type": "code",
   "execution_count": 6,
   "id": "5ae9d951",
   "metadata": {},
   "outputs": [
    {
     "name": "stdout",
     "output_type": "stream",
     "text": [
      "['world']\n"
     ]
    }
   ],
   "source": [
    "print(re.findall(r'world$','hello world'))"
   ]
  },
  {
   "cell_type": "code",
   "execution_count": 9,
   "id": "fd0a46d5",
   "metadata": {},
   "outputs": [
    {
     "name": "stdout",
     "output_type": "stream",
     "text": [
      "['ab', 'ab', 'ab']\n"
     ]
    }
   ],
   "source": [
    "print(re.findall(r'abs*','ab abbb abb a'))"
   ]
  },
  {
   "cell_type": "code",
   "execution_count": null,
   "id": "8311aab2",
   "metadata": {},
   "outputs": [
    {
     "name": "stdout",
     "output_type": "stream",
     "text": [
      "['aa', 'aa', 'aa', 'aa']\n"
     ]
    }
   ],
   "source": [
    "print(re.findall(r'a{2}','a aa aa aaaaa')) # repetion"
   ]
  },
  {
   "cell_type": "code",
   "execution_count": null,
   "id": "84d2c572",
   "metadata": {},
   "outputs": [
    {
     "name": "stdout",
     "output_type": "stream",
     "text": [
      "['a', 'a', 'a', 'a', 'a', 'a', 'a', 'a', 'a', 'a', 'e', 'o']\n"
     ]
    }
   ],
   "source": [
    "print(re.findall(r'[aeiou]','a aa aa aaaaa eo')) #find all the vowel charactor"
   ]
  },
  {
   "cell_type": "code",
   "execution_count": null,
   "id": "8dd04c4a",
   "metadata": {},
   "outputs": [
    {
     "name": "stdout",
     "output_type": "stream",
     "text": [
      "<re.Match object; span=(0, 8), match='VIS25001'>\n"
     ]
    }
   ],
   "source": [
    "s='VIS25001'\n",
    "\n",
    "pat='[A-Z]{3}[0-9]{2}[0-9]{3}'\n",
    "\n",
    "print(re.match(pat,s))\n",
    "\n"
   ]
  },
  {
   "cell_type": "code",
   "execution_count": null,
   "id": "b732480d",
   "metadata": {},
   "outputs": [
    {
     "name": "stdout",
     "output_type": "stream",
     "text": [
      "[]\n"
     ]
    }
   ],
   "source": [
    "import re\n",
    "\n",
    "txt=\"the rain in spain\"\n",
    "x=re.findall('ab',txt)\n",
    "print(x)  # if not find it return empty list"
   ]
  },
  {
   "cell_type": "code",
   "execution_count": 17,
   "id": "5970e72b",
   "metadata": {},
   "outputs": [
    {
     "name": "stdout",
     "output_type": "stream",
     "text": [
      "in txt\n"
     ]
    }
   ],
   "source": [
    "import re\n",
    "\n",
    "txt=\"the rain in spain \"\n",
    "x=re.search(\"rain\",txt)\n",
    "\n",
    "if x: \n",
    "    print(\"in txt\")\n",
    "else:\n",
    "    print(\"not match\")"
   ]
  },
  {
   "cell_type": "code",
   "execution_count": 19,
   "id": "07662914",
   "metadata": {},
   "outputs": [
    {
     "name": "stdout",
     "output_type": "stream",
     "text": [
      "['the', 'rain', 'in', 'spain']\n"
     ]
    },
    {
     "name": "stderr",
     "output_type": "stream",
     "text": [
      "<>:4: SyntaxWarning: invalid escape sequence '\\s'\n",
      "<>:4: SyntaxWarning: invalid escape sequence '\\s'\n",
      "C:\\Users\\vishal.kumar33\\AppData\\Local\\Temp\\ipykernel_11568\\266424581.py:4: SyntaxWarning: invalid escape sequence '\\s'\n",
      "  x=re.split(\"\\s\",txt)\n"
     ]
    }
   ],
   "source": [
    "import re\n",
    "txt=\"the rain in spain\"\n",
    "\n",
    "x=re.split(\"\\s\",txt)\n",
    "print(x)"
   ]
  },
  {
   "cell_type": "code",
   "execution_count": 33,
   "id": "90ee889c",
   "metadata": {},
   "outputs": [
    {
     "name": "stdout",
     "output_type": "stream",
     "text": [
      "['the', 'rain', 'in', 'spain ram']\n"
     ]
    }
   ],
   "source": [
    "import re\n",
    "txt=\"the rain in spain ram\" \n",
    "\n",
    "x=re.split(\" \",txt,3)\n",
    "print(x)"
   ]
  },
  {
   "cell_type": "code",
   "execution_count": null,
   "id": "843bf82f",
   "metadata": {},
   "outputs": [
    {
     "name": "stdout",
     "output_type": "stream",
     "text": [
      "is rain in spain\n"
     ]
    }
   ],
   "source": [
    "import re\n",
    "txt=\"the rain in spain\"\n",
    "\n",
    "x=re.sub('the','is',txt)\n",
    "print(x)\n"
   ]
  },
  {
   "cell_type": "code",
   "execution_count": 40,
   "id": "501ccd2f",
   "metadata": {},
   "outputs": [
    {
     "name": "stdout",
     "output_type": "stream",
     "text": [
      "the9rain9in spain\n"
     ]
    }
   ],
   "source": [
    "import re\n",
    "txt=\"the rain in spain\"\n",
    "\n",
    "x=re.sub(' ','9',txt,2)\n",
    "print(x)\n"
   ]
  },
  {
   "cell_type": "code",
   "execution_count": null,
   "id": "687a526a",
   "metadata": {},
   "outputs": [
    {
     "name": "stdout",
     "output_type": "stream",
     "text": [
      "this is a string with specail chracters\n"
     ]
    }
   ],
   "source": [
    "import re\n",
    "\n",
    "st=\"this is a #string with %specail^ chracters!\"\n",
    "pat=r'[^a-z0-9\\s]+'\n",
    "#  replace all non alphanumareic charactor and white spaces with \n",
    "new_st=re.sub(pat,'',st)\n",
    "print(new_st)\n",
    "\n"
   ]
  },
  {
   "cell_type": "code",
   "execution_count": 53,
   "id": "02692da4",
   "metadata": {},
   "outputs": [
    {
     "name": "stdout",
     "output_type": "stream",
     "text": [
      "True\n"
     ]
    }
   ],
   "source": [
    "s='helo vishal!.'\n",
    "pat=r'[.$]'\n",
    "x=re.search(pat,s)\n",
    "if x:\n",
    "    print(\"True\")\n",
    "else:\n",
    "    print(\"False\")\n"
   ]
  },
  {
   "cell_type": "code",
   "execution_count": null,
   "id": "65318194",
   "metadata": {},
   "outputs": [
    {
     "name": "stdout",
     "output_type": "stream",
     "text": [
      "['12', '20']\n"
     ]
    }
   ],
   "source": [
    "import re\n",
    "s='i have 12 apple and 20 bananas'\n",
    "\n",
    "\n",
    "print(re.findall(r'\\d+',s))\n",
    "\n"
   ]
  },
  {
   "cell_type": "code",
   "execution_count": null,
   "id": "36c82d17",
   "metadata": {},
   "outputs": [
    {
     "name": "stdout",
     "output_type": "stream",
     "text": [
      "<re.Match object; span=(0, 2), match='hi'>\n",
      "<re.Match object; span=(0, 2), match='hi'>\n"
     ]
    }
   ],
   "source": [
    "import re\n",
    "\n",
    "s='hi say hi to everyone'\n",
    "print(re.match('hi',s)) # match find \n",
    "\n",
    "print(re.search('hi',s))\n",
    "\n"
   ]
  },
  {
   "cell_type": "code",
   "execution_count": 81,
   "id": "e109cd18",
   "metadata": {},
   "outputs": [
    {
     "name": "stdout",
     "output_type": "stream",
     "text": [
      "first match =  1956\n",
      "all matches =  ['1956', '1234']\n"
     ]
    }
   ],
   "source": [
    "import re\n",
    "\n",
    "text='my number in 1956 and my fruiend is 1234 '\n",
    "\n",
    "first=re.search(r'\\d+',text)\n",
    "print(\"first match = \",first.group())\n",
    "\n",
    "all_match=re.findall(r'\\d+',text)\n",
    "print(\"all matches = \",all_match)"
   ]
  },
  {
   "cell_type": "code",
   "execution_count": 88,
   "id": "fec7596e",
   "metadata": {},
   "outputs": [
    {
     "name": "stdout",
     "output_type": "stream",
     "text": [
      "cap_words: ['Python', 'Developed']\n"
     ]
    }
   ],
   "source": [
    "text=\"Python is Developed by guido van rossum in neitherlands\"\n",
    "\n",
    "pat=re.findall(r'\\b[A-Z][a-z]+\\b',text)\n",
    "print(\"cap_words:\",pat)"
   ]
  },
  {
   "cell_type": "code",
   "execution_count": null,
   "id": "7b07895c",
   "metadata": {},
   "outputs": [
    {
     "name": "stdout",
     "output_type": "stream",
     "text": [
      "the cost is 10 dollar and 14 cents\n"
     ]
    }
   ],
   "source": [
    "def dou(match):\n",
    "    num=int(match.group())\n",
    "    return str(num*2)\n",
    "\n",
    "text=\"the cost is 5 dollar and 7 cents\"\n",
    "rs=re.sub(r'\\d+',dou,text)\n",
    "print(rs)\n"
   ]
  },
  {
   "cell_type": "code",
   "execution_count": 91,
   "id": "89ad7cd2",
   "metadata": {},
   "outputs": [
    {
     "name": "stdout",
     "output_type": "stream",
     "text": [
      "you are such a [consenerd] and [consenerd]\n"
     ]
    }
   ],
   "source": [
    "text=\"you are such a fool and dummy\"\n",
    "\n",
    "bad_word=r'\\bfool|dummy\\b'\n",
    "con=re.sub(bad_word,'[consenerd]',text)\n",
    "print(con)"
   ]
  },
  {
   "cell_type": "code",
   "execution_count": 103,
   "id": "7f0aeb50",
   "metadata": {},
   "outputs": [
    {
     "name": "stdout",
     "output_type": "stream",
     "text": [
      "full match: name:john , age:30\n",
      "name: john\n",
      "age: 30\n"
     ]
    }
   ],
   "source": [
    "text=\"name:john , age:30\"\n",
    "\n",
    "match=re.search(r\"name:(\\w+) , age:(\\d+)\",text)\n",
    "\n",
    "if match:\n",
    "    print(\"full match:\",match.group(0))\n",
    "    print(\"name:\",match.group(1))\n",
    "    print(\"age:\",match.group(2))\n",
    "\n",
    "\n"
   ]
  },
  {
   "cell_type": "code",
   "execution_count": null,
   "id": "110b5350",
   "metadata": {},
   "outputs": [
    {
     "name": "stdout",
     "output_type": "stream",
     "text": [
      "['apple', 'banana', 'grapes', 'orange']\n"
     ]
    }
   ],
   "source": [
    "import re\n",
    "text=\"apple,banana;grapes orange\"\n",
    "\n",
    "res=re.split(r'[;,\\s]+',text)\n",
    "print(res)\n"
   ]
  },
  {
   "cell_type": "code",
   "execution_count": 120,
   "id": "deee0748",
   "metadata": {},
   "outputs": [
    {
     "name": "stdout",
     "output_type": "stream",
     "text": [
      "['one', 'two', 'three-four']\n"
     ]
    }
   ],
   "source": [
    "\n",
    "txt='one-two-three-four'\n",
    "resi=re.split(r'-',txt,maxsplit=2)\n",
    "print(resi)\n",
    " "
   ]
  },
  {
   "cell_type": "code",
   "execution_count": 119,
   "id": "b8d34c1b",
   "metadata": {},
   "outputs": [
    {
     "name": "stdout",
     "output_type": "stream",
     "text": [
      "('# # #', 3)\n"
     ]
    }
   ],
   "source": [
    "import re\n",
    "res=re.subn(r'\\d+','#','123 456 789' )\n",
    "print(res)"
   ]
  },
  {
   "cell_type": "code",
   "execution_count": 126,
   "id": "1d020ea8",
   "metadata": {},
   "outputs": [
    {
     "name": "stdout",
     "output_type": "stream",
     "text": [
      "True\n"
     ]
    }
   ],
   "source": [
    "regex = r'^[a-zA-Z0-9._%+-]+@[a-zA-Z0-9.-]+\\.[a-zA-Z]{2,}$'\n",
    "if re.match(regex, 'vishal234@gmail.com'):\n",
    "        print(True)\n",
    "else:\n",
    "        print(False)\n"
   ]
  },
  {
   "cell_type": "code",
   "execution_count": 135,
   "id": "8375d865",
   "metadata": {},
   "outputs": [
    {
     "name": "stdout",
     "output_type": "stream",
     "text": [
      "<re.Match object; span=(0, 6), match='python'>\n",
      "None\n",
      "<re.Match object; span=(0, 10), match='python1234'>\n",
      "None\n",
      "<re.Match object; span=(6, 10), match='1234'>\n"
     ]
    }
   ],
   "source": [
    "import re\n",
    "text=\"python1234\"\n",
    "print(re.match(r'python',text))\n",
    "print(re.match(r'\\d+',text))\n",
    "\n",
    "# full\n",
    "\n",
    "print(re.fullmatch(r'python\\d+',text))\n",
    "print(re.fullmatch(r'python',text))\n",
    "\n",
    "#  serch\n",
    "print(re.search(r'\\d+',text))\n"
   ]
  },
  {
   "cell_type": "code",
   "execution_count": 139,
   "id": "a34e1546",
   "metadata": {},
   "outputs": [
    {
     "name": "stdout",
     "output_type": "stream",
     "text": [
      "Not Match\n"
     ]
    }
   ],
   "source": [
    "text=input(\"Enter email id\")\n",
    "ch=r'\\w+@\\w+\\.\\w{2}'\n",
    "e=re.search(ch,text)\n",
    "if e:\n",
    "    print(\"Match\")\n",
    "else:\n",
    "    print(\"Not Match\")\n",
    " "
   ]
  },
  {
   "cell_type": "code",
   "execution_count": 150,
   "id": "a6b1506d",
   "metadata": {},
   "outputs": [
    {
     "name": "stdout",
     "output_type": "stream",
     "text": [
      "found  python 3.8 at postion  (0, 10)\n"
     ]
    }
   ],
   "source": [
    "import re\n",
    "text=\"python 3.8 was realesd in 2019, and py 3.9 in 2020\"\n",
    "\n",
    "pat=re.finditer(r'python \\d\\.\\d',text)\n",
    "\n",
    "for match in pat:\n",
    "    print(\"found \",match.group(),\"at postion \",match.span())\n",
    "\n",
    "\n"
   ]
  },
  {
   "cell_type": "code",
   "execution_count": 152,
   "id": "d9019abb",
   "metadata": {},
   "outputs": [
    {
     "name": "stdout",
     "output_type": "stream",
     "text": [
      "Matched text: hello@example.com\n",
      "Start index: 7\n",
      "End index: 24\n",
      "Span index: (7, 24)\n"
     ]
    }
   ],
   "source": [
    "import re\n",
    " \n",
    "txt='Email: hello@example.com'\n",
    " \n",
    "match=re.search(r'\\w+@\\w+\\.\\w+',txt)\n",
    "if match:\n",
    "    print('Matched text:',match.group())\n",
    "    print('Start index:',match.start())\n",
    "    print('End index:',match.end())\n",
    "    print('Span index:',match.span())"
   ]
  },
  {
   "cell_type": "code",
   "execution_count": null,
   "id": "001f26ed",
   "metadata": {},
   "outputs": [
    {
     "name": "stdout",
     "output_type": "stream",
     "text": [
      "hello\n"
     ]
    }
   ],
   "source": [
    "import re\n",
    "text=\"hello world\"\n",
    "\n",
    "pat=re.compile(r'hello',re.IGNORECASE)\n",
    "\n",
    "match=pat.search(text)\n",
    "print(match.group())\n",
    "\n"
   ]
  },
  {
   "cell_type": "code",
   "execution_count": null,
   "id": "7297c14d",
   "metadata": {},
   "outputs": [
    {
     "ename": "AttributeError",
     "evalue": "'NoneType' object has no attribute 'group'",
     "output_type": "error",
     "traceback": [
      "\u001b[31m---------------------------------------------------------------------------\u001b[39m",
      "\u001b[31mAttributeError\u001b[39m                            Traceback (most recent call last)",
      "\u001b[36mCell\u001b[39m\u001b[36m \u001b[39m\u001b[32mIn[167]\u001b[39m\u001b[32m, line 6\u001b[39m\n\u001b[32m      3\u001b[39m pat=re.compile(\u001b[33mr\u001b[39m\u001b[33m'\u001b[39m\u001b[33mhello.world\u001b[39m\u001b[33m'\u001b[39m,re.DOTALL)\n\u001b[32m      5\u001b[39m match=pat.search(text)\n\u001b[32m----> \u001b[39m\u001b[32m6\u001b[39m \u001b[38;5;28mprint\u001b[39m(\u001b[43mmatch\u001b[49m\u001b[43m.\u001b[49m\u001b[43mgroup\u001b[49m())    \n",
      "\u001b[31mAttributeError\u001b[39m: 'NoneType' object has no attribute 'group'"
     ]
    }
   ],
   "source": [
    "import re\n",
    "text=\"hello\\nWorld\"\n",
    "pat=re.compile(r'hello.world',re.DOTALL)\n",
    "\n",
    "match=pat.search(text)\n",
    "print(match.group())\n"
   ]
  },
  {
   "cell_type": "code",
   "execution_count": 168,
   "id": "035c5f89",
   "metadata": {},
   "outputs": [
    {
     "name": "stdout",
     "output_type": "stream",
     "text": [
      "user@example.com\n"
     ]
    }
   ],
   "source": [
    "import re\n",
    " \n",
    "pattern= re.compile(r'''\n",
    "^\n",
    "    [A-Za-z0-9._%+-]+\n",
    "    @\n",
    "    [A-Za-z0-9.-]+\n",
    "    \\.\n",
    "    [A-Za-z]{2,}\n",
    "    $''',re.VERBOSE)\n",
    " \n",
    "txt=\"user@example.com\"\n",
    " \n",
    "match=pattern.match(txt)\n",
    "print(match.group() if match else 'No match')\n",
    " "
   ]
  },
  {
   "cell_type": "code",
   "execution_count": 171,
   "id": "a58d1d40",
   "metadata": {},
   "outputs": [
    {
     "name": "stdout",
     "output_type": "stream",
     "text": [
      "['caf', 'caf']\n"
     ]
    }
   ],
   "source": [
    "\n",
    "pattern = re.compile(r'\\w+',re.ASCII)\n",
    " \n",
    "print(pattern.findall(\"café café\"))"
   ]
  },
  {
   "cell_type": "code",
   "execution_count": 175,
   "id": "5439e17f",
   "metadata": {},
   "outputs": [
    {
     "name": "stdout",
     "output_type": "stream",
     "text": [
      "None\n"
     ]
    }
   ],
   "source": [
    "t=[1,2,3,4]\n",
    "t2=[9,4,5,6]\n",
    "print(t.append(t2))\n"
   ]
  },
  {
   "cell_type": "code",
   "execution_count": 187,
   "id": "d7fdeb01",
   "metadata": {},
   "outputs": [
    {
     "name": "stdout",
     "output_type": "stream",
     "text": [
      "[[0, 0], [0, 4], [4, 0], [4, 4]]\n"
     ]
    }
   ],
   "source": [
    "l=[[p,q] for p in(0,4) for q in(0,4)]\n",
    "print(l)\n"
   ]
  },
  {
   "cell_type": "code",
   "execution_count": 185,
   "id": "9817f4b7",
   "metadata": {},
   "outputs": [
    {
     "name": "stdout",
     "output_type": "stream",
     "text": [
      "emma 23\n"
     ]
    }
   ],
   "source": [
    "def fun(name,age):\n",
    "    print(name,age)\n",
    "fun(name=\"emma\",age=23)"
   ]
  },
  {
   "cell_type": "code",
   "execution_count": 193,
   "id": "2792ac6a",
   "metadata": {},
   "outputs": [
    {
     "name": "stdout",
     "output_type": "stream",
     "text": [
      "[23, 45, 65, 32, 'moni', 3]\n"
     ]
    }
   ],
   "source": [
    "l=[23,45,65,32,3]\n",
    "l.insert(4,\"moni\")\n",
    "print(l)"
   ]
  },
  {
   "cell_type": "code",
   "execution_count": 1,
   "id": "73ae178e",
   "metadata": {},
   "outputs": [],
   "source": [
    "li=['apple','banana','cherry']\n",
    "l2=li.sort()\n"
   ]
  }
 ],
 "metadata": {
  "kernelspec": {
   "display_name": "Python 3",
   "language": "python",
   "name": "python3"
  },
  "language_info": {
   "codemirror_mode": {
    "name": "ipython",
    "version": 3
   },
   "file_extension": ".py",
   "mimetype": "text/x-python",
   "name": "python",
   "nbconvert_exporter": "python",
   "pygments_lexer": "ipython3",
   "version": "3.12.3"
  }
 },
 "nbformat": 4,
 "nbformat_minor": 5
}
