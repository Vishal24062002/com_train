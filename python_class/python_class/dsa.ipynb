{
 "cells": [
  {
   "cell_type": "markdown",
   "id": "68baf4ef",
   "metadata": {},
   "source": [
    "# dsa 😎😎"
   ]
  },
  {
   "cell_type": "code",
   "execution_count": 1,
   "id": "80da5ed9",
   "metadata": {},
   "outputs": [
    {
     "name": "stdout",
     "output_type": "stream",
     "text": [
      "Head 4\n",
      "Tail 4\n",
      "Length 1\n"
     ]
    }
   ],
   "source": [
    "class Node:\n",
    "    def __init__(self,value):\n",
    "        self.value=value\n",
    "        self.next=None\n",
    "\n",
    "\n",
    "class LinledList:\n",
    "    def __init__(self,value):\n",
    "        new_node=Node(value)\n",
    "        self.head=new_node\n",
    "        self.tail=new_node\n",
    "        self.length=1\n",
    "\n",
    "\n",
    "my_lnkedlist=LinledList(4)\n",
    "print('Head',my_lnkedlist.head.value)\n",
    "print('Tail',my_lnkedlist.tail.value)\n",
    "print('Length',my_lnkedlist.length)"
   ]
  },
  {
   "cell_type": "code",
   "execution_count": 4,
   "id": "383d360d",
   "metadata": {},
   "outputs": [
    {
     "name": "stdout",
     "output_type": "stream",
     "text": [
      "Head: 1\n",
      "Tail: 5\n",
      "Length: 5 \n",
      "\n",
      "Linked List:\n",
      "1\n",
      "2\n",
      "3\n",
      "4\n",
      "5\n"
     ]
    }
   ],
   "source": [
    "class Node:\n",
    "    def __init__(self, value):\n",
    "        self.value = value\n",
    "        self.next = None\n",
    "        \n",
    "\n",
    "class LinkedList:\n",
    "    def __init__(self, value):\n",
    "        new_node = Node(value)\n",
    "        self.head = new_node\n",
    "        self.tail = new_node\n",
    "        self.length = 1\n",
    "\n",
    "    def print_list(self):\n",
    "        temp = self.head\n",
    "        while temp is not None:\n",
    "            print(temp.value)\n",
    "            temp = temp.next\n",
    "            \n",
    "    def make_empty(self):\n",
    "        self.head = None\n",
    "        self.tail = None\n",
    "        self.length = 0\n",
    "        \n",
    "    def append(self, value):\n",
    "        new_node = Node(value)          #create a new node\n",
    "        \n",
    "        if self.head is None:           #if List is empty\n",
    "            self.head=new_node          \n",
    "            self.tail=new_node\n",
    "        else:                           #if the list already contain some value\n",
    "            self.tail.next=new_node\n",
    "            self.tail=new_node\n",
    "        \n",
    "        self.length += 1\n",
    "\n",
    "\n",
    "\n",
    "\n",
    "my_linked_list = LinkedList(1)\n",
    "my_linked_list.make_empty()\n",
    "\n",
    "my_linked_list.append(1)\n",
    "my_linked_list.append(2)\n",
    "my_linked_list.append(3)\n",
    "my_linked_list.append(4)\n",
    "my_linked_list.append(5)\n",
    "\n",
    "print('Head:', my_linked_list.head.value)\n",
    "print('Tail:', my_linked_list.tail.value)\n",
    "print('Length:', my_linked_list.length, '\\n')\n",
    "\n",
    "print('Linked List:')\n",
    "my_linked_list.print_list()"
   ]
  },
  {
   "cell_type": "code",
   "execution_count": null,
   "id": "53442cd4",
   "metadata": {},
   "outputs": [
    {
     "name": "stdout",
     "output_type": "stream",
     "text": [
      "[1, 2, 3, 4, 5]\n"
     ]
    }
   ],
   "source": [
    "l=[5,3,4,1,2]\n",
    "# for i in range(0,5,1):\n",
    "#     for j in range(i+1,5,1):\n",
    "#         if(l[i]>l[j]):\n",
    "#             c=l[i]\n",
    "\n",
    "#             l[i]=l[j]\n",
    "#             l[j]=c\n",
    "\n",
    "l.sort()\n",
    "print(l)\n",
    "\n",
    "\n",
    "\n",
    "\n",
    "\n",
    "\n"
   ]
  },
  {
   "cell_type": "code",
   "execution_count": 19,
   "id": "5db5d1a2",
   "metadata": {},
   "outputs": [
    {
     "name": "stdout",
     "output_type": "stream",
     "text": [
      "[1, 2, 3, 4, 5, 6, 7, 8]\n"
     ]
    }
   ],
   "source": [
    "def merge(list1,list2):\n",
    "    combined=[]\n",
    "    i=0\n",
    "    j=0\n",
    "    while i< len(list1) and j<len(list2):\n",
    "        if list1[i]<list2[j]:\n",
    "            combined.append(list1[i])\n",
    "            i+=1\n",
    "        else:\n",
    "            combined.append(list2[j])\n",
    "            j+=1 \n",
    "            \n",
    "    while i<len(list1):\n",
    "        combined.append(list1[i])\n",
    "        i+=1 \n",
    "        \n",
    "    while j<len(list2):\n",
    "        combined.append(list2[j])\n",
    "        j+=1 \n",
    "    return combined\n",
    "\n",
    "print(merge([1,2,7,8], [3,4,5,6]))\n"
   ]
  },
  {
   "cell_type": "code",
   "execution_count": null,
   "id": "072e55f1",
   "metadata": {},
   "outputs": [],
   "source": [
    "class Circle:\n",
    "    def __init__(self,radius):\n",
    "        self.radius=radius\n",
    " \n",
    "    @property\n",
    "    def radius(self):\n",
    "        return self._radius\n",
    "   \n",
    "    @radius.setter\n",
    "    def radius(self,value):\n",
    "        if value<0:\n",
    "            raise ValueError('Radius cannot be negative')\n",
    "        self._radius=value\n",
    " \n",
    "    @radius.deleter\n",
    "    def radius(self):\n",
    "        print(\"Radius deleted\")\n",
    "        del self._radius"
   ]
  }
 ],
 "metadata": {
  "kernelspec": {
   "display_name": "Python 3",
   "language": "python",
   "name": "python3"
  },
  "language_info": {
   "codemirror_mode": {
    "name": "ipython",
    "version": 3
   },
   "file_extension": ".py",
   "mimetype": "text/x-python",
   "name": "python",
   "nbconvert_exporter": "python",
   "pygments_lexer": "ipython3",
   "version": "3.12.3"
  }
 },
 "nbformat": 4,
 "nbformat_minor": 5
}
