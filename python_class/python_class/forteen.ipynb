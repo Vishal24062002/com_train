{
 "cells": [
  {
   "cell_type": "code",
   "execution_count": 1,
   "id": "d8253f4f",
   "metadata": {},
   "outputs": [
    {
     "data": {
      "text/plain": [
       "CompletedProcess(args=['echo', 'hello fomr subproocess!'], returncode=0)"
      ]
     },
     "execution_count": 1,
     "metadata": {},
     "output_type": "execute_result"
    }
   ],
   "source": [
    "import subprocess\n",
    "subprocess.run(['echo','hello fomr subproocess!'],shell=True)"
   ]
  },
  {
   "cell_type": "code",
   "execution_count": 1,
   "id": "71039737",
   "metadata": {},
   "outputs": [
    {
     "name": "stdout",
     "output_type": "stream",
     "text": [
      "* \n",
      "* * \n",
      "* * * \n",
      "* * * * \n"
     ]
    }
   ],
   "source": [
    "def pat(n):\n",
    "    for i in range(n):\n",
    "        for j in range(i+1):\n",
    "            print(\"*\",end=\" \")\n",
    "        print()\n",
    "\n",
    "pat(4)"
   ]
  },
  {
   "cell_type": "code",
   "execution_count": 3,
   "id": "cf73efd3",
   "metadata": {},
   "outputs": [
    {
     "name": "stdout",
     "output_type": "stream",
     "text": [
      "Alice\n",
      "Not specified\n"
     ]
    }
   ],
   "source": [
    "my_dict = {'name': 'Alice', 'age': 25}\n",
    "name = my_dict.get('name')  # Returns 'Alice'\n",
    "print(name)\n",
    "\n",
    "gender = my_dict.get('gender', 'Not specified')  # Returns 'Not specified'\n",
    "print(gender)\n"
   ]
  },
  {
   "cell_type": "code",
   "execution_count": 2,
   "id": "3abaf13d",
   "metadata": {},
   "outputs": [
    {
     "name": "stdout",
     "output_type": "stream",
     "text": [
      "<class 'dict'>\n"
     ]
    }
   ],
   "source": [
    "a={}\n",
    "print(type(a))"
   ]
  },
  {
   "cell_type": "code",
   "execution_count": 4,
   "id": "be8ed970",
   "metadata": {},
   "outputs": [
    {
     "name": "stdout",
     "output_type": "stream",
     "text": [
      "9\n"
     ]
    }
   ],
   "source": [
    "a={1:5,2:3,3:4}\n",
    "print(a.pop(4,9))"
   ]
  },
  {
   "cell_type": "code",
   "execution_count": 5,
   "id": "dc75add4",
   "metadata": {},
   "outputs": [
    {
     "data": {
      "text/plain": [
       "dict_items([(1, 'A'), (2, 'B'), (3, 'C')])"
      ]
     },
     "execution_count": 5,
     "metadata": {},
     "output_type": "execute_result"
    }
   ],
   "source": [
    "a={1:\"A\",2:\"B\",3:\"C\"}\n",
    "a.items()"
   ]
  },
  {
   "cell_type": "code",
   "execution_count": 6,
   "id": "4fafb1d2",
   "metadata": {},
   "outputs": [
    {
     "name": "stdout",
     "output_type": "stream",
     "text": [
      "{'test': 7}\n"
     ]
    }
   ],
   "source": [
    "class demo(dict):\n",
    "  def __test__(self,key):\n",
    "    return []\n",
    "a = demo()\n",
    "a['test'] = 7\n",
    "print(a)"
   ]
  },
  {
   "cell_type": "code",
   "execution_count": 7,
   "id": "b91aeec4",
   "metadata": {},
   "outputs": [
    {
     "data": {
      "text/plain": [
       "{1: 'check', 2: 'check', 3: 'check'}"
      ]
     },
     "execution_count": 7,
     "metadata": {},
     "output_type": "execute_result"
    }
   ],
   "source": [
    "a={}\n",
    "a.fromkeys([1,2,3],\"check\")"
   ]
  },
  {
   "cell_type": "code",
   "execution_count": 8,
   "id": "a747b2a5",
   "metadata": {},
   "outputs": [
    {
     "data": {
      "text/plain": [
       "''"
      ]
     },
     "execution_count": 8,
     "metadata": {},
     "output_type": "execute_result"
    }
   ],
   "source": [
    "import collections\n",
    "a=dict()\n",
    "a=collections.defaultdict(str)\n",
    "a['A']"
   ]
  },
  {
   "cell_type": "code",
   "execution_count": 11,
   "id": "31ebb8f1",
   "metadata": {},
   "outputs": [
    {
     "data": {
      "text/plain": [
       "4"
      ]
     },
     "execution_count": 11,
     "metadata": {},
     "output_type": "execute_result"
    }
   ],
   "source": [
    "import random\n",
    "\n",
    "random.choice([1,2,3,4,5,])"
   ]
  },
  {
   "cell_type": "code",
   "execution_count": 19,
   "id": "59afc158",
   "metadata": {},
   "outputs": [
    {
     "ename": "NameError",
     "evalue": "name 'sub' is not defined",
     "output_type": "error",
     "traceback": [
      "\u001b[31m---------------------------------------------------------------------------\u001b[39m",
      "\u001b[31mNameError\u001b[39m                                 Traceback (most recent call last)",
      "\u001b[36mCell\u001b[39m\u001b[36m \u001b[39m\u001b[32mIn[19]\u001b[39m\u001b[32m, line 1\u001b[39m\n\u001b[32m----> \u001b[39m\u001b[32m1\u001b[39m random.choice(\u001b[43msub\u001b[49m)\n",
      "\u001b[31mNameError\u001b[39m: name 'sub' is not defined"
     ]
    }
   ],
   "source": [
    "random.choice(sub)"
   ]
  },
  {
   "cell_type": "code",
   "execution_count": 29,
   "id": "3ca52333",
   "metadata": {},
   "outputs": [
    {
     "data": {
      "text/plain": [
       "6"
      ]
     },
     "execution_count": 29,
     "metadata": {},
     "output_type": "execute_result"
    }
   ],
   "source": [
    "random.randint(3,7)"
   ]
  },
  {
   "cell_type": "code",
   "execution_count": 74,
   "id": "638ad10b",
   "metadata": {},
   "outputs": [
    {
     "data": {
      "text/plain": [
       "2"
      ]
     },
     "execution_count": 74,
     "metadata": {},
     "output_type": "execute_result"
    }
   ],
   "source": [
    "random.seed(2)\n",
    "random.randint(1,5)\n",
    "\n",
    "random.seed(3)\n",
    "random.randint(1,5)"
   ]
  },
  {
   "cell_type": "code",
   "execution_count": 83,
   "id": "ccab87c9",
   "metadata": {},
   "outputs": [
    {
     "name": "stdout",
     "output_type": "stream",
     "text": [
      "None\n"
     ]
    }
   ],
   "source": [
    "from random import shuffle\n",
    "print(random.shuffle(['1','2','24']))"
   ]
  }
 ],
 "metadata": {
  "kernelspec": {
   "display_name": "Python 3",
   "language": "python",
   "name": "python3"
  },
  "language_info": {
   "codemirror_mode": {
    "name": "ipython",
    "version": 3
   },
   "file_extension": ".py",
   "mimetype": "text/x-python",
   "name": "python",
   "nbconvert_exporter": "python",
   "pygments_lexer": "ipython3",
   "version": "3.12.3"
  }
 },
 "nbformat": 4,
 "nbformat_minor": 5
}
