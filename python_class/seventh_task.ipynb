{
 "cells": [
  {
   "cell_type": "code",
   "execution_count": 1,
   "id": "af6d691b",
   "metadata": {},
   "outputs": [],
   "source": [
    "# task->1 "
   ]
  },
  {
   "cell_type": "code",
   "execution_count": 3,
   "id": "94e6a39f",
   "metadata": {},
   "outputs": [
    {
     "name": "stdout",
     "output_type": "stream",
     "text": [
      "33\n"
     ]
    }
   ],
   "source": [
    "# # task -->2\n",
    "# Count Number of Words in a File\n",
    "# Task:\n",
    "# Open a file and count how many words it contains.\n",
    "\n",
    "with open('demo1.txt','r') as file :\n",
    "    cnt=file.read()\n",
    "wrd=cnt.split()\n",
    "\n",
    "ct=len(wrd)\n",
    "\n",
    "print(ct)"
   ]
  },
  {
   "cell_type": "code",
   "execution_count": null,
   "id": "1cc1a439",
   "metadata": {},
   "outputs": [
    {
     "name": "stdout",
     "output_type": "stream",
     "text": [
      "lkashdsa asd hsa vishal\n"
     ]
    }
   ],
   "source": [
    "# # task ->3\n",
    "# Search for a Word in a File\n",
    "# Task:\n",
    "# Ask the user for a word, search for that word in the file, and print the line(s) where it's found.\n",
    "\n",
    "word=\"vishal\"\n",
    "\n",
    "with open('demo1.txt','r') as f:\n",
    "    for i in f:\n",
    "        if word in i:\n",
    "            print(i.strip())\n",
    "\n",
    "        "
   ]
  },
  {
   "cell_type": "code",
   "execution_count": 7,
   "id": "d310a0d5",
   "metadata": {},
   "outputs": [],
   "source": [
    "# task 4->\n",
    "# Copy Content from One File to Another\n",
    "# Task:\n",
    "# Copy the content from data.txt to copy.txt.\n",
    "\n",
    "with open('demo.txt','r') as f:\n",
    "    data=f.read()\n",
    "\n",
    "with open('demo1.txt','w') as d:\n",
    "    d.write(data)\n",
    " "
   ]
  },
  {
   "cell_type": "code",
   "execution_count": 15,
   "id": "213c7927",
   "metadata": {},
   "outputs": [],
   "source": [
    "# # task 5\n",
    "#  Append to a File\n",
    "# Task:\n",
    "# Append a new sentence to the end of data.txt without overwriting existing content.\n",
    "\n",
    "with open('demo.txt','a') as a:\n",
    "    a.write(\"godd  boy\")"
   ]
  },
  {
   "cell_type": "code",
   "execution_count": null,
   "id": "54b65db8",
   "metadata": {},
   "outputs": [
    {
     "name": "stdout",
     "output_type": "stream",
     "text": [
      "value\n",
      "svds\n",
      "sdvc\n",
      "sdfv\n",
      "dsv\n",
      "i daf\n"
     ]
    }
   ],
   "source": [
    "#  task -->6\n",
    "#  Display File Content in Reverse\n",
    "# Task:\n",
    "# Read all lines from the file and print them in reverse order.\n",
    "\n",
    "\n",
    "with open('demo.txt', 'r') as file:\n",
    "   \n",
    "    lines = file.readlines()\n",
    "\n",
    "\n",
    "rev = lines[::-1]\n",
    "\n",
    "\n",
    "for line in rev:\n",
    "    print(line.strip())\n"
   ]
  },
  {
   "cell_type": "code",
   "execution_count": 26,
   "id": "38b3cab8",
   "metadata": {},
   "outputs": [],
   "source": [
    "# task 7. Remove Blank Lines\n",
    "# Task:\n",
    "# Create a new file that contains all the lines from the original file except blank lines.\n",
    "\n",
    " \n",
    "result = \"\"\n",
    "with open(\"demo.txt\", \"r+\") as file:\n",
    "    for line in file:\n",
    "        if not line.isspace():\n",
    "            result += line\n",
    " \n",
    "    file.seek(0)  \n",
    "    file.write(result)\n",
    " \n"
   ]
  },
  {
   "cell_type": "code",
   "execution_count": 29,
   "id": "62d2a6f0",
   "metadata": {},
   "outputs": [],
   "source": [
    "# #  task 8\n",
    "# Write Random Numbers to File\n",
    "# Task:\n",
    "# Use the random module to write 100 random integers to a file (one per line).\n",
    "\n",
    "import random\n",
    "\n",
    "with open('demo.txt','w') as w:\n",
    "    for i in  range(100):\n",
    "        ran=random.randint(1,100)\n",
    "        w.write(f'{ran}\\n')\n",
    "\n"
   ]
  },
  {
   "cell_type": "markdown",
   "id": "0f609222",
   "metadata": {},
   "source": [
    "# "
   ]
  },
  {
   "cell_type": "code",
   "execution_count": 46,
   "id": "faf38162",
   "metadata": {},
   "outputs": [
    {
     "name": "stdout",
     "output_type": "stream",
     "text": [
      "4577\n"
     ]
    }
   ],
   "source": [
    "#task --->9\n",
    "#  #  Sum of Numbers in a File\n",
    "# Task:\n",
    "# Read all numbers from the file you created above and print their sum.\n",
    "def sumi(w):\n",
    "    sum=0\n",
    "    with open(w,'r') as r:\n",
    "   \n",
    "        for i in r:\n",
    "            num=i.split()\n",
    "            for j in num:\n",
    "\n",
    "                sum+=int(j)\n",
    "    return sum\n",
    "\n",
    "\n",
    "print(sumi('demo.txt'))"
   ]
  },
  {
   "cell_type": "code",
   "execution_count": null,
   "id": "f0fae06f",
   "metadata": {},
   "outputs": [],
   "source": [
    "# task--> 10. \n",
    "# Line Numbering\n",
    "# Task:\n",
    "# Read a file and print each line preceded by its line number, like:\n",
    "# 1: Python is awesome\n",
    "# 2: File handling is powerful\n",
    "                            \n"
   ]
  },
  {
   "cell_type": "markdown",
   "id": "53543376",
   "metadata": {},
   "source": [
    "# json task"
   ]
  },
  {
   "cell_type": "code",
   "execution_count": 52,
   "id": "46e61d31",
   "metadata": {},
   "outputs": [],
   "source": [
    "# task 1=-->    \n",
    "\n",
    "import json\n",
    "\n",
    "d={\n",
    "    \"name\":\"ram\",\n",
    "    \"age\":100,\n",
    "    \"city\":\"ayodhya\",\n",
    "    \"skills\":['py','ml','da']\n",
    "\n",
    "\n",
    "}\n",
    "\n",
    "with open('data_new.json','w') as file:\n",
    "    json.dump(d,file,indent=4)\n",
    "\n"
   ]
  },
  {
   "cell_type": "code",
   "execution_count": null,
   "id": "03058e88",
   "metadata": {},
   "outputs": [],
   "source": []
  }
 ],
 "metadata": {
  "kernelspec": {
   "display_name": "Python 3",
   "language": "python",
   "name": "python3"
  },
  "language_info": {
   "codemirror_mode": {
    "name": "ipython",
    "version": 3
   },
   "file_extension": ".py",
   "mimetype": "text/x-python",
   "name": "python",
   "nbconvert_exporter": "python",
   "pygments_lexer": "ipython3",
   "version": "3.12.3"
  }
 },
 "nbformat": 4,
 "nbformat_minor": 5
}
