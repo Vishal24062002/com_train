{
 "cells": [
  {
   "cell_type": "code",
   "execution_count": 4,
   "id": "ee6ae875",
   "metadata": {},
   "outputs": [
    {
     "name": "stdout",
     "output_type": "stream",
     "text": [
      "['hOw', 'ARe']\n"
     ]
    }
   ],
   "source": [
    "#  A list of words is given. Find the words from the list that have their second character in uppercase. ls = ['hello', \n",
    "# 'Dear', 'hOw', 'ARe', 'You']\n",
    "\n",
    "ls = ['hello', 'Dear', 'hOw', 'ARe', 'You']\n",
    "\n",
    "rs= [i for i in ls if len(i) > 1 and i[1].isupper()]\n",
    "print(rs)"
   ]
  },
  {
   "cell_type": "code",
   "execution_count": null,
   "id": "5c71698c",
   "metadata": {},
   "outputs": [
    {
     "name": "stdout",
     "output_type": "stream",
     "text": [
      "2\n",
      "3\n",
      "5\n",
      "7\n"
     ]
    }
   ],
   "source": [
    "# 2   Write a python program to find the first n Prime numbers. User to input n\n",
    "\n",
    "\n",
    "n=int(input(\"enter the number\"))\n",
    "\n",
    "for i in range(2,n):\n",
    "    for j in range(2,i):\n",
    "        if i%j==0:\n",
    "            break\n",
    "    else:\n",
    "        print(i)\n",
    "\n",
    "\n"
   ]
  },
  {
   "cell_type": "code",
   "execution_count": null,
   "id": "539dd82e",
   "metadata": {},
   "outputs": [
    {
     "name": "stdout",
     "output_type": "stream",
     "text": [
      "3\n"
     ]
    }
   ],
   "source": [
    "# 3--> Write a python program to search for a character and the count of its occurrence in a given string\n",
    "s=\"abbba\"\n",
    "target='b'\n",
    "cnt=0\n",
    "for i in s:\n",
    "    if target==i:\n",
    "        cnt+=1\n",
    "\n",
    "\n",
    "print(cnt)"
   ]
  },
  {
   "cell_type": "code",
   "execution_count": 10,
   "id": "7170d4c7",
   "metadata": {},
   "outputs": [
    {
     "name": "stdout",
     "output_type": "stream",
     "text": [
      "(2, 4)\n"
     ]
    }
   ],
   "source": [
    "# 4-->Write a Python function that accepts a string from user and calculates the number of upper-case letters and \n",
    "# lower-case letters. \n",
    "\n",
    "def cnt(s):\n",
    "    cn=0\n",
    "    lc=0\n",
    "    for i in s:\n",
    "        if i.isupper():\n",
    "            cn+=1\n",
    "        else:\n",
    "            lc+=1\n",
    "    return cn ,lc\n",
    "\n",
    "s='abAhbA'\n",
    "res=cnt(s)\n",
    "print(res)"
   ]
  },
  {
   "cell_type": "code",
   "execution_count": 11,
   "id": "294c58c3",
   "metadata": {},
   "outputs": [
    {
     "name": "stdout",
     "output_type": "stream",
     "text": [
      "even sum  312\n",
      "odd sum  325\n"
     ]
    }
   ],
   "source": [
    "# # 5--> Write a program to accept 2 numbers from users and display the sum of odd numbers and even numbers that \n",
    "# fall between them (ex 12 and 37)\n",
    "\n",
    "n1=int(input(\"enrter the first number\"))\n",
    "n2=int(input(\"enrter the second number\"))\n",
    "odd_sum=0\n",
    "even_sum=0\n",
    "for i in range(n1,n2+1):\n",
    "    if(i%2==0):\n",
    "        even_sum+=i\n",
    "    else:\n",
    "        odd_sum+=i\n",
    "print(\"even sum \",even_sum)\n",
    "print(\"odd sum \",odd_sum)"
   ]
  },
  {
   "cell_type": "code",
   "execution_count": 14,
   "id": "37919c01",
   "metadata": {},
   "outputs": [
    {
     "name": "stdout",
     "output_type": "stream",
     "text": [
      "2\n",
      "4\n",
      "6\n",
      "8\n",
      "10\n",
      "12\n",
      "14\n",
      "16\n",
      "18\n",
      "20\n"
     ]
    }
   ],
   "source": [
    "# 6--> Write a python Program to print the multiplication table (upto 10) of any number provided by the user\n",
    "n=int(input(\"enter the number\"))\n",
    "i=1\n",
    "while i<=10:\n",
    "    print(n*i)\n",
    "    i+=1\n",
    "\n"
   ]
  },
  {
   "cell_type": "code",
   "execution_count": null,
   "id": "e76490c3",
   "metadata": {},
   "outputs": [
    {
     "name": "stdout",
     "output_type": "stream",
     "text": [
      "sum of prime number  77\n"
     ]
    }
   ],
   "source": [
    "# # 7-> sum of n prime number\n",
    "\n",
    "n=int(input(\"enter the number\"))\n",
    "sum=0\n",
    "for i in range(2,n):\n",
    "    for j in range(2,i):\n",
    "        if i%j==0:\n",
    "            break\n",
    "    else:\n",
    "        sum+=i\n",
    "print(\"sum of prime number \",sum)\n",
    "\n"
   ]
  },
  {
   "cell_type": "code",
   "execution_count": 18,
   "id": "80ebdbdf",
   "metadata": {},
   "outputs": [
    {
     "name": "stdout",
     "output_type": "stream",
     "text": [
      "7\n",
      "1\n"
     ]
    }
   ],
   "source": [
    "# 8--> Write a python program to find a maximum and minimum number in a list without using an inbuilt function. \n",
    "\n",
    "def maxi(l):\n",
    "    m=l[0]\n",
    "    for i in l:\n",
    "        if m<i:\n",
    "            m=i\n",
    "    print(m)\n",
    "\n",
    "def min(l):\n",
    "    mi=l[0]\n",
    "    for i in l:\n",
    "        if mi>i:\n",
    "            mi=i\n",
    "    print(mi)\n",
    "\n",
    "l=[1,2,3,4,5,6,7]\n",
    "maxi(l)\n",
    "min(l)"
   ]
  },
  {
   "cell_type": "code",
   "execution_count": 88,
   "id": "d6bdf0fe",
   "metadata": {},
   "outputs": [
    {
     "name": "stdout",
     "output_type": "stream",
     "text": [
      "[5, 1, 2, 3, 4]\n"
     ]
    }
   ],
   "source": [
    "# 9-->  Write a python program to rotate a list by right n times with and without slicing technique\n",
    "def rotate(l, n):\n",
    "    n = n % len(l)\n",
    "    for _ in range(n):\n",
    "        l.insert(0, l.pop())\n",
    "    return l\n",
    "\n",
    "\n",
    "l = [1, 2, 3, 4, 5]\n",
    "n =int(input(\"enter  the number\"))\n",
    "rotated_list = rotate(l, n)\n",
    "print(rotated_list)\n"
   ]
  },
  {
   "cell_type": "code",
   "execution_count": 81,
   "id": "44983ea2",
   "metadata": {},
   "outputs": [
    {
     "name": "stdout",
     "output_type": "stream",
     "text": [
      "[4, 5, 1, 2, 3]\n"
     ]
    }
   ],
   "source": [
    "# 9-->  Write a python program to rotate a list by right n times with and without slicing technique\n",
    "def rotate(l, n):\n",
    "    n = n % len(l)\n",
    "   \n",
    "    return l[-n:] + l[:-n]\n",
    "\n",
    "\n",
    "l = [1, 2, 3, 4, 5]\n",
    "n =int(input(\"enter  the number\"))\n",
    "rotated_list = rotate(l, n)\n",
    "print(rotated_list)\n"
   ]
  },
  {
   "cell_type": "code",
   "execution_count": null,
   "id": "76e6e696",
   "metadata": {},
   "outputs": [
    {
     "name": "stdout",
     "output_type": "stream",
     "text": [
      "6\n"
     ]
    }
   ],
   "source": [
    "# 11-> Write a python Function to count the number of vowels in a string. \n",
    "def cnt(s):\n",
    "    cn=0\n",
    "    vowel=\"aeiouAEIOU\"\n",
    "    for i in s:\n",
    "        if i in vowel:\n",
    "            cn+=1\n",
    "    print(cn)\n",
    "\n",
    "s='ram is a good boy'\n",
    "cnt(s)"
   ]
  },
  {
   "cell_type": "code",
   "execution_count": 27,
   "id": "9519481f",
   "metadata": {},
   "outputs": [
    {
     "name": "stdout",
     "output_type": "stream",
     "text": [
      "2\n"
     ]
    }
   ],
   "source": [
    "# 12-->  above function using regex\n",
    "import re\n",
    "def cnt(s):\n",
    "    pat=r'[aeiouAEIOU]'\n",
    "    match=re.findall(pat,s)\n",
    "\n",
    "    print(len(match))\n",
    "s=input(\"enter the string\")\n",
    "cnt(s)\n"
   ]
  },
  {
   "cell_type": "code",
   "execution_count": 26,
   "id": "82b72654",
   "metadata": {},
   "outputs": [
    {
     "name": "stdout",
     "output_type": "stream",
     "text": [
      "421\n"
     ]
    }
   ],
   "source": [
    "# 13-->\n",
    "def reverse(n):\n",
    "    rev=0\n",
    "    while n>0:\n",
    "        rem=n%10\n",
    "        rev=rev*10+rem\n",
    "        n=n//10\n",
    "    print(rev)\n",
    "n=int(input(\"enter the number\"))\n",
    "reverse(n)"
   ]
  },
  {
   "cell_type": "code",
   "execution_count": 30,
   "id": "26b38155",
   "metadata": {},
   "outputs": [
    {
     "name": "stdout",
     "output_type": "stream",
     "text": [
      "[50, 81, 19, 24, 53, 47, 50, 86, 47, 46, 98, 39, 52, 78, 97, 2, 3, 66, 71, 13]\n",
      "[50, 24, 50, 86, 46, 98, 52, 78, 2, 66]\n",
      "[81, 19, 53, 47, 47, 39, 97, 3, 71, 13]\n"
     ]
    }
   ],
   "source": [
    "# 10-->Write a python Function to generate n random numbers and list the even and odd numbers in that list. User to \n",
    "# input the N\n",
    "import random\n",
    "\n",
    "def generate():\n",
    "    n=(int(input(\"enter the number\")))\n",
    "    number=[random.randint(0,100) for _ in range(n)]\n",
    "    even=[i for i in number if i%2==0]\n",
    "    odd=[i for i in number if i%2!=0]\n",
    "\n",
    "    print(number)\n",
    "    print(even)\n",
    "    print(odd)\n",
    "\n",
    "\n",
    "\n",
    "generate()"
   ]
  },
  {
   "cell_type": "code",
   "execution_count": null,
   "id": "ef7b6feb",
   "metadata": {},
   "outputs": [
    {
     "name": "stdout",
     "output_type": "stream",
     "text": [
      "list is sorted : False\n",
      "list contain duplicate : True\n"
     ]
    }
   ],
   "source": [
    "#14--> Write functions called is _sorted that takes a list as a parameter and returns True if the list is sorted in \n",
    "# ascending order and False otherwise and has_ duplicates that takes a list and returns True if there is any \n",
    "# element that appears more than once. It should not modify the original list.\n",
    "\n",
    "\n",
    "def is_sorted(l):\n",
    "    rs=[]\n",
    "    for i in l:\n",
    "        rs.append(i)\n",
    "    rs.sort()\n",
    "   \n",
    "    return rs==l \n",
    "\n",
    "def has_duplicate(l):\n",
    "    for i in range(len(l)):\n",
    "         if l[i] in l[i+1:]:\n",
    "            return True\n",
    "    return False\n",
    "l=[1,2,3,10,4,5,5]\n",
    "res1=is_sorted(l)\n",
    "print(\"list is sorted :\",res1)\n",
    "res=has_duplicate(l)\n",
    "print(\"list contain duplicate :\",res)"
   ]
  },
  {
   "cell_type": "code",
   "execution_count": null,
   "id": "0bed1686",
   "metadata": {},
   "outputs": [],
   "source": [
    "# .15--> Write a python function that copies a file reading and writing up to 50 characters at a time\n",
    "\n",
    "with open('demo.txt','r') as f1:\n",
    "    line=f1.read(50)\n",
    "with open('demo2.txt','w') as f:\n",
    "    f.write(line)\n",
    "\n"
   ]
  }
 ],
 "metadata": {
  "kernelspec": {
   "display_name": "Python 3",
   "language": "python",
   "name": "python3"
  },
  "language_info": {
   "codemirror_mode": {
    "name": "ipython",
    "version": 3
   },
   "file_extension": ".py",
   "mimetype": "text/x-python",
   "name": "python",
   "nbconvert_exporter": "python",
   "pygments_lexer": "ipython3",
   "version": "3.12.3"
  }
 },
 "nbformat": 4,
 "nbformat_minor": 5
}
