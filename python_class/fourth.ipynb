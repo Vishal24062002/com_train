{
 "cells": [
  {
   "cell_type": "code",
   "execution_count": 1,
   "metadata": {},
   "outputs": [
    {
     "name": "stdout",
     "output_type": "stream",
     "text": [
      "3\n",
      "2\n",
      "one\n"
     ]
    }
   ],
   "source": [
    "#recursion\n",
    "def third():\n",
    "    # sec()\n",
    "    print(\"3\")\n",
    "\n",
    "def sec():\n",
    "    third()\n",
    "    print(\"2\")\n",
    "\n",
    "def one():\n",
    "    sec()\n",
    "    print(\"one\")\n",
    "\n",
    "one()"
   ]
  },
  {
   "cell_type": "code",
   "execution_count": 2,
   "metadata": {},
   "outputs": [
    {
     "name": "stdout",
     "output_type": "stream",
     "text": [
      "120\n"
     ]
    }
   ],
   "source": [
    "# factorial using recursion\n",
    " \n",
    "def fact(n):\n",
    "    if n==1:\n",
    "        return 1\n",
    "    return n*fact(n-1)\n",
    "print(fact(5))"
   ]
  },
  {
   "cell_type": "code",
   "execution_count": 5,
   "metadata": {},
   "outputs": [
    {
     "name": "stdout",
     "output_type": "stream",
     "text": [
      "120\n"
     ]
    }
   ],
   "source": [
    "# factorial without recursion\n",
    "n=5\n",
    "f=1\n",
    "for i in range(5,0,-1):\n",
    "    f=f*i\n",
    "print(f)"
   ]
  },
  {
   "cell_type": "code",
   "execution_count": 17,
   "metadata": {},
   "outputs": [
    {
     "name": "stdout",
     "output_type": "stream",
     "text": [
      "3\n"
     ]
    }
   ],
   "source": [
    "# fibonaci number\n",
    "def fib(n):\n",
    "    if n==1:\n",
    "        return 0\n",
    "    elif n==2:\n",
    "        return 1\n",
    "    return fib(n-1)+fib(n-2)\n",
    "print(fib(5))\n",
    "    "
   ]
  },
  {
   "cell_type": "code",
   "execution_count": 9,
   "metadata": {},
   "outputs": [
    {
     "name": "stdout",
     "output_type": "stream",
     "text": [
      "15\n"
     ]
    }
   ],
   "source": [
    "def sum(l):\n",
    "    if len(l)==1:\n",
    "        return l[0]\n",
    "    return l[0]+sum(l[1:])\n",
    "l=[1,2,3,4,5]\n",
    "print(sum(l))"
   ]
  },
  {
   "cell_type": "code",
   "execution_count": 23,
   "metadata": {},
   "outputs": [
    {
     "name": "stdout",
     "output_type": "stream",
     "text": [
      "0\n",
      "1\n",
      "1\n",
      "2\n",
      "3\n"
     ]
    }
   ],
   "source": [
    "# fibonnaci\n",
    "def fib(n):\n",
    "    if n<=1:\n",
    "        return n\n",
    "    return fib(n-1)+fib(n-2)\n",
    "n=5\n",
    " \n",
    "for i in range(n):\n",
    "    print(fib(i))\n",
    "    "
   ]
  },
  {
   "cell_type": "code",
   "execution_count": 20,
   "metadata": {},
   "outputs": [
    {
     "name": "stdout",
     "output_type": "stream",
     "text": [
      "4\n"
     ]
    }
   ],
   "source": [
    "# gcd of two number\n",
    "\n",
    "def gcd(a,b):\n",
    "    if b==0:\n",
    "        return a\n",
    "    return gcd(b,a%b)\n",
    "a=32\n",
    "b=108\n",
    "print(gcd(a,b))"
   ]
  },
  {
   "cell_type": "code",
   "execution_count": 21,
   "metadata": {},
   "outputs": [
    {
     "name": "stdout",
     "output_type": "stream",
     "text": [
      "True\n"
     ]
    }
   ],
   "source": [
    "# palindrome string \n",
    "def palin(st):\n",
    "    if len(st)<=1:\n",
    "        return True\n",
    "    return st[0]==st[-1] and palin(st[1:-1])\n",
    "print(palin(\"madam\"))"
   ]
  },
  {
   "cell_type": "code",
   "execution_count": 24,
   "metadata": {},
   "outputs": [
    {
     "name": "stdout",
     "output_type": "stream",
     "text": [
      "4\n"
     ]
    }
   ],
   "source": [
    "# count the digit of a number\n",
    "n=int(input(\"enter the value of n\"))\n",
    "dig=0\n",
    "while n>0:\n",
    "    rem=n%10\n",
    "    dig+=1\n",
    "    n=n//10\n",
    "print(dig)\n"
   ]
  },
  {
   "cell_type": "code",
   "execution_count": 26,
   "metadata": {},
   "outputs": [
    {
     "name": "stdout",
     "output_type": "stream",
     "text": [
      "4\n"
     ]
    }
   ],
   "source": [
    "def dig(n):\n",
    "    if len(str(n))==1:\n",
    "        return 1\n",
    "    return 1+dig(n//10)\n",
    "n=1234\n",
    "print(dig(n))"
   ]
  },
  {
   "cell_type": "code",
   "execution_count": 30,
   "metadata": {},
   "outputs": [
    {
     "name": "stdout",
     "output_type": "stream",
     "text": [
      "cba\n"
     ]
    }
   ],
   "source": [
    "# revere a string using\n",
    "\n",
    "def rev(s):\n",
    "    if len(s)==1:\n",
    "        return s\n",
    "    return rev(s[1:])+s[0]\n",
    "print(rev(\"abc\"))\n"
   ]
  },
  {
   "cell_type": "code",
   "execution_count": 43,
   "metadata": {},
   "outputs": [
    {
     "name": "stdout",
     "output_type": "stream",
     "text": [
      "4321\n"
     ]
    }
   ],
   "source": [
    "def reverse(n, rev=0):\n",
    "    if n == 0:\n",
    "        return rev\n",
    "    else:\n",
    "        rev = rev * 10 + n % 10\n",
    "    return reverse(n // 10, rev)\n",
    "print(reverse(1234))\n"
   ]
  },
  {
   "cell_type": "code",
   "execution_count": 40,
   "metadata": {},
   "outputs": [
    {
     "data": {
      "text/plain": [
       "25"
      ]
     },
     "execution_count": 40,
     "metadata": {},
     "output_type": "execute_result"
    }
   ],
   "source": [
    "def sq(n):\n",
    "    \n",
    "    return n*n\n",
    "f=sq\n",
    "f(5)\n"
   ]
  },
  {
   "cell_type": "code",
   "execution_count": 41,
   "metadata": {},
   "outputs": [
    {
     "name": "stdout",
     "output_type": "stream",
     "text": [
      "[1, 4, 9, 16]\n"
     ]
    }
   ],
   "source": [
    "def my_map(func,arr):\n",
    "    res=[]\n",
    "    for i in arr:\n",
    "        res.append(func(i))\n",
    "    return res\n",
    "s=my_map(sq,[1,2,3,4])\n",
    "print(s)"
   ]
  },
  {
   "cell_type": "code",
   "execution_count": 45,
   "metadata": {},
   "outputs": [
    {
     "name": "stdout",
     "output_type": "stream",
     "text": [
      "log hi\n"
     ]
    }
   ],
   "source": [
    "# nested function\n",
    "def log(msg):\n",
    "    def logi():\n",
    "        print('log',msg)\n",
    "    return logi\n",
    "ab=log('hi')\n",
    "ab()"
   ]
  },
  {
   "cell_type": "code",
   "execution_count": 50,
   "metadata": {},
   "outputs": [
    {
     "name": "stdout",
     "output_type": "stream",
     "text": [
      "log HI from hi\n",
      "log welcome from vishal\n"
     ]
    }
   ],
   "source": [
    "def log(msg):\n",
    "    def logi(name):\n",
    "        print('log',msg ,'from',name)\n",
    "\n",
    "    return logi\n",
    "log_hi=log(\"HI\")\n",
    "log_hi(\"hi\")\n",
    "\n",
    "log_wel=log(\"welcome\")\n",
    "log_wel(\"vishal\")"
   ]
  },
  {
   "cell_type": "code",
   "execution_count": null,
   "metadata": {},
   "outputs": [
    {
     "name": "stdout",
     "output_type": "stream",
     "text": [
      "105\n"
     ]
    }
   ],
   "source": [
    "def add(fixed):\n",
    "    def adder(number):\n",
    "        return number+fixed\n",
    "    return adder\n",
    "add5=add(5)\n",
    "print(add5(100))"
   ]
  },
  {
   "cell_type": "code",
   "execution_count": 73,
   "metadata": {},
   "outputs": [
    {
     "name": "stdout",
     "output_type": "stream",
     "text": [
      "[1, 2, 3, 4, 5, 6, 7]\n"
     ]
    }
   ],
   "source": [
    "a = [[1, 2, 3], [4, 5], [6, 7]]\n",
    "\n",
    "\n",
    "b = [item for ls in a for item in ls]\n",
    "print(b)"
   ]
  },
  {
   "cell_type": "code",
   "execution_count": 70,
   "metadata": {},
   "outputs": [
    {
     "name": "stdout",
     "output_type": "stream",
     "text": [
      "[1, 2, 3, 4, 5]\n"
     ]
    }
   ],
   "source": [
    "def flatten(S):\n",
    "    if S == []:\n",
    "        return S\n",
    "    if isinstance(S[0], list):\n",
    "        return flatten(S[0]) + flatten(S[1:])\n",
    "    return S[:1] + flatten(S[1:])\n",
    "print(flatten([1,[2,[3,4]],5]))"
   ]
  },
  {
   "cell_type": "code",
   "execution_count": null,
   "metadata": {},
   "outputs": [],
   "source": [
    "def check(l):\n",
    "    "
   ]
  },
  {
   "cell_type": "code",
   "execution_count": 75,
   "metadata": {},
   "outputs": [
    {
     "name": "stdout",
     "output_type": "stream",
     "text": [
      "['a', 'ab', 'abc', 'abcd', '', 'b', 'bc', 'bcd', '', 'c', 'cd', '', 'd']\n"
     ]
    }
   ],
   "source": [
    "def find_substrings(s):\n",
    "    def generate_substrings(start, end, substrings):\n",
    "        if start == len(s):\n",
    "            return\n",
    "        if end == len(s) + 1:\n",
    "            generate_substrings(start + 1, start + 1, substrings)\n",
    "        else:\n",
    "            substrings.append(s[start:end])\n",
    "            generate_substrings(start, end + 1, substrings)\n",
    "\n",
    "    substrings = []\n",
    "    generate_substrings(0, 1, substrings)\n",
    "    return substrings\n",
    "\n",
    "# Example usage\n",
    "string = \"abcd\"\n",
    "substrings = find_substrings(string)\n",
    "print(substrings)"
   ]
  },
  {
   "cell_type": "code",
   "execution_count": 87,
   "metadata": {},
   "outputs": [
    {
     "name": "stdout",
     "output_type": "stream",
     "text": [
      "['b', 'bs', 'bsd', 'bsdk', 's', 'sd', 'sdk', 'd', 'dk', 'k']\n"
     ]
    }
   ],
   "source": [
    "def sub(s):\n",
    "    sr = []\n",
    "    n = len(s)\n",
    "    for i in range(n):\n",
    "        for j in range(i + 1, n + 1):\n",
    "            sr.append(s[i:j])\n",
    "    return sr\n",
    "\n",
    "print(sub(\"bsdk\"))"
   ]
  },
  {
   "cell_type": "code",
   "execution_count": 93,
   "metadata": {},
   "outputs": [
    {
     "name": "stdout",
     "output_type": "stream",
     "text": [
      "3.0\n"
     ]
    }
   ],
   "source": [
    "# calculate the average of the given argument using *args\n",
    "def av(*args):\n",
    "    if not args:\n",
    "        return 0\n",
    "    su=sum(args)\n",
    "    n=len(args)\n",
    "    avg=su/n\n",
    "    return avg\n",
    "\n",
    "print(av(1,2,3,4,5))\n",
    "\n"
   ]
  },
  {
   "cell_type": "code",
   "execution_count": null,
   "metadata": {},
   "outputs": [
    {
     "name": "stdout",
     "output_type": "stream",
     "text": [
      "9\n"
     ]
    }
   ],
   "source": [
    "# calculate the max of the given argument uing *args\n",
    "\n",
    "def ma(*args):\n",
    "    if not args:\n",
    "        return 0\n",
    "    maxi=args[0]\n",
    "    for i in args:\n",
    "        if i>maxi:\n",
    "            maxi=i\n",
    "    return maxi\n",
    "print(ma(1,2,3,4,5,6,9))"
   ]
  },
  {
   "cell_type": "code",
   "execution_count": 4,
   "metadata": {},
   "outputs": [
    {
     "name": "stdout",
     "output_type": "stream",
     "text": [
      "all feilds are present\n"
     ]
    }
   ],
   "source": [
    "def data(**kwargs):\n",
    "    rf=['name','email','dob']\n",
    "    mis=[feild for feild in rf if feild not in kwargs]\n",
    "\n",
    "    if mis:\n",
    "        print(\"missing word\",','.join(mis))\n",
    "    else:\n",
    "        print(\"all feilds are present\")\n",
    "data(name=\"abc\",email=\"o@b\",dob=\"1/11/1111\")"
   ]
  }
 ],
 "metadata": {
  "kernelspec": {
   "display_name": "Python 3",
   "language": "python",
   "name": "python3"
  },
  "language_info": {
   "codemirror_mode": {
    "name": "ipython",
    "version": 3
   },
   "file_extension": ".py",
   "mimetype": "text/x-python",
   "name": "python",
   "nbconvert_exporter": "python",
   "pygments_lexer": "ipython3",
   "version": "3.12.3"
  }
 },
 "nbformat": 4,
 "nbformat_minor": 2
}
