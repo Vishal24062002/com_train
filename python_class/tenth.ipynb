{
 "cells": [
  {
   "cell_type": "code",
   "execution_count": 7,
   "id": "1574c2f3",
   "metadata": {},
   "outputs": [
    {
     "name": "stdout",
     "output_type": "stream",
     "text": [
      "100\n"
     ]
    }
   ],
   "source": [
    "class cal:\n",
    "    #  self known as instance variable \"here a,b, are loca;l variable \"\n",
    "    # __init__ is also known as constructor/initialization method\n",
    "    def __init__(self,a=10,b=20):\n",
    "        self.m=a\n",
    "        self.n=b\n",
    "\n",
    "    def add(self):\n",
    "        print(self.m+self.n)\n",
    "\n",
    "s=cal(70,30) #obj\n",
    "s.add()"
   ]
  },
  {
   "cell_type": "code",
   "execution_count": 8,
   "id": "f4a3a0c8",
   "metadata": {},
   "outputs": [
    {
     "name": "stdout",
     "output_type": "stream",
     "text": [
      "rect(5,10)\n",
      "False\n",
      "50\n"
     ]
    }
   ],
   "source": [
    "class rect:\n",
    "    def __init__(self,length,width):\n",
    "        self.length=length\n",
    "        self.width=width\n",
    "    def __str__(self):\n",
    "        return f'rect({self.length},{self.width})'\n",
    "    \n",
    "    def __eq__(self, other):\n",
    "        return self.length==other.length and self.width==other.width\n",
    "\n",
    "    def area(self):\n",
    "        return self.length*self.width\n",
    "r1=rect(5,10)\n",
    "r2=rect(10,5)\n",
    "\n",
    "print(r1)\n",
    "print(r1==r2)\n",
    "print(r1.area())\n"
   ]
  },
  {
   "cell_type": "code",
   "execution_count": 13,
   "id": "fd577d7a",
   "metadata": {},
   "outputs": [
    {
     "name": "stdout",
     "output_type": "stream",
     "text": [
      "private\n"
     ]
    }
   ],
   "source": [
    "class myclass:\n",
    "    def __init__(self):\n",
    "        self.public_attr='public'\n",
    "        self.__private_attr='private'\n",
    "    def get_private_attr(self):\n",
    "        return self.__private_attr\n",
    "    \n",
    "obj=myclass()\n",
    "v=obj.get_private_attr()\n",
    "print(v)"
   ]
  },
  {
   "cell_type": "code",
   "execution_count": 14,
   "id": "731ca082",
   "metadata": {},
   "outputs": [
    {
     "name": "stdout",
     "output_type": "stream",
     "text": [
      "True\n"
     ]
    }
   ],
   "source": [
    "class demo:\n",
    "    a=10\n",
    "    b=20\n",
    "\n",
    "obj=demo()\n",
    "x=isinstance(obj,demo)\n",
    "print(x)\n"
   ]
  },
  {
   "cell_type": "code",
   "execution_count": 15,
   "id": "4f503591",
   "metadata": {},
   "outputs": [
    {
     "name": "stdout",
     "output_type": "stream",
     "text": [
      "10\n"
     ]
    }
   ],
   "source": [
    "class demo:\n",
    "    a=10\n",
    "    b=20\n",
    "\n",
    "obj=demo()\n",
    "\n",
    "getattr(demo,'a')\n",
    "\n",
    "print(obj.a)"
   ]
  },
  {
   "cell_type": "code",
   "execution_count": 27,
   "id": "ea371caa",
   "metadata": {},
   "outputs": [
    {
     "name": "stdout",
     "output_type": "stream",
     "text": [
      "50000\n",
      "52500\n"
     ]
    }
   ],
   "source": [
    "class Employee:\n",
    "    raise_amount=1.04\n",
    " \n",
    "    def __init__(self,first,last,pay):\n",
    "        self.first=first\n",
    "        self.last=last\n",
    "        self.pay=pay\n",
    "        self.email=first + \".\"+ last + \"@company.com\"\n",
    " \n",
    "    def fullname(self):\n",
    "        return '{}{}.format(self.first,self.last)'\n",
    "    def apply_raise(self):\n",
    "        self.pay=int(self.pay * self.raise_amount)\n",
    " \n",
    "emp_1= Employee('Corey','Schafer',50000)\n",
    "emp_2= Employee('Test','User',60000)\n",
    " \n",
    "print(emp_1.pay)\n",
    "Employee.raise_amount=1.05\n",
    "emp_1.apply_raise()\n",
    "\n",
    "print(emp_1.pay)\n",
    " "
   ]
  },
  {
   "cell_type": "code",
   "execution_count": null,
   "id": "0ce4f07d",
   "metadata": {},
   "outputs": [
    {
     "name": "stdout",
     "output_type": "stream",
     "text": [
      "1.05\n",
      "1.05\n"
     ]
    }
   ],
   "source": [
    "class Employee:\n",
    "    raise_amount=1.04\n",
    " \n",
    "    def __init__(self,first,last,pay):\n",
    "        self.first=first\n",
    "        self.last=last\n",
    "        self.pay=pay\n",
    "        self.email=first + \".\"+ last + \"@company.com\"\n",
    " \n",
    "    def fullname(self):\n",
    "        return '{}{}.format(self.first,self.last)'\n",
    "    def apply_raise(self):\n",
    "        self.pay=int(self.pay * self.raise_amount)\n",
    "    @classmethod\n",
    "    def set_raise_amount(cls,amount):\n",
    "        cls.raise_amount=amount\n",
    " \n",
    "emp_1= Employee('Corey','Schafer',50000)\n",
    "emp_2= Employee('Test','User',60000)\n",
    " \n",
    "Employee.set_raise_amount(1.05)\n",
    "\n",
    "Employee.raise_amount=1.05\n",
    "emp_1.apply_raise()\n",
    "print(emp_1.raise_amount)\n",
    "print(emp_2.raise_amount)\n",
    "\n",
    " "
   ]
  },
  {
   "cell_type": "code",
   "execution_count": 31,
   "id": "18d1a6da",
   "metadata": {},
   "outputs": [
    {
     "name": "stdout",
     "output_type": "stream",
     "text": [
      "base\n",
      "derived\n"
     ]
    }
   ],
   "source": [
    "class base:\n",
    "    a_name=\"base\"\n",
    "\n",
    "class derived(base):\n",
    "    b_name=\"derived\"\n",
    "obj=derived()\n",
    "print(obj.a_name)\n",
    "print(obj.b_name)\n"
   ]
  },
  {
   "cell_type": "code",
   "execution_count": 33,
   "id": "474e32a7",
   "metadata": {},
   "outputs": [
    {
     "name": "stdout",
     "output_type": "stream",
     "text": [
      "animal speaking\n",
      "None\n",
      "mahima barks\n",
      "None\n"
     ]
    }
   ],
   "source": [
    "class animal:\n",
    "    def speak(self):\n",
    "        print(\"animal speaking\")\n",
    "    \n",
    "class dog(animal):\n",
    "    def dog(self):\n",
    "        print(\"mahima barks\")\n",
    "obj=dog()\n",
    "print(obj.speak())\n",
    "print(obj.dog())"
   ]
  },
  {
   "cell_type": "code",
   "execution_count": 35,
   "id": "972ae417",
   "metadata": {},
   "outputs": [
    {
     "name": "stdout",
     "output_type": "stream",
     "text": [
      "hi, i am james\n"
     ]
    }
   ],
   "source": [
    "class robot:\n",
    "    def __init__(self,name='ram'):\n",
    "        self.name=name\n",
    "    def say_hi(self):\n",
    "        print(\"hi, i am \"+self.name)\n",
    "\n",
    "class phi(robot):\n",
    "    pass\n",
    "\n",
    "y=phi(\"james\")\n",
    "y.say_hi()\n",
    "\n",
    "\n",
    "\n"
   ]
  },
  {
   "cell_type": "code",
   "execution_count": null,
   "id": "a5205397",
   "metadata": {},
   "outputs": [
    {
     "name": "stdout",
     "output_type": "stream",
     "text": [
      "xyz\n"
     ]
    }
   ],
   "source": [
    "# multilevel inheritence\n",
    "\n",
    "class gfather:\n",
    "    g_name=\"abc\"\n",
    "\n",
    "class father(gfather):\n",
    "    f_name=\"xyz\"\n",
    "\n",
    "class son(father):\n",
    "    son='son'\n",
    "    s_name='ram'\n",
    "\n",
    "obj=father()\n",
    "print(obj.f_name)"
   ]
  },
  {
   "cell_type": "code",
   "execution_count": null,
   "id": "c13108c0",
   "metadata": {},
   "outputs": [
    {
     "name": "stdout",
     "output_type": "stream",
     "text": [
      "xyz\n"
     ]
    }
   ],
   "source": [
    "# multipe inhertence\n",
    "class father:\n",
    "    f_name=\"xyz\"\n",
    "\n",
    "class mother:\n",
    "  \n",
    "    m_name='ram'\n",
    "\n",
    "class son(father,mother):\n",
    "    son=\"son\"\n",
    "\n",
    "obj=son()\n",
    "print(obj.f_name)\n"
   ]
  },
  {
   "cell_type": "code",
   "execution_count": 49,
   "id": "f875807f",
   "metadata": {},
   "outputs": [
    {
     "name": "stdout",
     "output_type": "stream",
     "text": [
      "my car\n",
      "specific use: comute to work vacatipon with family\n"
     ]
    }
   ],
   "source": [
    "class vechile:\n",
    "    def gen_usg():\n",
    "        print(\"general use : tramsport\")\n",
    "\n",
    "class car(vechile):\n",
    "    def __init__(self):\n",
    "        print(\"my car\")\n",
    "        self.wheel=4\n",
    "        self.has_roof=True\n",
    "    def specific(self):\n",
    "        print(\"specific use: comute to work vacatipon with family\")\n",
    "class motarcyle(vechile):\n",
    "    def __init__(self):\n",
    "        print(\"ui ,m motar cycle\")\n",
    "\n",
    "        self.wheel=2\n",
    "        self.has_roof=False\n",
    "\n",
    "    def specific(self):\n",
    "        print(\"specific use :road trip racing\")\n",
    "\n",
    "c=car()\n",
    "# c.gen()\n",
    "c.specific()"
   ]
  },
  {
   "cell_type": "code",
   "execution_count": null,
   "id": "90bf07df",
   "metadata": {},
   "outputs": [],
   "source": [
    "def a():\n",
    "    print(\"hello\")\n",
    "def b():\n",
    "    print(\"hello\")"
   ]
  },
  {
   "cell_type": "code",
   "execution_count": 52,
   "id": "6e9a53c2",
   "metadata": {},
   "outputs": [
    {
     "name": "stdout",
     "output_type": "stream",
     "text": [
      "from demo\n",
      "from demo 1\n"
     ]
    }
   ],
   "source": [
    "class demo():\n",
    "    def __init__(self):\n",
    "        print(\"from demo\")\n",
    "class demo1(demo):\n",
    "    def __init__(self):\n",
    "        super().__init__()\n",
    "        print(\"from demo 1\")\n",
    "d=demo1()"
   ]
  },
  {
   "cell_type": "code",
   "execution_count": 53,
   "id": "af25db3d",
   "metadata": {},
   "outputs": [
    {
     "name": "stdout",
     "output_type": "stream",
     "text": [
      "animal_init__\n",
      "dog __init__\n",
      "roatwiller\n",
      "<class '__main__.dog'>\n"
     ]
    }
   ],
   "source": [
    "class animal:\n",
    "    def __init__(self,species):\n",
    "        self.species=species\n",
    "        print(\"animal_init__\")\n",
    "class dog(animal):\n",
    "    def __init__(self, breed):\n",
    "        super().__init__(dog)\n",
    "        self.breed=breed\n",
    "        print(\"dog __init__\")\n",
    "\n",
    "my_dog=dog(\"roatwiller\")\n",
    "print(my_dog.breed)\n",
    "print(my_dog.species)\n"
   ]
  },
  {
   "cell_type": "code",
   "execution_count": 55,
   "id": "fe30fb22",
   "metadata": {},
   "outputs": [
    {
     "name": "stdout",
     "output_type": "stream",
     "text": [
      "animal_init__\n",
      "dog __init__\n",
      "roatwiller\n",
      "dog\n"
     ]
    }
   ],
   "source": [
    "class animal:\n",
    "    def __init__(self,species):\n",
    "        self.species=species\n",
    "        print(\"animal_init__\")\n",
    "class dog(animal):\n",
    "    def __init__(self, breed,spec):\n",
    "        self.spec=spec\n",
    "        super().__init__(spec)\n",
    "        self.breed=breed\n",
    "        print(\"dog __init__\")\n",
    "\n",
    "my_dog=dog(\"roatwiller\",\"dog\")\n",
    "print(my_dog.breed)\n",
    "print(my_dog.species)\n"
   ]
  },
  {
   "cell_type": "code",
   "execution_count": null,
   "id": "2f8cf258",
   "metadata": {},
   "outputs": [],
   "source": [
    "class person:\n",
    "    def __init__(self):\n",
    "        pass"
   ]
  },
  {
   "cell_type": "code",
   "execution_count": 62,
   "id": "184f63a3",
   "metadata": {},
   "outputs": [
    {
     "name": "stdout",
     "output_type": "stream",
     "text": [
      "True\n",
      "True\n"
     ]
    }
   ],
   "source": [
    "class cal():\n",
    "    def summation(self,a,b):\n",
    "        return a+b\n",
    "    \n",
    "class cal1():\n",
    "     def mul(self,a,b):\n",
    "        return a*b\n",
    "class derived(cal,cal1):\n",
    "    def dev(self,a,b):\n",
    "        return a/b\n",
    "\n",
    "d=derived()\n",
    "print(issubclass(derived,cal))\n",
    "print(issubclass(derived,cal1))\n",
    "\n"
   ]
  },
  {
   "cell_type": "code",
   "execution_count": null,
   "id": "336ba3cc",
   "metadata": {},
   "outputs": [],
   "source": [
    "class A:\n",
    "    def __init__(self):\n",
    "        print('Initaliziing A')\n",
    " \n",
    "class B(A):\n",
    "    def __init__(self):\n",
    "        super().__init__()\n",
    "        print('Initializing B')\n",
    " \n",
    "class C(A):\n",
    "    def __init__(self):\n",
    "        super().__init__()\n",
    "        print(\"Initializing C\")\n",
    " \n",
    "class D(B, C):\n",
    "    def __init__(self):\n",
    "        super().__init__()\n",
    "        print(\"Initializing D\")\n",
    " \n",
    "d=D()\n"
   ]
  },
  {
   "cell_type": "code",
   "execution_count": 67,
   "id": "dc16f720",
   "metadata": {},
   "outputs": [
    {
     "name": "stdout",
     "output_type": "stream",
     "text": [
      "50\n",
      "200\n",
      "20\n"
     ]
    }
   ],
   "source": [
    "# overloading\n",
    "def sum(a=None,b=None,c=None):\n",
    "    if a!=None and b!=None and c!=None:\n",
    "        c=a+b+c\n",
    "    elif a!=None and b!=None:\n",
    "        c=a*b\n",
    "    else:c=a\n",
    "    print(c)\n",
    "\n",
    "a=int(input(\"a=\"))\n",
    "sum(a,10,20)\n",
    "sum(10,20)\n",
    "sum(20)"
   ]
  },
  {
   "cell_type": "code",
   "execution_count": null,
   "id": "84192834",
   "metadata": {},
   "outputs": [],
   "source": []
  },
  {
   "cell_type": "code",
   "execution_count": null,
   "id": "391d153d",
   "metadata": {},
   "outputs": [
    {
     "name": "stdout",
     "output_type": "stream",
     "text": [
      " assafdsf\n"
     ]
    }
   ],
   "source": [
    "def add(datatype,*args):\n",
    "    if datatype=='int':\n",
    "        ans=' '\n",
    "\n",
    "    if datatype=='str':\n",
    "        ans=' '\n",
    "\n",
    "    for x in args:\n",
    "        ans+=x\n",
    "    print(ans)\n",
    "\n",
    "add('int',5,6)\n",
    "\n",
    "add('str','as','safdsf')"
   ]
  },
  {
   "cell_type": "code",
   "execution_count": 79,
   "id": "d488cce5",
   "metadata": {},
   "outputs": [
    {
     "name": "stdout",
     "output_type": "stream",
     "text": [
      "4\n"
     ]
    }
   ],
   "source": [
    "from multipledispatch import dispatch\n",
    "\n",
    "@dispatch(int,int)\n",
    "def product(first,sercond):\n",
    "    result=first*sercond\n",
    "    print(result)\n",
    "\n",
    "@dispatch(int,int,float)\n",
    "def prod(first,second,third):\n",
    "    resut = first+second+third\n",
    "    print(resut)\n",
    "\n",
    "@dispatch(float,int,int)\n",
    "def prodi(first,second,third):\n",
    "    resut = first*second*third\n",
    "    print(resut)\n",
    "\n",
    "product(2,2)\n",
    "\n",
    "\n"
   ]
  },
  {
   "cell_type": "code",
   "execution_count": null,
   "id": "5c3c0a71",
   "metadata": {},
   "outputs": [],
   "source": [
    "#  py program showing\n",
    "# abstrasct bae class work\n",
    "\n",
    "from abc import ABC,abstractmethod\n",
    "class polygon(ABC):\n",
    "    @abstractmethod\n",
    "    def noofside(self):\n",
    "        pass\n",
    "class triangle(polygon):\n",
    "\n",
    "    def nonfside(self):\n",
    "        print(\"i have 3 side\")\n",
    "\n",
    "\n"
   ]
  },
  {
   "cell_type": "code",
   "execution_count": 5,
   "id": "a4e3a5e3",
   "metadata": {},
   "outputs": [
    {
     "name": "stdout",
     "output_type": "stream",
     "text": [
      " name : vishal \n",
      " roll No : 12\n",
      " marks : 34\n",
      " name : abc \n",
      " roll No : 32\n",
      " marks : 54\n"
     ]
    }
   ],
   "source": [
    "# task 1-->\n",
    "class student:\n",
    "    def __init__(self,name,rollNo,marks):\n",
    "        self.name=name\n",
    "        self.rollNo=rollNo\n",
    "        self.marks=marks\n",
    "    def detail(self):\n",
    "        print(f' name : {self.name}')\n",
    "        print(f' roll No : {self.rollNo}')\n",
    "        print(f' marks : {self.marks}')\n",
    "\n",
    "\n",
    "st1=student(\"vishal \",12,34)\n",
    "st2=student(\"abc \",32,54)\n",
    "\n",
    "st1.detail()\n",
    "st2.detail()\n",
    "\n"
   ]
  },
  {
   "cell_type": "code",
   "execution_count": 8,
   "id": "2a35be8f",
   "metadata": {},
   "outputs": [
    {
     "data": {
      "text/plain": [
       "'A'"
      ]
     },
     "execution_count": 8,
     "metadata": {},
     "output_type": "execute_result"
    }
   ],
   "source": [
    "# task-->2\n",
    "class stu:\n",
    "    def __init__(self,marks):\n",
    "        self.marks=marks\n",
    "    def avg(self):\n",
    "        if self.marks>=90:\n",
    "            return \"A\"\n",
    "        elif self.marks>=80:\n",
    "            return \"B\"\n",
    "        else:\n",
    "            return \"C\"\n",
    "    \n",
    "st1=stu(94)    \n",
    "st1.avg()"
   ]
  },
  {
   "cell_type": "code",
   "execution_count": null,
   "id": "c63040b9",
   "metadata": {},
   "outputs": [
    {
     "name": "stdout",
     "output_type": "stream",
     "text": [
      "Initial brand: default brand\n",
      "Laptop1 brand: default brand, price: 40000\n",
      "change brand brand: accer\n",
      "Laptop1 brand: accer, price: 40000\n"
     ]
    }
   ],
   "source": [
    "class laptop:\n",
    "    brand=\"default brand\"\n",
    "\n",
    "    def __init__(self,price):\n",
    "        self.price=price\n",
    "    @classmethod\n",
    "    def change(cls,nb):\n",
    "        cls.brand=nb\n",
    "    \n",
    "lap1=laptop(40000)\n",
    "\n",
    "print(f\"Initial brand: {lap1.brand}\")\n",
    "print(f\"Laptop1 brand: {lap1.brand}, price: {lap1.price}\")\n",
    "lap1.change(\"accer\")\n",
    "\n",
    "print(f\"change  brand: {lap1.brand}\")\n",
    "print(f\"Laptop1 brand: {lap1.brand}, price: {lap1.price}\")\n"
   ]
  },
  {
   "cell_type": "code",
   "execution_count": null,
   "id": "6d8aaa58",
   "metadata": {},
   "outputs": [
    {
     "name": "stdout",
     "output_type": "stream",
     "text": [
      "10\n"
     ]
    }
   ],
   "source": [
    "# task 5-->\n",
    "class st:\n",
    "    @staticmethod\n",
    "    def add(a,b):\n",
    "        return a+b\n",
    "    \n",
    "res=st.add(4,6)\n",
    "print(res)"
   ]
  },
  {
   "cell_type": "code",
   "execution_count": null,
   "id": "73bd330f",
   "metadata": {},
   "outputs": [],
   "source": []
  },
  {
   "cell_type": "code",
   "execution_count": 30,
   "id": "bce09593",
   "metadata": {},
   "outputs": [
    {
     "name": "stdout",
     "output_type": "stream",
     "text": [
      "Vehicle started\n",
      "Car is driving\n"
     ]
    }
   ],
   "source": [
    "#  inhertance\n",
    "#  task --1>\n",
    "\n",
    "class Vehicle:\n",
    "    def start(self):\n",
    "        print(\"Vehicle started\")\n",
    "\n",
    "class Car(Vehicle):\n",
    "    def drive(self):\n",
    "        print(\"Car is driving\")\n",
    "s=Car()\n",
    "s.start()\n",
    "s.drive()\n",
    "\n",
    "\n",
    "    "
   ]
  },
  {
   "cell_type": "code",
   "execution_count": null,
   "id": "11f6696d",
   "metadata": {},
   "outputs": [],
   "source": [
    "#  task --2>\n",
    "class person:\n",
    "    def __init__(self):\n",
    "        se;"
   ]
  }
 ],
 "metadata": {
  "kernelspec": {
   "display_name": "Python 3",
   "language": "python",
   "name": "python3"
  },
  "language_info": {
   "codemirror_mode": {
    "name": "ipython",
    "version": 3
   },
   "file_extension": ".py",
   "mimetype": "text/x-python",
   "name": "python",
   "nbconvert_exporter": "python",
   "pygments_lexer": "ipython3",
   "version": "3.12.3"
  }
 },
 "nbformat": 4,
 "nbformat_minor": 5
}
