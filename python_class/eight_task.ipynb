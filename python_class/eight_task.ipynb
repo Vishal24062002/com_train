{
 "cells": [
  {
   "cell_type": "code",
   "execution_count": null,
   "id": "ad751c19",
   "metadata": {},
   "outputs": [
    {
     "name": "stdout",
     "output_type": "stream",
     "text": [
      "error division by zero\n"
     ]
    }
   ],
   "source": [
    "#  task-->1 \n",
    " #  Divide Two Numbers\n",
    "#  - Input two numbers.\n",
    "#  - Handle ZeroDivisionError and ValueError.\n",
    "\n",
    "a=int(input())\n",
    "b=int(input())\n",
    "try:\n",
    "    res=a/b\n",
    "except ZeroDivisionError as e:\n",
    "    print(\"error\",e)\n",
    "else:\n",
    "    print(res)\n",
    "\n",
    "    "
   ]
  },
  {
   "cell_type": "code",
   "execution_count": 12,
   "id": "4d1c9b4f",
   "metadata": {},
   "outputs": [
    {
     "name": "stdout",
     "output_type": "stream",
     "text": [
      "error [Errno 2] No such file or directory: 'abc.txt'\n"
     ]
    }
   ],
   "source": [
    "# task --2>\n",
    "# 2. File Reader\n",
    "#  - Try opening a file.\n",
    "#  - Handle FileNotFoundError and PermissionError.\n",
    "\n",
    "try:\n",
    "    f=open('abc.txt')\n",
    "except (FileNotFoundError , PermissionError) as e:\n",
    "    print(\"error\",e)\n"
   ]
  },
  {
   "cell_type": "code",
   "execution_count": null,
   "id": "c2d7d8ef",
   "metadata": {},
   "outputs": [
    {
     "name": "stdout",
     "output_type": "stream",
     "text": [
      "error: outnof range\n"
     ]
    }
   ],
   "source": [
    "# task -->3\n",
    "#  List Index Access\n",
    "#  - Access a list index given by the user.\n",
    "#  - Handle IndexError and ValueError.\n",
    "\n",
    "try:\n",
    "    l=[1,2,3,4,5,6]\n",
    "    print(l[6])\n",
    "except IndexError:\n",
    "    print(\"error: out of range\")"
   ]
  },
  {
   "cell_type": "code",
   "execution_count": 16,
   "id": "7e28f159",
   "metadata": {},
   "outputs": [
    {
     "name": "stdout",
     "output_type": "stream",
     "text": [
      "error not convert string into int\n"
     ]
    }
   ],
   "source": [
    "# task ->>4\n",
    "# String to Integer Conversion\n",
    "#  - Convert a user-given string to an integer.\n",
    "#  - Handle ValueError.\n",
    "\n",
    "try:\n",
    "    print(int(\"hello\"))\n",
    "except ValueError:\n",
    "    print(\"error not convert string into int\")"
   ]
  },
  {
   "cell_type": "code",
   "execution_count": null,
   "id": "54d42eec",
   "metadata": {},
   "outputs": [
    {
     "name": "stdout",
     "output_type": "stream",
     "text": [
      "The file 'demo.txt already exists.\n"
     ]
    }
   ],
   "source": [
    "# task -->5. Open a Nonexistent File\n",
    "#  - Read a file that may or may not exist.\n",
    "#  - Handle FileNotFoundError.\n",
    "\n",
    "\n",
    "\n",
    "try:\n",
    "    with open('demo.txt', 'x') as file:  \n",
    "        file.write('Hello, World!')\n",
    "except FileExistsError:\n",
    "    print(f\"The file '{'demo.txt'} already exists.\")\n",
    "\n",
    "    "
   ]
  },
  {
   "cell_type": "code",
   "execution_count": null,
   "id": "d1bc4bac",
   "metadata": {},
   "outputs": [],
   "source": []
  },
  {
   "cell_type": "markdown",
   "id": "dc6fe081",
   "metadata": {},
   "source": [
    "# intermidate "
   ]
  },
  {
   "cell_type": "markdown",
   "id": "9fe1aa3e",
   "metadata": {},
   "source": []
  },
  {
   "cell_type": "code",
   "execution_count": null,
   "id": "c143d27e",
   "metadata": {},
   "outputs": [],
   "source": [
    "# # task -->6\n",
    "# 6. Nested Try-Except\n",
    "#  - Perform multiple operations (file, division, list access).\n",
    "#  - Use nested try-except.\n",
    "\n",
    "\n",
    "\n"
   ]
  }
 ],
 "metadata": {
  "kernelspec": {
   "display_name": "Python 3",
   "language": "python",
   "name": "python3"
  },
  "language_info": {
   "codemirror_mode": {
    "name": "ipython",
    "version": 3
   },
   "file_extension": ".py",
   "mimetype": "text/x-python",
   "name": "python",
   "nbconvert_exporter": "python",
   "pygments_lexer": "ipython3",
   "version": "3.12.3"
  }
 },
 "nbformat": 4,
 "nbformat_minor": 5
}
