{
 "cells": [
  {
   "cell_type": "code",
   "execution_count": null,
   "metadata": {},
   "outputs": [],
   "source": [
    "#array\n",
    "#data structure\n",
    "#list->[]\n",
    "#tuple->()\n",
    "#dict->{key-value -pair}\n",
    "#set-{}\n",
    "\n",
    "\n"
   ]
  },
  {
   "cell_type": "code",
   "execution_count": 7,
   "metadata": {},
   "outputs": [
    {
     "name": "stdout",
     "output_type": "stream",
     "text": [
      "[1, 2, 'abc', 4, 5]\n",
      "[1, 2, 'vishal', 4, 5]\n"
     ]
    }
   ],
   "source": [
    "#list\n",
    "a=[1,2,'abc',4,5]\n",
    "print(a)\n",
    "\n",
    "a[2]='vishal'\n",
    "print(a)\n"
   ]
  },
  {
   "cell_type": "code",
   "execution_count": 17,
   "metadata": {},
   "outputs": [
    {
     "name": "stdout",
     "output_type": "stream",
     "text": [
      "1\n"
     ]
    }
   ],
   "source": [
    "#slicing\n",
    "b=[1,2,3,4,5,6,7]\n",
    "b[2:4]\n",
    "b[-1]# last index   neagtive index\n",
    "b[::-1] # reverse\n",
    "len(b)\n",
    "print(b.count(2))\n"
   ]
  },
  {
   "cell_type": "code",
   "execution_count": 24,
   "metadata": {},
   "outputs": [
    {
     "name": "stdout",
     "output_type": "stream",
     "text": [
      "6\n",
      "guindy\n"
     ]
    }
   ],
   "source": [
    "city=['chennai-guindy' ,'mumbai','delhi']\n",
    "city[0][8:]# taking the index of elemnt till last double indexing\n",
    "print(len(city[1]))\n",
    "area=city[0][8:]\n",
    "print(area)"
   ]
  },
  {
   "cell_type": "code",
   "execution_count": 28,
   "metadata": {},
   "outputs": [
    {
     "data": {
      "text/plain": [
       "999"
      ]
     },
     "execution_count": 28,
     "metadata": {},
     "output_type": "execute_result"
    }
   ],
   "source": [
    "li=[[1,2],['abc','xyz',[999,998]]]\n",
    "li[1][2][0]"
   ]
  },
  {
   "cell_type": "code",
   "execution_count": 40,
   "metadata": {},
   "outputs": [
    {
     "name": "stdout",
     "output_type": "stream",
     "text": [
      "[1, 2, 34, 3, 4, 8, 9]\n"
     ]
    },
    {
     "data": {
      "text/plain": [
       "[9, 4, 34, 1]"
      ]
     },
     "execution_count": 40,
     "metadata": {},
     "output_type": "execute_result"
    }
   ],
   "source": [
    "c=[1,2,3,4,5]\n",
    "c.append(7)#last main add hoga\n",
    "c.insert(2,34)\n",
    "s=c.index(5)\n",
    "c.remove(5)\n",
    "c.pop()\n",
    "#c.clear()\n",
    "c.extend([8,9])# it extends the list without making nested list\n",
    "print(c)\n",
    "c[::-2]#revrse and skiping"
   ]
  },
  {
   "cell_type": "code",
   "execution_count": 43,
   "metadata": {},
   "outputs": [
    {
     "name": "stdout",
     "output_type": "stream",
     "text": [
      "[2, 3, 5, 7, 11, 13, 17, 19, 23, 29, 31, 37, 41, 43, 47]\n"
     ]
    }
   ],
   "source": [
    "e=[]\n",
    "for i in range(1,50):\n",
    "    if i>1:\n",
    "        for j in range(2,i):\n",
    "            if(i%j==0):\n",
    "                break\n",
    "        else:\n",
    "            e.append(i)\n",
    "print(e)"
   ]
  },
  {
   "cell_type": "code",
   "execution_count": 44,
   "metadata": {},
   "outputs": [
    {
     "name": "stdout",
     "output_type": "stream",
     "text": [
      "['vishal', 'kumar', 'start']\n"
     ]
    }
   ],
   "source": [
    "# print the list element which element have more than  3 length\n",
    "aq=['vishal','kumar','start','ab','ram']\n",
    "ae=[]\n",
    "for i in aq:\n",
    "    if len(i)>3:\n",
    "        ae.append(i)\n",
    "print(ae)\n",
    "\n"
   ]
  },
  {
   "cell_type": "code",
   "execution_count": null,
   "metadata": {},
   "outputs": [],
   "source": [
    "# max,min,sum,mean,mod;  \n",
    "a=[1,2,32,4,5,6]\n"
   ]
  },
  {
   "cell_type": "code",
   "execution_count": null,
   "metadata": {},
   "outputs": [
    {
     "name": "stdout",
     "output_type": "stream",
     "text": [
      "vishal: principal = 10000,rate=11,time = 2 years Si =2200.0 \n",
      "mahima: principal = 50000,rate=12,time = 5 years Si =30000.0 \n",
      "seenu: principal = 20000,rate=12,time = 7 years Si =16800.0 \n",
      "prince: principal = 600000,rate=11,time = 4 years Si =264000.0 \n"
     ]
    }
   ],
   "source": [
    "name=['vishal','mahima','seenu','prince']\n",
    "principal=[10000,50000,20000,600000]\n",
    "time=[2,5,7,4]\n",
    "rate=[11,12,12,11]\n",
    "\n",
    "for n,p,r,t in zip(name,principal,rate,time):\n",
    "    si=(p*r*t)/100\n",
    "    print(f'{n}: principal = {p},rate={r},time = {t} years Si ={si} ')\n",
    "\n",
    "\n",
    "\n",
    "\n",
    "l"
   ]
  },
  {
   "cell_type": "code",
   "execution_count": null,
   "metadata": {},
   "outputs": [],
   "source": [
    "nums=[2,7,11,15]\n",
    "n=len(nums)\n",
    "ax=[]\n",
    "target=9\n",
    "for i in range(n-1):\n",
    "    for j in range(i+1 ,n):\n",
    "        if nums[i]+nums[j]==target:\n",
    "            \n",
    "\n"
   ]
  },
  {
   "cell_type": "code",
   "execution_count": 55,
   "metadata": {},
   "outputs": [
    {
     "name": "stdout",
     "output_type": "stream",
     "text": [
      "[3, 4]\n",
      "[3, 4, 5, 6]\n"
     ]
    }
   ],
   "source": [
    "#copy method\n",
    "a=[3,4]\n",
    "b=a.copy()\n",
    "b+=[5,6]\n",
    "print(a)\n",
    "print(b)"
   ]
  },
  {
   "cell_type": "code",
   "execution_count": null,
   "metadata": {},
   "outputs": [
    {
     "name": "stdout",
     "output_type": "stream",
     "text": [
      "[3, 4, [999, 998, 1000]]\n",
      "[3, 4, [999, 998, 1000]]\n"
     ]
    }
   ],
   "source": [
    "a=[3,4,[999,998]]\n",
    "b=a.copy()#-->shallow copy\n",
    "b[2].append(1000)\n",
    "print(b)\n",
    "print(a)"
   ]
  },
  {
   "cell_type": "code",
   "execution_count": null,
   "metadata": {},
   "outputs": [
    {
     "name": "stdout",
     "output_type": "stream",
     "text": [
      "[3, 4, [999, 998, 1000]]\n",
      "[3, 4, [999, 998]]\n"
     ]
    }
   ],
   "source": [
    "import copy\n",
    "#-->deep copy\n",
    "a=[3,4,[999,998]]\n",
    "b=copy.deepcopy(a)\n",
    "b[2].append(1000)\n",
    "print(b)\n",
    "print(a)"
   ]
  },
  {
   "cell_type": "code",
   "execution_count": 62,
   "metadata": {},
   "outputs": [
    {
     "name": "stdout",
     "output_type": "stream",
     "text": [
      "{'name': 'abc', 'class': 12, 'height': 5.11}\n"
     ]
    },
    {
     "data": {
      "text/plain": [
       "'abc'"
      ]
     },
     "execution_count": 62,
     "metadata": {},
     "output_type": "execute_result"
    }
   ],
   "source": [
    "d={\n",
    "    'name':'abc',\n",
    "    'class':12,\n",
    "    'height':5.11,\n",
    "\n",
    "}\n",
    "print(d)\n",
    "d.get('name')\n"
   ]
  },
  {
   "cell_type": "code",
   "execution_count": 69,
   "metadata": {},
   "outputs": [
    {
     "name": "stdout",
     "output_type": "stream",
     "text": [
      "{'name': 'vishal', 'class': '12'}\n"
     ]
    }
   ],
   "source": [
    "a={}\n",
    "n=int(input(\"enter the key value pair\"))\n",
    "for i in range(n):\n",
    "    key=input(\"enter the key\")\n",
    "    value=input(\"enter the value\")\n",
    "    a[key]=value\n",
    "print(a)\n"
   ]
  },
  {
   "cell_type": "code",
   "execution_count": 67,
   "metadata": {},
   "outputs": [
    {
     "name": "stdout",
     "output_type": "stream",
     "text": [
      "['1', '2', '3', '4', '5']\n"
     ]
    }
   ],
   "source": [
    "a=[]\n",
    "n=int(input(\"enter the length of list\"))\n",
    "for i in range(0,n):\n",
    "   b=input(\"enter the elemet\")\n",
    "   a.append(b)\n",
    "print(a)\n"
   ]
  },
  {
   "cell_type": "code",
   "execution_count": 68,
   "metadata": {},
   "outputs": [
    {
     "name": "stdout",
     "output_type": "stream",
     "text": [
      "('1', '2', '3', '4', '5')\n"
     ]
    }
   ],
   "source": [
    "a=[]\n",
    "n=int(input(\"enter the length of list\"))\n",
    "for i in range(0,n):\n",
    "   b=input(\"enter the elemet\")\n",
    "   a.append(b)\n",
    "c=tuple(a)\n",
    "print(c)\n"
   ]
  },
  {
   "cell_type": "code",
   "execution_count": null,
   "metadata": {},
   "outputs": [
    {
     "name": "stdout",
     "output_type": "stream",
     "text": [
      "[('name', 'vishal'), ('class', 12), ('add', 12)]\n",
      "{}\n"
     ]
    }
   ],
   "source": [
    "a=['name','class','add']\n",
    "b=['vishal', 12,12]\n",
    "c=zip(a,b)\n",
    "#print(list(c))\n",
    "print(dict(c))\n"
   ]
  },
  {
   "cell_type": "code",
   "execution_count": 95,
   "metadata": {},
   "outputs": [
    {
     "name": "stdout",
     "output_type": "stream",
     "text": [
      "dict_keys(['name', 'class', 'height'])\n",
      "dict_items([('name', 'abc'), ('class', 12), ('height', 5.11)])\n",
      "('height', 5.11)\n",
      "{'name': 'abc', 'class': 12}\n"
     ]
    }
   ],
   "source": [
    "d={\n",
    "    'name':'abc',\n",
    "    'class':12,\n",
    "    'height':5.11,\n",
    "\n",
    "}\n",
    "print(d.keys())\n",
    "print(d.items())\n",
    "print(d.popitem())\n",
    "print(d)\n"
   ]
  },
  {
   "cell_type": "code",
   "execution_count": 89,
   "metadata": {},
   "outputs": [
    {
     "name": "stdout",
     "output_type": "stream",
     "text": [
      "{'name': 4, 'class': 5, 'add': 3, 'gender': 6, 'height': 6}\n"
     ]
    }
   ],
   "source": [
    "a=['name','class','add','gender','height']\n",
    "b={a:len(a) for a in a}\n",
    "print(b)"
   ]
  },
  {
   "cell_type": "code",
   "execution_count": 94,
   "metadata": {},
   "outputs": [
    {
     "name": "stdout",
     "output_type": "stream",
     "text": [
      "{'is': 4, 'Wozniak': 2, 'Wayne,': 1, 'following': 1, 'fiscal': 1, 'Silicon': 1, 'Cupertino,': 1, 'consumer': 2, 'Steve': 2, 'services': 1, 'billion': 1, 'incorporated': 1, 'Jobs,': 1, 'the': 5, 'best': 1, 'in': 9, 'for': 2, 'Computer,': 1, 'year.': 1, 'had': 1, 'was': 2, 'with': 1, 'electronics,': 1, 'multinational': 1, 'by': 3, 'from': 1, '1976': 1, 'Inc.': 3, 'an': 12, 'headquartered': 1, 'and': 5, 'Computer': 2, 'revenue,': 1, 'corporation': 1, 'technology': 2, 'to': 1, 'renamed': 1, '2024': 1, 'American': 1, 'known': 1, 'California,': 1, 'computers': 1, 'as': 5, 'its': 2, 'electronics.': 1, 'company': 4, 'Jobs': 2, 'largest': 1, 'software,': 1, 'expanded': 1, 'US$391.04': 1, 'Founded': 1, 'Company': 1, 'It': 2, 'Ronald': 1, 'year': 2, 'focus': 1, '2007': 1, 'Valley.': 1, '.': 8, 'Apple': 5}\n"
     ]
    }
   ],
   "source": [
    "a=\"Apple Inc. is an American multinational corporation and technology company headquartered in Cupertino, California, in Silicon Valley. It is best known for its consumer electronics, software, and services . Founded in 1976 as Apple Computer Company by Steve Jobs, Steve Wozniak and Ronald Wayne, the company was incorporated by Jobs and Wozniak as Apple Computer, Inc. the following year. It was renamed Apple Inc. in 2007 as the company had expanded its focus from computers to consumer electronics. Apple is the largest technology company by revenue, with US$391.04 billion in the 2024 fiscal year\"\n",
    "b=set(map(str,a.split(\" \")))\n",
    "c={}\n",
    "for i in b:\n",
    "    c[i]=a.count(i)\n",
    "\n",
    "print(c)"
   ]
  },
  {
   "cell_type": "code",
   "execution_count": 98,
   "metadata": {},
   "outputs": [
    {
     "name": "stdout",
     "output_type": "stream",
     "text": [
      "{'b': 15, 'c': 45}\n"
     ]
    }
   ],
   "source": [
    "d={'a':5,\n",
    "   'b':15,\n",
    "   'c':45,\n",
    "   'd':6}\n",
    "\n",
    "d2={key: value for key,value in d.items()  if value>10}\n",
    "print(d2)\n"
   ]
  },
  {
   "cell_type": "code",
   "execution_count": null,
   "metadata": {},
   "outputs": [
    {
     "name": "stdout",
     "output_type": "stream",
     "text": [
      "{1, 2, 3, 4, 5, 6, 7, 8}\n",
      "{1, 2, 3}\n",
      "{4, 5}\n",
      "{8, 6, 7}\n",
      "{4, 5, 6, 7, 8}\n"
     ]
    }
   ],
   "source": [
    "#sets--> do not alows duplicates entries\n",
    "#union of two sets\n",
    "a={1,2,3,4,5}\n",
    "b={1,2,3,6,7,8}\n",
    "print(a|b) # | is a union operator\n",
    "a.union(b)# function of union \n",
    "\n",
    "print(a&b) # & is a in tersection opertor\n",
    "a.intersection(b) # intersection using function\n",
    "\n",
    "# set diffrence\n",
    "print(a-b) \n",
    "print(b-a)\n",
    " # symmetric difrence \n",
    "print(a^b)\n"
   ]
  },
  {
   "cell_type": "code",
   "execution_count": 110,
   "metadata": {},
   "outputs": [
    {
     "data": {
      "text/plain": [
       "True"
      ]
     },
     "execution_count": 110,
     "metadata": {},
     "output_type": "execute_result"
    }
   ],
   "source": [
    "a={1,2,3,4,5}\n",
    "b={1,2}\n",
    "b.issubset(a)\n",
    "a.issuperset(b)"
   ]
  },
  {
   "cell_type": "code",
   "execution_count": 112,
   "metadata": {},
   "outputs": [
    {
     "name": "stdout",
     "output_type": "stream",
     "text": [
      "{1, 2, 3, 4, 5, 7}\n",
      "<class 'set'>\n"
     ]
    }
   ],
   "source": [
    "a={1,2,3,4,5}\n",
    "b=list(a)\n",
    "b.append(7)\n",
    "a=set(b)\n",
    "print(a)\n",
    "print(type(a))"
   ]
  },
  {
   "cell_type": "code",
   "execution_count": 120,
   "metadata": {},
   "outputs": [
    {
     "name": "stdout",
     "output_type": "stream",
     "text": [
      "{1, 2, 3, 4, 5}\n"
     ]
    }
   ],
   "source": [
    "a=[1,2,3,4,5]\n",
    "b=[1,2,3,4,5,6,7,8,9]\n",
    "c=[1,2,3,4,5,8,9,10,11]\n",
    "q=set(a)\n",
    "d=set(b)\n",
    "e=set(c)\n",
    "print(q&d&e)"
   ]
  },
  {
   "cell_type": "code",
   "execution_count": 122,
   "metadata": {},
   "outputs": [
    {
     "name": "stdout",
     "output_type": "stream",
     "text": [
      "{'is', 'Wozniak', 'Wayne,', 'following', 'fiscal', 'Silicon', 'Cupertino,', 'consumer', 'Steve', 'services', 'billion', 'incorporated', 'Jobs,', 'the', 'best', 'in', 'for', 'Computer,', 'year.', 'had', 'was', 'with', 'electronics,', 'multinational', 'by', 'from', '1976', 'Inc.', 'an', 'headquartered', 'and', 'Computer', 'revenue,', 'corporation', 'technology', 'to', 'renamed', '2024', 'American', 'known', 'California,', 'computers', 'as', 'its', 'electronics.', 'company', 'Jobs', 'largest', 'software,', 'expanded', 'US$391.04', 'Founded', 'Company', 'It', 'Ronald', 'year', 'focus', '2007', 'Valley.', '.', 'Apple'}\n"
     ]
    }
   ],
   "source": [
    "a=\"Apple Inc. is an American multinational corporation and technology company headquartered in Cupertino, California, in Silicon Valley. It is best known for its consumer electronics, software, and services . Founded in 1976 as Apple Computer Company by Steve Jobs, Steve Wozniak and Ronald Wayne, the company was incorporated by Jobs and Wozniak as Apple Computer, Inc. the following year. It was renamed Apple Inc. in 2007 as the company had expanded its focus from computers to consumer electronics. Apple is the largest technology company by revenue, with US$391.04 billion in the 2024 fiscal year\"\n",
    "b=set(map(str,a.split(\" \")))\n",
    "print(b)\n"
   ]
  },
  {
   "cell_type": "code",
   "execution_count": 126,
   "metadata": {},
   "outputs": [
    {
     "name": "stdout",
     "output_type": "stream",
     "text": [
      "ppl nc. s n mrcn mltntnl crprtn nd tchnlgy cmpny hdqrtrd n Cprtn, Clfrn, n Slcn Vlly. t s bst knwn fr ts cnsmr lctrncs, sftwr, nd srvcs . Fndd n 1976 s ppl Cmptr Cmpny by Stv Jbs, Stv Wznk nd Rnld Wyn, th cmpny ws ncrprtd by Jbs nd Wznk s ppl Cmptr, nc. th fllwng yr. t ws rnmd ppl nc. n 2007 s th cmpny hd xpndd ts fcs frm cmptrs t cnsmr lctrncs. ppl s th lrgst tchnlgy cmpny by rvn, wth S$391.04 blln n th 2024 fscl yr\n"
     ]
    }
   ],
   "source": [
    "a=\"Apple Inc. is an American multinational corporation and technology company headquartered in Cupertino, California, in Silicon Valley. It is best known for its consumer electronics, software, and services . Founded in 1976 as Apple Computer Company by Steve Jobs, Steve Wozniak and Ronald Wayne, the company was incorporated by Jobs and Wozniak as Apple Computer, Inc. the following year. It was renamed Apple Inc. in 2007 as the company had expanded its focus from computers to consumer electronics. Apple is the largest technology company by revenue, with US$391.04 billion in the 2024 fiscal year\"\n",
    "b={'a','e','i','o','u','A','E','I','O','U'}\n",
    "res=''.join(char for char in a if char not in b)\n",
    "print(res)"
   ]
  },
  {
   "cell_type": "code",
   "execution_count": 128,
   "metadata": {},
   "outputs": [
    {
     "name": "stdout",
     "output_type": "stream",
     "text": [
      "ppl nc. s n mrcn mltntnl crprtn nd tchnlgy cmpny hdqrtrd n Cprtn, Clfrn, n Slcn Vlly. t s bst knwn fr ts cnsmr lctrncs, sftwr, nd srvcs . Fndd n 1976 s ppl Cmptr Cmpny by Stv Jbs, Stv Wznk nd Rnld Wyn, th cmpny ws ncrprtd by Jbs nd Wznk s ppl Cmptr, nc. th fllwng yr. t ws rnmd ppl nc. n 2007 s th cmpny hd xpndd ts fcs frm cmptrs t cnsmr lctrncs. ppl s th lrgst tchnlgy cmpny by rvn, wth S$391.04 blln n th 2024 fscl yr\n"
     ]
    }
   ],
   "source": [
    "a=\"Apple Inc. is an American multinational corporation and technology company headquartered in Cupertino, California, in Silicon Valley. It is best known for its consumer electronics, software, and services . Founded in 1976 as Apple Computer Company by Steve Jobs, Steve Wozniak and Ronald Wayne, the company was incorporated by Jobs and Wozniak as Apple Computer, Inc. the following year. It was renamed Apple Inc. in 2007 as the company had expanded its focus from computers to consumer electronics. Apple is the largest technology company by revenue, with US$391.04 billion in the 2024 fiscal year\"\n",
    "b={'a','e','i','o','u','A','E','I','O','U'}\n",
    "\n",
    "res=''\n",
    "for i in a:\n",
    "    if i not in b:\n",
    "        res+=i\n",
    "print(res)\n"
   ]
  }
 ],
 "metadata": {
  "kernelspec": {
   "display_name": "Python 3",
   "language": "python",
   "name": "python3"
  },
  "language_info": {
   "codemirror_mode": {
    "name": "ipython",
    "version": 3
   },
   "file_extension": ".py",
   "mimetype": "text/x-python",
   "name": "python",
   "nbconvert_exporter": "python",
   "pygments_lexer": "ipython3",
   "version": "3.12.3"
  }
 },
 "nbformat": 4,
 "nbformat_minor": 2
}
